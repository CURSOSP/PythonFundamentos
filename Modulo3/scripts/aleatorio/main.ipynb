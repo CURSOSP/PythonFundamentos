{
 "cells": [
  {
   "cell_type": "code",
   "execution_count": 1,
   "id": "55f6cfbb-51ee-4852-8480-4266e5c59001",
   "metadata": {},
   "outputs": [],
   "source": [
    "import aleatorio"
   ]
  },
  {
   "cell_type": "code",
   "execution_count": 3,
   "id": "b55d5ea9-86fb-4e15-8206-c16c68361a6a",
   "metadata": {},
   "outputs": [
    {
     "name": "stdout",
     "output_type": "stream",
     "text": [
      "[0, 80, 32, 37, 15, 83, 46, 94, 30, 73, 59, 87, 43, 67, 7, 58, 80, 49, 88, 17]\n",
      "[0, 7, 15, 17, 30, 32, 37, 43, 46, 49, 58, 59, 67, 73, 80, 80, 83, 87, 88, 94]\n"
     ]
    }
   ],
   "source": [
    "# generando lista de numeros aleatorios\n",
    "lista_random = aleatorio.num_aletorio(0,100, 20)\n",
    "\n",
    "# mostrando lista\n",
    "aleatorio.mostrar_lista(lista_random)\n",
    "\n",
    "# mostrando lista ordenanda\n",
    "aleatorio.sort_list(lista_random.copy())"
   ]
  },
  {
   "cell_type": "code",
   "execution_count": null,
   "id": "e79cb1e4-2f35-4fe8-b1e7-81e2bfbb47a4",
   "metadata": {},
   "outputs": [],
   "source": []
  },
  {
   "cell_type": "code",
   "execution_count": 4,
   "id": "02ab15da-6cc5-42d9-b825-48c3f923b27d",
   "metadata": {},
   "outputs": [],
   "source": [
    "x = 7"
   ]
  },
  {
   "cell_type": "code",
   "execution_count": 5,
   "id": "efb64b54-6faf-44ba-9d0b-5f033a3c7e1c",
   "metadata": {},
   "outputs": [],
   "source": [
    "def cambio(x):\n",
    "    return x * 99"
   ]
  },
  {
   "cell_type": "code",
   "execution_count": 6,
   "id": "fbcc16f6-6481-4956-969c-69630ed0d0c3",
   "metadata": {},
   "outputs": [],
   "source": [
    "x = cambio(x)"
   ]
  },
  {
   "cell_type": "code",
   "execution_count": 7,
   "id": "fde4bcb4-68f0-42d9-aa51-8eb5787f9e5f",
   "metadata": {},
   "outputs": [
    {
     "data": {
      "text/plain": [
       "693"
      ]
     },
     "execution_count": 7,
     "metadata": {},
     "output_type": "execute_result"
    }
   ],
   "source": [
    "x"
   ]
  },
  {
   "cell_type": "code",
   "execution_count": 19,
   "id": "e4ca5776-e29c-46a6-80e6-4058fa3ac75b",
   "metadata": {},
   "outputs": [],
   "source": [
    "lista = [*range(4)]"
   ]
  },
  {
   "cell_type": "code",
   "execution_count": 20,
   "id": "9a1be301-6e7a-450e-96cc-fe23be15763c",
   "metadata": {},
   "outputs": [],
   "source": [
    "def change(lista):\n",
    "    lista[2] = lista[2] * 2\n",
    "    return lista"
   ]
  },
  {
   "cell_type": "code",
   "execution_count": 21,
   "id": "7924d188-4fff-4d7c-bc52-f954ff7e65b1",
   "metadata": {},
   "outputs": [
    {
     "data": {
      "text/plain": [
       "[0, 1, 2, 3]"
      ]
     },
     "execution_count": 21,
     "metadata": {},
     "output_type": "execute_result"
    }
   ],
   "source": [
    "lista"
   ]
  },
  {
   "cell_type": "code",
   "execution_count": 22,
   "id": "299170ff-c193-4ada-91e8-462908de49c8",
   "metadata": {},
   "outputs": [
    {
     "data": {
      "text/plain": [
       "[0, 1, 4, 3]"
      ]
     },
     "execution_count": 22,
     "metadata": {},
     "output_type": "execute_result"
    }
   ],
   "source": [
    "change(lista.copy())"
   ]
  },
  {
   "cell_type": "code",
   "execution_count": 23,
   "id": "fd46e80b-a8bc-4ba6-8133-2348e92f6efd",
   "metadata": {},
   "outputs": [
    {
     "data": {
      "text/plain": [
       "[0, 1, 2, 3]"
      ]
     },
     "execution_count": 23,
     "metadata": {},
     "output_type": "execute_result"
    }
   ],
   "source": [
    "lista"
   ]
  },
  {
   "cell_type": "code",
   "execution_count": null,
   "id": "56d86e00-1961-4699-84b4-475a989163fc",
   "metadata": {},
   "outputs": [],
   "source": []
  }
 ],
 "metadata": {
  "kernelspec": {
   "display_name": "Python 3",
   "language": "python",
   "name": "python3"
  },
  "language_info": {
   "codemirror_mode": {
    "name": "ipython",
    "version": 3
   },
   "file_extension": ".py",
   "mimetype": "text/x-python",
   "name": "python",
   "nbconvert_exporter": "python",
   "pygments_lexer": "ipython3",
   "version": "3.8.11"
  }
 },
 "nbformat": 4,
 "nbformat_minor": 5
}
