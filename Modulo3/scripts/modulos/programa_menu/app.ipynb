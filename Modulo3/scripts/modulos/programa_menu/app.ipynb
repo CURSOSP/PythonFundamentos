{
 "cells": [
  {
   "cell_type": "code",
   "execution_count": 2,
   "id": "33005bcf-1989-4440-bf6e-84e76f37e45a",
   "metadata": {},
   "outputs": [],
   "source": [
    "import validacion_datos as v\n",
    "from calculos_numericos import calculos_basicos"
   ]
  },
  {
   "cell_type": "code",
   "execution_count": 3,
   "id": "60968437-0bdd-4639-8990-5fa1c8faa2b1",
   "metadata": {},
   "outputs": [
    {
     "name": "stdin",
     "output_type": "stream",
     "text": [
      "Ingrese el 1 numero 12\n",
      "Ingrese el 2 numero 15\n"
     ]
    }
   ],
   "source": [
    "\n",
    "\n",
    "list_numeros = []\n",
    "for i in range(2):\n",
    "    msg = 'Ingrese el {} numero'.format(i+1)\n",
    "    # solicito nro\n",
    "    num = v.ingrese_numero_entero(msg)\n",
    "    \n",
    "    # añado a lista\n",
    "    list_numeros.append(num)"
   ]
  },
  {
   "cell_type": "code",
   "execution_count": 4,
   "id": "18a56202-8679-453c-8e08-2017bbda206d",
   "metadata": {},
   "outputs": [
    {
     "data": {
      "text/plain": [
       "[12, 15]"
      ]
     },
     "execution_count": 4,
     "metadata": {},
     "output_type": "execute_result"
    }
   ],
   "source": [
    "list_numeros"
   ]
  },
  {
   "cell_type": "code",
   "execution_count": 7,
   "id": "672450e6-d007-40d8-8ad5-08cb1410f37f",
   "metadata": {},
   "outputs": [
    {
     "data": {
      "text/plain": [
       "27"
      ]
     },
     "execution_count": 7,
     "metadata": {},
     "output_type": "execute_result"
    }
   ],
   "source": [
    "calculos_basicos.sumar(*list_numeros)"
   ]
  },
  {
   "cell_type": "code",
   "execution_count": 15,
   "id": "86b139c8-79aa-4e77-9271-033e198856c5",
   "metadata": {},
   "outputs": [
    {
     "name": "stdout",
     "output_type": "stream",
     "text": [
      "[65, 28, 96, 58, 48, 67, 90, 96, 92, 8, 90, 51, 4, 40, 3, 82, 9, 46, 96, 68, 37, 77, 51, 88, 26, 4, 68, 59, 18, 22, 27, 98, 46, 23, 21, 21, 63, 44, 44, 50, 82, 9, 66, 57, 45, 88, 71, 85, 64, 90, 69, 9, 11, 83, 50, 19, 19, 49, 82, 53, 45, 28, 100, 57, 36, 56, 96, 52, 15, 6, 53, 54, 35, 98, 66, 35, 3, 36, 67, 39, 71, 100, 63, 56, 92, 18, 34, 9, 100, 3, 5, 81, 7, 86, 7, 79, 74, 56, 42, 86]\n"
     ]
    }
   ],
   "source": [
    "from random import randint\n",
    "\n",
    "listado_numero = [random.randint(1,100)  for i in range(100)]\n",
    "print(listado_numero)"
   ]
  },
  {
   "cell_type": "code",
   "execution_count": 16,
   "id": "1b8f6d6c-9c5a-4a59-a9f4-2f4555ba02b2",
   "metadata": {},
   "outputs": [],
   "source": [
    "def suma_indeterminada(*args):\n",
    "    suma = 0\n",
    "    for valor in args:\n",
    "        suma +=valor\n",
    "    \n",
    "    return suma"
   ]
  },
  {
   "cell_type": "code",
   "execution_count": 18,
   "id": "d7f362ed-66ae-4e83-9dda-d77782994a55",
   "metadata": {},
   "outputs": [
    {
     "data": {
      "text/plain": [
       "5171"
      ]
     },
     "execution_count": 18,
     "metadata": {},
     "output_type": "execute_result"
    }
   ],
   "source": [
    "suma_indeterminada(*listado_numero)"
   ]
  },
  {
   "cell_type": "code",
   "execution_count": 19,
   "id": "235cc965-f97e-4a88-a366-4e367597beee",
   "metadata": {},
   "outputs": [
    {
     "data": {
      "text/plain": [
       "5171"
      ]
     },
     "execution_count": 19,
     "metadata": {},
     "output_type": "execute_result"
    }
   ],
   "source": [
    "sum(listado_numero)"
   ]
  },
  {
   "cell_type": "code",
   "execution_count": null,
   "id": "69eca465-da39-4af8-a3b6-fb59174cdc44",
   "metadata": {},
   "outputs": [],
   "source": []
  }
 ],
 "metadata": {
  "kernelspec": {
   "display_name": "Python 3 (ipykernel)",
   "language": "python",
   "name": "python3"
  },
  "language_info": {
   "codemirror_mode": {
    "name": "ipython",
    "version": 3
   },
   "file_extension": ".py",
   "mimetype": "text/x-python",
   "name": "python",
   "nbconvert_exporter": "python",
   "pygments_lexer": "ipython3",
   "version": "3.8.11"
  }
 },
 "nbformat": 4,
 "nbformat_minor": 5
}
