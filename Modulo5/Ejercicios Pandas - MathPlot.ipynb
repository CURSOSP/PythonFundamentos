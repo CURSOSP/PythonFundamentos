{
 "cells": [
  {
   "cell_type": "markdown",
   "id": "942bcb8c-27a3-4efa-882a-bd76708f7520",
   "metadata": {},
   "source": [
    "## Ejercicio 1"
   ]
  },
  {
   "cell_type": "markdown",
   "id": "991189f0-6aae-4992-ae6d-534ab4056b4d",
   "metadata": {},
   "source": [
    "El fichero **titanic.csv** contiene información sobre los pasajeros del Titanic. \n",
    "\n",
    "Escribir un programa con los siguientes requisitos:\n",
    "\n",
    "1. Generar un DataFrame con los datos del fichero.\n",
    "2. Mostrar por pantalla las dimensiones del DataFrame, el número de datos que contiene, los nombres de sus columnas y filas, los tipos de datos de las columnas, las 10 primeras filas y las 10 últimas filas\n",
    "3. Mostrar por pantalla los datos del pasajero con identificador 148.\n",
    "4. Mostrar por pantalla las filas pares del DataFrame.\n",
    "5. Mostrar por pantalla los nombres de las personas que iban en primera clase ordenadas alfabéticamente.\n",
    "6. Mostrar por pantalla el porcentaje de personas que sobrevivieron y murieron.\n",
    "7. Mostrar por pantalla el porcentaje de personas que sobrevivieron en cada clase.\n",
    "8. Eliminar del DataFrame los pasajeros con edad desconocida.\n",
    "9. Mostrar por pantalla la edad media de las mujeres que viajaban en cada clase.\n",
    "10. Añadir una nueva columna booleana para ver si el pasajero era menor de edad o no.\n",
    "11. Mostrar por pantalla el porcentaje de menores y mayores de edad que sobrevivieron en cada clase."
   ]
  },
  {
   "cell_type": "code",
   "execution_count": null,
   "id": "b4a2adec-175f-4c98-ad74-e45a18c961fc",
   "metadata": {},
   "outputs": [],
   "source": [
    "import os\n",
    "import pandas as pd"
   ]
  },
  {
   "cell_type": "code",
   "execution_count": null,
   "id": "4a4d09d9-804c-4778-8d79-1372da4e1677",
   "metadata": {},
   "outputs": [],
   "source": [
    "df = pd.read_csv('./src/titanic.csv')"
   ]
  },
  {
   "cell_type": "code",
   "execution_count": null,
   "id": "5b98f19e-b0d0-40fc-904c-433ec2148c2e",
   "metadata": {},
   "outputs": [],
   "source": []
  },
  {
   "cell_type": "code",
   "execution_count": null,
   "id": "df9e9560-d08b-44a2-ad4b-87e73179a039",
   "metadata": {},
   "outputs": [],
   "source": []
  },
  {
   "cell_type": "markdown",
   "id": "0253b68e-a846-4cec-bbad-68f5815fd0b8",
   "metadata": {},
   "source": [
    "## Ejercicio 2"
   ]
  },
  {
   "cell_type": "markdown",
   "id": "32852c44-34ae-47bc-ac58-7bb1c48ed908",
   "metadata": {},
   "source": [
    "El fichero **titanic.csv** contiene información sobre los pasajeros del Titanic. \n",
    "\n",
    "Crear un dataframe con Pandas y a partir de él generar los siguientes diagramas.\n",
    "\n",
    "1. Diagrama de sectores con los fallecidos y supervivientes.\n",
    "2. Histograma con las edades.\n",
    "3. Diagrama de barras con el número de personas en cada clase.\n",
    "4. Diagrama de barras con el número de personas fallecidas y supervivientes en cada clase.\n",
    "5. Diagrama de barras con el número de personas fallecidas y supervivientes acumuladas en cada clase\n"
   ]
  },
  {
   "cell_type": "code",
   "execution_count": null,
   "id": "54194eb8-31ae-42ec-a86e-c82372f1c5ae",
   "metadata": {},
   "outputs": [],
   "source": [
    "import pandas as pd \n",
    "import matplotlib.pyplot as plt "
   ]
  },
  {
   "cell_type": "code",
   "execution_count": null,
   "id": "30e1137a-45df-4dde-99fd-3899696808b9",
   "metadata": {},
   "outputs": [],
   "source": []
  }
 ],
 "metadata": {
  "kernelspec": {
   "display_name": "Python 3",
   "language": "python",
   "name": "python3"
  },
  "language_info": {
   "codemirror_mode": {
    "name": "ipython",
    "version": 3
   },
   "file_extension": ".py",
   "mimetype": "text/x-python",
   "name": "python",
   "nbconvert_exporter": "python",
   "pygments_lexer": "ipython3",
   "version": "3.8.11"
  }
 },
 "nbformat": 4,
 "nbformat_minor": 5
}
