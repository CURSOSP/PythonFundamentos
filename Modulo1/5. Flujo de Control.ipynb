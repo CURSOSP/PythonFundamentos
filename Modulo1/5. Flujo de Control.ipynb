{
 "cells": [
  {
   "cell_type": "markdown",
   "metadata": {},
   "source": [
    "# FLUJO DE CONTROL"
   ]
  },
  {
   "cell_type": "markdown",
   "metadata": {},
   "source": [
    "El flujo de control ayudará a nuestro programa en la toma de decisiones"
   ]
  },
  {
   "cell_type": "markdown",
   "metadata": {},
   "source": [
    "<center> <img src='https://4.bp.blogspot.com/_QWwb06N-r1Y/TMeaj_jf7aI/AAAAAAAAARA/CUtpkzy0Pjo/s1600/selectiva.png' width=\"400\" height=\"250\"></center>"
   ]
  },
  {
   "cell_type": "markdown",
   "metadata": {},
   "source": [
    "## 1. Flujo de control (if - else) "
   ]
  },
  {
   "cell_type": "markdown",
   "metadata": {},
   "source": [
    "El uso de condiciones nos permite tener un mayor control sobre el flujo del programa."
   ]
  },
  {
   "cell_type": "code",
   "execution_count": 1,
   "metadata": {},
   "outputs": [
    {
     "name": "stdout",
     "output_type": "stream",
     "text": [
      "Hola\n"
     ]
    }
   ],
   "source": [
    "# Uso de la sentencia if (si)\n",
    "if True:\n",
    "    print('Hola')"
   ]
  },
  {
   "cell_type": "code",
   "execution_count": 3,
   "metadata": {},
   "outputs": [
    {
     "name": "stdout",
     "output_type": "stream",
     "text": [
      "hola\n"
     ]
    }
   ],
   "source": [
    "if True:\n",
    "    print('hola')  # 4 veces espacio"
   ]
  },
  {
   "cell_type": "code",
   "execution_count": 4,
   "metadata": {},
   "outputs": [
    {
     "name": "stdout",
     "output_type": "stream",
     "text": [
      "el valor de x = 85 es distinto de 8\n"
     ]
    }
   ],
   "source": [
    "# Sentencia else (si no)\n",
    "x = 85\n",
    "if x == 8 :\n",
    "    print('el valor de x es 8')  # 4 espacios\n",
    "else:\n",
    "    print('el valor de x = {} es distinto de 8'.format(x))\n",
    "    #print('el valor de x es {}'.format(x))"
   ]
  },
  {
   "cell_type": "code",
   "execution_count": 8,
   "metadata": {},
   "outputs": [
    {
     "name": "stdout",
     "output_type": "stream",
     "text": [
      "a vale 5\n",
      "y b vale 10\n"
     ]
    }
   ],
   "source": [
    "# uso de If anidado\n",
    "a = 5\n",
    "b = 10\n",
    "if a == 5:\n",
    "    print(\"a vale\",a)\n",
    "    \n",
    "    if b == 10:\n",
    "        print('y b vale',b)"
   ]
  },
  {
   "cell_type": "markdown",
   "metadata": {},
   "source": [
    "## 2. Sentencia elif (sino si)"
   ]
  },
  {
   "cell_type": "markdown",
   "metadata": {},
   "source": [
    "Se encadena a un if u otro elif para comprobar múltiples condiciones, siempre que las anteriores no se ejecuten:"
   ]
  },
  {
   "cell_type": "code",
   "execution_count": 9,
   "metadata": {},
   "outputs": [
    {
     "name": "stdout",
     "output_type": "stream",
     "text": [
      "el valor de x es 10\n"
     ]
    }
   ],
   "source": [
    "# Sentencia else (si no)\n",
    "x=10\n",
    "if x==8 :\n",
    "    print('el valor de x es 8')\n",
    "elif x==9:\n",
    "    print('el valor de x es 9')\n",
    "elif x==10:\n",
    "    print('el valor de x es 10')\n",
    "else:\n",
    "    print('el valor de x es distinto de 8,9 y 10')"
   ]
  },
  {
   "cell_type": "markdown",
   "metadata": {},
   "source": [
    "# EJERCICIOS"
   ]
  },
  {
   "cell_type": "markdown",
   "metadata": {},
   "source": [
    "#### 1.\n",
    "Crear un programa que permita decidir a una persona cruzar la calle o no según:\n",
    "- Si semáforo esta en verde cruzar la calle\n",
    "- Si semáforo esta en rojo o amarillo no cruzar\n",
    "\n",
    "La persona debe poder ingresar el estado del semáforo por teclado"
   ]
  },
  {
   "cell_type": "code",
   "execution_count": 2,
   "metadata": {},
   "outputs": [
    {
     "name": "stdin",
     "output_type": "stream",
     "text": [
      "Diga el valor del color del semaforo:  Rojo\n"
     ]
    },
    {
     "name": "stdout",
     "output_type": "stream",
     "text": [
      "no puede  cruzar\n"
     ]
    }
   ],
   "source": [
    "color_semaforo=input(\"Diga el valor del color del semaforo: \")\n",
    "\n",
    "color_semaforo=color_semaforo.upper()\n",
    "\n",
    "if color_semaforo==\"VERDE\":\n",
    "    print(\"puede cruzar la calle\")\n",
    "elif color_semaforo in [\"ROJO\", \"AMARRILLO\"]:\n",
    "    print(\"no puede  cruzar\")\n",
    "else:\n",
    "    print(\"ingrese un color correcto\")"
   ]
  },
  {
   "cell_type": "markdown",
   "metadata": {},
   "source": [
    "#### 2.\n",
    "Escribir un programa que pregunte al usuario su edad y muestre por pantalla si es mayor de edad o no."
   ]
  },
  {
   "cell_type": "code",
   "execution_count": null,
   "metadata": {},
   "outputs": [],
   "source": [
    "edad=int(input(\"ingrese su edad :\"))\n",
    "type(edad)\n",
    "if edad>=18:\n",
    "    print(\"es mayor de edad\")\n",
    "else:\n",
    "    print(\"es menor de edad\")"
   ]
  },
  {
   "cell_type": "markdown",
   "metadata": {},
   "source": [
    "#### 3.\n",
    "Escribir un programa que almacene la cadena de caracteres <b>contraseña</b> en una variable, pregunte al usuario por la contraseña e imprima por pantalla si la contraseña introducida por el usuario coincide con la guardada en la variable sin tener en cuenta mayúsculas y minúsculas."
   ]
  },
  {
   "cell_type": "code",
   "execution_count": null,
   "metadata": {},
   "outputs": [],
   "source": []
  },
  {
   "cell_type": "markdown",
   "metadata": {},
   "source": [
    "### 4. \n",
    "Escribir un programa que pida al usuario un número entero y muestre por pantalla si es par o impar.\n"
   ]
  },
  {
   "cell_type": "code",
   "execution_count": null,
   "metadata": {},
   "outputs": [],
   "source": [
    "numero=input(\"introduce el numero\")\n",
    "numero=int(numero)\n",
    "\n",
    "if numero%2==0:\n",
    "    print(\"es par\")\n",
    "else:\n",
    "    print(\"es impar\")\n"
   ]
  },
  {
   "cell_type": "code",
   "execution_count": null,
   "metadata": {},
   "outputs": [],
   "source": []
  },
  {
   "cell_type": "markdown",
   "metadata": {},
   "source": [
    "#### 5.\n",
    "Los tramos impositivos para la declaración de la renta en un determinado país son los siguientes:\n",
    "\n",
    "<table>\n",
    "    <thead>\n",
    "        <th style=\"text-align: center\">Renta</th>\n",
    "        <th style=\"text-align: center\">% de Impuesto</th>\n",
    "    </thead>\n",
    "    <tbody>\n",
    "        <tr>\n",
    "            <td style=\"text-align: center\">Menos de 10000€</td>\n",
    "            <td style=\"text-align: center\">5%</td>\n",
    "        </tr>\n",
    "        <tr>\n",
    "            <td style=\"text-align: center\">Entre 10000€ y 20000€</td>\n",
    "            <td style=\"text-align: center\">15%</td>\n",
    "        </tr>\n",
    "        <tr>\n",
    "            <td style=\"text-align: center\">Entre 20000€ y 35000€</td>\n",
    "            <td style=\"text-align: center\">20%</td>\n",
    "        </tr>\n",
    "        <tr>\n",
    "            <td style=\"text-align: center\">Entre 35000€ y 60000€</td>\n",
    "            <td style=\"text-align: center\">30%</td>\n",
    "        </tr>\n",
    "        <tr>\n",
    "            <td style=\"text-align: center\">Más de 60000€</td>\n",
    "            <td style=\"text-align: center\">45%</td>\n",
    "        </tr>\n",
    "    </tbody>\n",
    "</table>\n"
   ]
  },
  {
   "cell_type": "markdown",
   "metadata": {},
   "source": [
    "Realizar un programa que pueda decir el % de impuestos que una persona deba pagar según su sueldo"
   ]
  },
  {
   "cell_type": "code",
   "execution_count": null,
   "metadata": {},
   "outputs": [],
   "source": [
    "sueldo=input(\"ingrese su sueldo\")\n",
    "\n",
    "sueldo=int(sueldo)\n",
    "impuesto=0.0\n",
    "\n",
    "if sueldo<10000:\n",
    "    impuesto=0.05\n",
    "    print(\"su impuesto es 5%\")\n",
    "elif sueldo>=10000 and 20000>=sueldo:\n",
    "    impuesto=0.15\n",
    "    print(\"su impuesto es 15%\")\n",
    "elif sueldo>=20000 and 350000>=sueldo:\n",
    "    print(\"su impuesto es 20%\")\n",
    "    impuesto=0.20\n",
    "elif sueldo>=350000 and 60000>=sueldo:\n",
    "    impuesto=0.30\n",
    "    print(\"su impuesto es 30%\")\n",
    "else:\n",
    "    impuesto=0.45\n",
    "    print(\"su impuesto es 45%\")\n",
    "    \n",
    "sueldo_neto=sueldo*impuesto\n",
    "print(sueldo_neto)"
   ]
  },
  {
   "cell_type": "markdown",
   "metadata": {},
   "source": [
    "#### 6. \n",
    "Realiza un programa que lea dos números por teclado y permita elegir entre 3 opciones en un menú:\n",
    "\n",
    "- Mostrar una suma de los dos números\n",
    "- Mostrar una resta de los dos números (el primero menos el segundo)\n",
    "- Mostrar una multiplicación de los dos números\n",
    "- En caso de introducir una opción inválida, el programa informará de que no es correcta.\n"
   ]
  },
  {
   "cell_type": "code",
   "execution_count": null,
   "metadata": {},
   "outputs": [],
   "source": [
    "print(\"\"\"\n",
    "1 Mostrar una suma de los dos números\n",
    "2 Mostrar una resta de los dos números (el primero menos el segundo)\n",
    "3 Mostrar una multiplicación de los dos números\n",
    "4 En caso de introducir una opción inválida, el programa informará de que no es correcta\"\"\")\n",
    "numeroOne=int(input(\"ingrese un numero \"))\n",
    "numeroTwo=int(input(\"ingrese un numero \"))\n",
    "opcion=int(input(\"elija su opcion \"))\n",
    "resultado=0;\n",
    "\n",
    "if opcion==1:\n",
    "    resultado=numeroOne+numeroTwo\n",
    "elif opcion==2:\n",
    "    resultado=numeroOne-numeroTwo\n",
    "elif opcion==3:\n",
    "    resultado=numeroOne*numeroTwo\n",
    "else:\n",
    "    print(\"ingrese opcion valida\")\n",
    "    \n",
    "print(resultado)"
   ]
  },
  {
   "cell_type": "markdown",
   "metadata": {},
   "source": [
    "#### 7.\n",
    "La pizzería Bella Napoli ofrece pizzas vegetarianas y no vegetarianas a sus clientes. Los ingredientes para cada tipo de pizza aparecen a continuación.\n",
    "\n",
    "- Ingredientes vegetarianos: Pimiento y tofu.\n",
    "- Ingredientes no vegetarianos: Peperoni, Jamón y Salmón.\n",
    "\n",
    "Escribir un programa que pregunte al usuario si quiere una pizza vegetariana o no, y en función de su respuesta le muestre un menú con los ingredientes disponibles para que elija. Solo se puede eligir un ingrediente además de la mozzarella y el tomate que están en todas la pizzas. Al final se debe mostrar por pantalla si la pizza elegida es vegetariana o no y todos los ingredientes que lleva."
   ]
  },
  {
   "cell_type": "code",
   "execution_count": null,
   "metadata": {},
   "outputs": [],
   "source": [
    "print('''Pizza Bella Napoli\n",
    "-Ingredientes vegetarianos: Pimiento y tofu.\n",
    "-Ingredientes no vegetarianos: Peperoni, Jamón y Salmón.\n",
    "''')\n",
    "tipo=input(\"Ingrese V si desea pizza vegetariana o N si no vegetariana\")\n",
    "Mozzarella=input(\"Desea Mozzarella Si o No (S/N)\")\n",
    "\n",
    "if tipo.upper()==\"V\":\n",
    "    if Mozzarella.upper()==\"S\":\n",
    "        print(\"Pimiento ,tofu y Mozzarella\")\n",
    "    else:\n",
    "        print(\" Pimiento y tofu\")\n",
    "else:\n",
    "    if Mozzarella.upper()==\"S\":\n",
    "        print(\"Peperoni, Jamón ,Salmón y Mozzarella\")\n",
    "    else:\n",
    "        print(\"Peperoni, Jamón y Salmón\")"
   ]
  },
  {
   "cell_type": "markdown",
   "metadata": {},
   "source": [
    "#### 8.\n",
    "Escribí un programa que solicite al usuario una letra y, si es una vocal, muestre el mensaje “Es vocal”. Verificar si el usuario ingresó un string de más de un carácter y, en ese caso, informarle que no se puede procesar el dato.\n"
   ]
  },
  {
   "cell_type": "code",
   "execution_count": 3,
   "metadata": {},
   "outputs": [
    {
     "name": "stdout",
     "output_type": "stream",
     "text": [
      "ingrese una letrad\n",
      "No es vocal\n"
     ]
    }
   ],
   "source": [
    "letra=input(\"ingrese una letra\")\n",
    "notVocal=True\n",
    "if letra.upper()==\"A\":\n",
    "    notVocal=False\n",
    "    print(\"Es una vocal\")\n",
    "if letra.upper()==\"E\":\n",
    "    notVocal=False\n",
    "    print(\"Es una vocal\")\n",
    "if letra.upper()==\"O\":\n",
    "    notVocal=False\n",
    "    print(\"Es una vocal\")\n",
    "if letra.upper()==\"I\":\n",
    "    notVocal=False\n",
    "    print(\"Es una vocal\")\n",
    "if letra.upper()==\"U\":\n",
    "    notVocal=False\n",
    "    print(\"Es una vocal\")\n",
    "    \n",
    "if notVocal:\n",
    "    print(\"No es vocal\")"
   ]
  },
  {
   "cell_type": "code",
   "execution_count": null,
   "metadata": {},
   "outputs": [],
   "source": []
  }
 ],
 "metadata": {
  "kernelspec": {
   "display_name": "Python 3",
   "language": "python",
   "name": "python3"
  },
  "language_info": {
   "codemirror_mode": {
    "name": "ipython",
    "version": 3
   },
   "file_extension": ".py",
   "mimetype": "text/x-python",
   "name": "python",
   "nbconvert_exporter": "python",
   "pygments_lexer": "ipython3",
   "version": "3.8.11"
  }
 },
 "nbformat": 4,
 "nbformat_minor": 4
}
