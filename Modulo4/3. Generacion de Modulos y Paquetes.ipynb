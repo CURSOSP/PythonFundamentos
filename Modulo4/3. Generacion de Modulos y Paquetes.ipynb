{
 "cells": [
  {
   "cell_type": "markdown",
   "source": [
    "# Generación de Módulos"
   ],
   "metadata": {}
  },
  {
   "cell_type": "markdown",
   "source": [
    "<img src=https://3.bp.blogspot.com/-LSDB9uldh4k/XEvKWoSFTMI/AAAAAAAAHl4/izzGuCNN_OY_wWIOiw8RdP_w0EfPmge0ACLcBGAs/s1600/Package-Module-Structure.png width=600>"
   ],
   "metadata": {}
  },
  {
   "cell_type": "markdown",
   "source": [
    "Crear un módulo en Python es tan sencillo como crear un script, sólo tenemos que añadir alguna función a un fichero con la extensión <code>.py</code>, por ejemplo <code>saludos.py</code>:"
   ],
   "metadata": {}
  },
  {
   "cell_type": "code",
   "execution_count": null,
   "source": [
    "def saludar():\r\n",
    "    print(\"Hola, te estoy saludando desde la función saludar() \" \\\r\n",
    "            \"del módulo saludos\")"
   ],
   "outputs": [],
   "metadata": {}
  },
  {
   "cell_type": "markdown",
   "source": [
    "Luego ya podremos utilizarlo desde otro script,por ejemplo <code>script.py</code>, en el mismo directorio haciendo un import y el nombre del módulo:"
   ],
   "metadata": {}
  },
  {
   "cell_type": "code",
   "execution_count": null,
   "source": [
    "import saludos\r\n",
    "\r\n",
    "saludos.saludar()"
   ],
   "outputs": [],
   "metadata": {}
  },
  {
   "cell_type": "markdown",
   "source": [
    "También podemos importar funciones directamente, de esta forma ahorraríamos memoria. Podemos hacerlo utilizando la sintaxis from import:"
   ],
   "metadata": {}
  },
  {
   "cell_type": "code",
   "execution_count": null,
   "source": [
    "from saludos import saludar\r\n",
    "\r\n",
    "saludar()"
   ],
   "outputs": [],
   "metadata": {}
  },
  {
   "cell_type": "markdown",
   "source": [
    "Para importar todas las funciones con la sintaxis from import debemos poner un asterisco:"
   ],
   "metadata": {}
  },
  {
   "cell_type": "code",
   "execution_count": null,
   "source": [
    "from saludos import *\r\n",
    "\r\n",
    "saludar()"
   ],
   "outputs": [],
   "metadata": {}
  },
  {
   "cell_type": "markdown",
   "source": [
    "Dicho esto, a parte de funciones también podemos reutilizar clases:\n"
   ],
   "metadata": {}
  },
  {
   "cell_type": "code",
   "execution_count": null,
   "source": [
    "class Saludo():\r\n",
    "    def __init__(self):\r\n",
    "        print(\"Hola, te estoy saludando desde el __init__ \" \\\r\n",
    "                \"de la clase Saludo\")"
   ],
   "outputs": [],
   "metadata": {}
  },
  {
   "cell_type": "markdown",
   "source": [
    "Igual que antes, tendremos que llamar primero al módulo para referirnos a la clase:"
   ],
   "metadata": {}
  },
  {
   "cell_type": "code",
   "execution_count": null,
   "source": [
    "import saludos\r\n",
    "\r\n",
    "s = saludos.Saludo()"
   ],
   "outputs": [],
   "metadata": {}
  },
  {
   "cell_type": "markdown",
   "source": [
    "O cargar solo una clase con el from import:"
   ],
   "metadata": {}
  },
  {
   "cell_type": "code",
   "execution_count": null,
   "source": [
    "from saludos import Saludo\r\n",
    "\r\n",
    "s = Saludo()"
   ],
   "outputs": [],
   "metadata": {}
  },
  {
   "cell_type": "markdown",
   "source": [
    "El problema ocurre cuando queremos utilizar nuestro módulo desde un directorio distinto por ejemplo test/script.py."
   ],
   "metadata": {}
  },
  {
   "cell_type": "code",
   "execution_count": null,
   "source": [],
   "outputs": [],
   "metadata": {}
  },
  {
   "cell_type": "code",
   "execution_count": null,
   "source": [],
   "outputs": [],
   "metadata": {}
  },
  {
   "cell_type": "code",
   "execution_count": null,
   "source": [],
   "outputs": [],
   "metadata": {}
  },
  {
   "cell_type": "code",
   "execution_count": null,
   "source": [],
   "outputs": [],
   "metadata": {}
  },
  {
   "cell_type": "code",
   "execution_count": null,
   "source": [
    "import pandas as pd\r\n",
    "import pyodbc as podbc"
   ],
   "outputs": [],
   "metadata": {}
  },
  {
   "cell_type": "code",
   "execution_count": null,
   "source": [
    "!pip install pyodbc"
   ],
   "outputs": [],
   "metadata": {}
  },
  {
   "cell_type": "code",
   "execution_count": null,
   "source": [
    "def conexion_sql_server(driver,server,database,username,password):\r\n",
    "    print(\"realizando conexion SQL\")\r\n",
    "    connection = podbc.connect('DRIVER='+driver+\r\n",
    "                                ';SERVER='+server+\r\n",
    "                                ';DATABASE='+database+\r\n",
    "                                ';UID='+username+\r\n",
    "                                ';PWD='+ password)\r\n",
    "    print(\"exito!!\")\r\n",
    "    return connection"
   ],
   "outputs": [],
   "metadata": {}
  },
  {
   "cell_type": "code",
   "execution_count": null,
   "source": [
    "def select_to_df(sql_query,connection):\r\n",
    "       #conectando a la base de datos\r\n",
    "        try:\r\n",
    "            #pasanod info a df\r\n",
    "            df = pd.read_sql(sql_query, connection)\r\n",
    "        except Exception as e:\r\n",
    "            print(e)\r\n",
    "        #cerrando conexion\r\n",
    "        connection.close()\r\n",
    "        return df"
   ],
   "outputs": [],
   "metadata": {}
  },
  {
   "cell_type": "code",
   "execution_count": null,
   "source": [
    "driver='{Devart ODBC Driver for PostgreSQL}'\r\n",
    "server='localhost:5432'\r\n",
    "database='db_python'\r\n",
    "username='gdelgadr'\r\n",
    "password='gdelgadr'"
   ],
   "outputs": [],
   "metadata": {}
  },
  {
   "cell_type": "code",
   "execution_count": null,
   "source": [
    "conexion = conexion_sql_server(driver,server,database,username,password)"
   ],
   "outputs": [],
   "metadata": {}
  },
  {
   "cell_type": "code",
   "execution_count": null,
   "source": [
    "df = select_to_df('select * from datos',conexion)"
   ],
   "outputs": [],
   "metadata": {}
  },
  {
   "cell_type": "code",
   "execution_count": null,
   "source": [
    "df.head()"
   ],
   "outputs": [],
   "metadata": {}
  },
  {
   "cell_type": "code",
   "execution_count": null,
   "source": [
    "df.shape"
   ],
   "outputs": [],
   "metadata": {}
  }
 ],
 "metadata": {
  "kernelspec": {
   "display_name": "Python 3",
   "language": "python",
   "name": "python3"
  },
  "language_info": {
   "codemirror_mode": {
    "name": "ipython",
    "version": 3
   },
   "file_extension": ".py",
   "mimetype": "text/x-python",
   "name": "python",
   "nbconvert_exporter": "python",
   "pygments_lexer": "ipython3",
   "version": "3.8.11"
  }
 },
 "nbformat": 4,
 "nbformat_minor": 4
}