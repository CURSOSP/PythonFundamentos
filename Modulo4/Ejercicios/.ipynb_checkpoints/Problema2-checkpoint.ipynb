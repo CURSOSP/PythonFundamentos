{
 "cells": [
  {
   "cell_type": "markdown",
   "id": "2ee2cee9-d732-4464-8fd2-ab5df49b5bc3",
   "metadata": {},
   "source": [
    "# Validacion de Tarjetas de Crédito (REGEX)\n",
    "-------------------------------"
   ]
  },
  {
   "cell_type": "markdown",
   "id": "a455722e-b05e-4df8-9976-a4a8a988f85a",
   "metadata": {},
   "source": [
    "Fredrick y tú son buenos amigos. Ayer, Fredrick recibió **N** tarjetas de crédito de **ABCD Bank**. Fredrick requiere verificar si los números de su tarjeta de crédito son válidos o no. Resulta que eres excelente en expresiones regulares, ¡así que él está pidiendo tu ayuda!\n",
    "\n",
    "Una tarjeta de crédito válida de **ABCD Bank** tiene las siguientes características:"
   ]
  },
  {
   "cell_type": "markdown",
   "id": "754d82ee-1797-41c4-92d6-8e5705eb13c3",
   "metadata": {},
   "source": [
    "- Los números de tarjetas deben iniciar con 4, 5 o 6\n",
    "- La cantidad de dígitos deben ser 16\n",
    "- Deben ser digitos entre [0 - 9]\n",
    "- Puede tener dígitos en grupos de **4**, separados por un guión \"-\".\n",
    "- No debe contener ningún otro separador como ' ' , '_', etc.\n",
    "- No debe tener **4** o más dígitos repetidos consecutivos."
   ]
  },
  {
   "cell_type": "markdown",
   "id": "65470b2f-a042-4d82-ab11-44eccce7f0ab",
   "metadata": {
    "tags": []
   },
   "source": [
    "## Ejemplos"
   ]
  },
  {
   "cell_type": "markdown",
   "id": "9a441144-e752-4ab0-833e-01d638f90916",
   "metadata": {},
   "source": [
    "### 1. Numeros de tarjetas válidas\n"
   ]
  },
  {
   "cell_type": "markdown",
   "id": "84be672b-df77-4985-92da-c115e7e269e0",
   "metadata": {},
   "source": [
    "<code>\n",
    "4253625879615786\n",
    "4424424424442444\n",
    "5122-2368-7954-3214\n",
    "</code>"
   ]
  },
  {
   "cell_type": "markdown",
   "id": "b0915b09-0be1-402b-b027-36e5d3dab72c",
   "metadata": {},
   "source": [
    "### 2. Numeros de tarjetas INválidas\n"
   ]
  },
  {
   "cell_type": "markdown",
   "id": "a9263555-0a87-4cb6-956b-4e7a5e44d0e6",
   "metadata": {},
   "source": [
    "<code>\n",
    "42536258796157867       # 17 digitos en la tarjeta → Invalid \n",
    "4424444424442444        # Los dígitos consecutivos se repiten 4 o más veces → Invalid\n",
    "5122-2368-7954 - 3214   # Se utilizan separadores diferente de '-' → Invalid\n",
    "44244x4424442444        # Contiene carácteres no numéricos → Invalid\n",
    "0525362587961578        # No inicializa con 4, 5, o 6 → Invalid\n",
    "</code>"
   ]
  },
  {
   "cell_type": "markdown",
   "id": "fb55e43f-162d-4f8e-aaaf-a242341be39d",
   "metadata": {},
   "source": [
    "## Salida del Programa\n",
    "----------------------------"
   ]
  },
  {
   "cell_type": "markdown",
   "id": "94294e0a-d9b2-41e8-89ba-005f1ffec414",
   "metadata": {},
   "source": [
    "Su programa debe arrojar '**Valid**' cuando el numero de tarjeta sea valido o '**Invalid**' cuando el numero de tarjeta no cumpla alguno de los requisitos"
   ]
  },
  {
   "cell_type": "markdown",
   "id": "722a9f9f-dc94-42f7-9e0e-836e59d6054e",
   "metadata": {},
   "source": [
    "## Test\n",
    "-----------------------"
   ]
  },
  {
   "cell_type": "markdown",
   "id": "bb0b5a48-4e1e-4ddf-b462-a91c60a2bcfd",
   "metadata": {},
   "source": [
    "### INPUT\n",
    "\n",
    "Puede Probar su programa con los siguientes numeros de tarjetas recibidas como input"
   ]
  },
  {
   "cell_type": "markdown",
   "id": "3009c1de-6421-428e-b507-dedebe1b4729",
   "metadata": {},
   "source": [
    "<code>\n",
    "4123456789123456\n",
    "5123-4567-8912-3456\n",
    "61234-567-8912-3456\n",
    "4123356789123456\n",
    "5133-3367-8912-3456\n",
    "5123 - 3567 - 8912 - 3456\n",
    "</code>"
   ]
  },
  {
   "cell_type": "markdown",
   "id": "ca6483c3-0960-495a-96a6-a0cab15b3fea",
   "metadata": {},
   "source": [
    "### SALIDA ESPERADA"
   ]
  },
  {
   "cell_type": "markdown",
   "id": "64205415-c2cb-4544-a22a-4e6a268cac86",
   "metadata": {},
   "source": [
    "Valid\n",
    "\n",
    "Valid\n",
    "\n",
    "Invalid\n",
    "\n",
    "Valid\n",
    "\n",
    "Invalid\n",
    "\n",
    "Invalid"
   ]
  },
  {
   "cell_type": "markdown",
   "id": "25b5b46e-a5d1-4c22-bcbf-6b9bc93252d9",
   "metadata": {},
   "source": [
    "### Explicacion"
   ]
  },
  {
   "cell_type": "markdown",
   "id": "0704acb2-c03c-46d3-a7d6-b9ffaf45771d",
   "metadata": {},
   "source": [
    "<code>\n",
    "4123456789123456 : Valid\n",
    "5123-4567-8912-3456 : Valid\n",
    "61234-567-8912-3456 : Invalid, dado que el numero de tarjeta no se encuentra dividido en 4 grupos iguales\n",
    "4123356789123456 : Valid\n",
    "5133-3367-8912-3456 : Invalid, digitos consecutivos 3333 se repite 4 veces.\n",
    "5123456789123456 : Invalid, dado que espcio '  ' y - son usuados como separadores.\n",
    "</code>"
   ]
  },
  {
   "cell_type": "markdown",
   "id": "777b9ca9-bd8b-436f-9d05-50eb65099f3d",
   "metadata": {},
   "source": [
    "# Solucion\n",
    "-----------------------"
   ]
  },
  {
   "cell_type": "code",
   "execution_count": 1,
   "id": "a33076cc-ddb8-46a2-ad9e-f2f0dc8894be",
   "metadata": {},
   "outputs": [],
   "source": [
    "import re"
   ]
  },
  {
   "cell_type": "code",
   "execution_count": 33,
   "id": "c626506b-ee97-40c1-93c9-de2e93b4cae8",
   "metadata": {},
   "outputs": [],
   "source": [
    "regex = r'^[456]{1}\\d{3}-?\\d{4}-?\\d{4}-?\\d{4}$'"
   ]
  },
  {
   "cell_type": "code",
   "execution_count": 34,
   "id": "f8e04d0a-acda-4117-aab4-f9dab44c2f3b",
   "metadata": {},
   "outputs": [],
   "source": [
    "tarjetas = [\n",
    "    '4123456789123456',\n",
    "    '5123-4567-8912-3456',\n",
    "    '61234-567-8912-3456',\n",
    "    '4123356789123456',\n",
    "    '5133-3367-8912-3456',\n",
    "    '5123 - 3567 - 8912 - 3456'\n",
    "]"
   ]
  },
  {
   "cell_type": "code",
   "execution_count": 48,
   "id": "a175707b-c9fb-423b-ab5a-f110e3750fdb",
   "metadata": {},
   "outputs": [],
   "source": [
    "\n",
    "def validar_repetidos(tarjeta: str)->bool:\n",
    "    tarjeta = tarjeta.replace('-','')\n",
    "    print(tarjeta)\n",
    "    \n",
    "    regexs = [r'[0]{4}',r'[1]{4}',r'[2]{4}',r'[3]{4}',r'[4]{4}',r'[5]{4}',r'[6]{4}',r'[7]{4}',r'[8]{4}',r'[9]{4}']\n",
    "    \n",
    "    for regex in regexs:\n",
    "        print(re.findall(regex, tarjeta))\n",
    "        if re.findall(regex, tarjeta):\n",
    "            return True\n",
    "        break\n",
    "    return False"
   ]
  },
  {
   "cell_type": "code",
   "execution_count": 39,
   "id": "02a65f07-1b45-4c44-9563-457968516cd4",
   "metadata": {},
   "outputs": [
    {
     "name": "stdout",
     "output_type": "stream",
     "text": [
      "False\n",
      "4123456789123456 -> Valido\n",
      "False\n",
      "5123-4567-8912-3456 -> Valido\n",
      "61234-567-8912-3456 -> Invalido\n",
      "False\n",
      "4123356789123456 -> Valido\n",
      "False\n",
      "5133-3367-8912-3456 -> Valido\n",
      "5123 - 3567 - 8912 - 3456 -> Invalido\n"
     ]
    }
   ],
   "source": [
    "for tarjeta in tarjetas:\n",
    "    if re.match(regex, tarjeta):\n",
    "        \n",
    "        validacion = validar_repetidos(tarjeta)\n",
    "        if not validacion:\n",
    "            print(f'{tarjeta} -> Valido')\n",
    "        else:\n",
    "            print(f'{tarjeta} -> Invalido')\n",
    "    else:\n",
    "        print(f'{tarjeta} -> Invalido')"
   ]
  },
  {
   "cell_type": "code",
   "execution_count": null,
   "id": "9fc87e3a-ea39-44d4-bf5a-22cc61be85ff",
   "metadata": {},
   "outputs": [],
   "source": [
    "4123456789123456 : Valid\n",
    "5123-4567-8912-3456 : Valid\n",
    "61234-567-8912-3456 : Invalid, dado que el numero de tarjeta no se encuentra dividido en 4 grupos iguales\n",
    "4123356789123456 : Valid\n",
    "5133-3367-8912-3456 : Invalid, digitos consecutivos 3333 se repite 4 veces.\n",
    "5123456789123456 : Invalid, dado que espcio '  ' y - son usuados como separadores."
   ]
  },
  {
   "cell_type": "code",
   "execution_count": 9,
   "id": "d8d35012-43cb-4c09-b741-c6773fc16dac",
   "metadata": {},
   "outputs": [],
   "source": [
    "tarjeta = '5133-3367-8912-3456'"
   ]
  },
  {
   "cell_type": "code",
   "execution_count": 10,
   "id": "1c3eab79-0646-4dc8-a40c-f33f203112f1",
   "metadata": {},
   "outputs": [],
   "source": [
    "tarjeta = tarjeta.replace('-','')"
   ]
  },
  {
   "cell_type": "code",
   "execution_count": null,
   "id": "017d6ee6-eebc-4965-8c0d-56cc9de6e351",
   "metadata": {},
   "outputs": [],
   "source": [
    "regex = r'[]{4}'"
   ]
  },
  {
   "cell_type": "code",
   "execution_count": 49,
   "id": "d2fa4b1f-e473-410b-a52f-4dc5106b849b",
   "metadata": {},
   "outputs": [
    {
     "name": "stdout",
     "output_type": "stream",
     "text": [
      "5133336789123456\n",
      "[]\n"
     ]
    },
    {
     "data": {
      "text/plain": [
       "False"
      ]
     },
     "execution_count": 49,
     "metadata": {},
     "output_type": "execute_result"
    }
   ],
   "source": [
    "validar_repetidos('5133-3367-8912-3456')"
   ]
  },
  {
   "cell_type": "code",
   "execution_count": 18,
   "id": "c96a95c8-da9b-4a50-a2fc-1eec984034c8",
   "metadata": {},
   "outputs": [
    {
     "data": {
      "text/plain": [
       "['3333']"
      ]
     },
     "execution_count": 18,
     "metadata": {},
     "output_type": "execute_result"
    }
   ],
   "source": []
  },
  {
   "cell_type": "code",
   "execution_count": 16,
   "id": "2de84bb3-c091-43a6-91a3-54619a265912",
   "metadata": {},
   "outputs": [],
   "source": [
    "x"
   ]
  },
  {
   "cell_type": "code",
   "execution_count": null,
   "id": "6c078f88-b6a3-4b76-bc2a-160b40943283",
   "metadata": {},
   "outputs": [],
   "source": []
  }
 ],
 "metadata": {
  "kernelspec": {
   "display_name": "Python 3 (ipykernel)",
   "language": "python",
   "name": "python3"
  },
  "language_info": {
   "codemirror_mode": {
    "name": "ipython",
    "version": 3
   },
   "file_extension": ".py",
   "mimetype": "text/x-python",
   "name": "python",
   "nbconvert_exporter": "python",
   "pygments_lexer": "ipython3",
   "version": "3.8.11"
  }
 },
 "nbformat": 4,
 "nbformat_minor": 5
}
