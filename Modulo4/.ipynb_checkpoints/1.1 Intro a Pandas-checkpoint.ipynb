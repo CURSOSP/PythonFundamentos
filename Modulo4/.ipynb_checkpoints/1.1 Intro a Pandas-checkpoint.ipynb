{
 "cells": [
  {
   "cell_type": "markdown",
   "metadata": {},
   "source": [
    "# Introduccion a Pandas"
   ]
  },
  {
   "cell_type": "code",
   "execution_count": 1,
   "metadata": {},
   "outputs": [],
   "source": [
    "import pandas as pd"
   ]
  },
  {
   "cell_type": "code",
   "execution_count": 2,
   "metadata": {},
   "outputs": [
    {
     "data": {
      "text/plain": [
       "'1.1.3'"
      ]
     },
     "execution_count": 2,
     "metadata": {},
     "output_type": "execute_result"
    }
   ],
   "source": [
    "pd.__version__"
   ]
  },
  {
   "cell_type": "code",
   "execution_count": 3,
   "metadata": {},
   "outputs": [
    {
     "name": "stdout",
     "output_type": "stream",
     "text": [
      "Requirement already satisfied: pandas in c:\\users\\gon_2\\anaconda3\\lib\\site-packages (1.1.3)\n",
      "Requirement already satisfied: pytz>=2017.2 in c:\\users\\gon_2\\anaconda3\\lib\\site-packages (from pandas) (2020.1)\n",
      "Requirement already satisfied: python-dateutil>=2.7.3 in c:\\users\\gon_2\\anaconda3\\lib\\site-packages (from pandas) (2.8.1)\n",
      "Requirement already satisfied: numpy>=1.15.4 in c:\\users\\gon_2\\anaconda3\\lib\\site-packages (from pandas) (1.19.2)\n",
      "Requirement already satisfied: six>=1.5 in c:\\users\\gon_2\\anaconda3\\lib\\site-packages (from python-dateutil>=2.7.3->pandas) (1.15.0)\n"
     ]
    }
   ],
   "source": [
    "!pip install pandas"
   ]
  },
  {
   "cell_type": "markdown",
   "metadata": {},
   "source": [
    "http://pandas.pydata.org/\n",
    "\n",
    "Pandas es la extensión logica de numpy al mundo del Análisis de datos. \n",
    "\n",
    "De forma muy general, Pandas extrae la figura del Dataframe conocida por aquellos que usan R a python.\n",
    "\n",
    "Un pandas dataframe es una tabla, lo que es una hoja de excel, con filas y columnas.\n",
    "\n",
    "En pandas cada columna es una Serie que esta definida con un numpy array por debajo."
   ]
  },
  {
   "cell_type": "markdown",
   "metadata": {},
   "source": [
    "### Qué puede hacer pandas por ti?"
   ]
  },
  {
   "cell_type": "markdown",
   "metadata": {},
   "source": [
    "- Cargar datos de diferentes recursos\n",
    "- Búsqueda de una fila o columna en particular\n",
    "- Realización de calculos estadísticos\n",
    "- Processamiento de datos\n",
    "- Combinar datos de múltiples recursos"
   ]
  },
  {
   "cell_type": "markdown",
   "metadata": {},
   "source": [
    "# 1. Creación y Carga de Datos\n",
    "---------------------------------"
   ]
  },
  {
   "cell_type": "markdown",
   "metadata": {},
   "source": [
    "pandas puede leer archivos de muchos tipos, csv, json, excel entre otros"
   ]
  },
  {
   "cell_type": "markdown",
   "metadata": {},
   "source": [
    "<img src='./img/pandas_resources.PNG'>"
   ]
  },
  {
   "cell_type": "markdown",
   "metadata": {},
   "source": [
    "### Creación de dataframes\n",
    "\n",
    "A partir de datos almacenados en diccionarios o listas es posible crear dataframes"
   ]
  },
  {
   "cell_type": "code",
   "execution_count": 4,
   "metadata": {},
   "outputs": [
    {
     "data": {
      "text/html": [
       "<div>\n",
       "<style scoped>\n",
       "    .dataframe tbody tr th:only-of-type {\n",
       "        vertical-align: middle;\n",
       "    }\n",
       "\n",
       "    .dataframe tbody tr th {\n",
       "        vertical-align: top;\n",
       "    }\n",
       "\n",
       "    .dataframe thead th {\n",
       "        text-align: right;\n",
       "    }\n",
       "</style>\n",
       "<table border=\"1\" class=\"dataframe\">\n",
       "  <thead>\n",
       "    <tr style=\"text-align: right;\">\n",
       "      <th></th>\n",
       "      <th>nombre</th>\n",
       "      <th>apellido</th>\n",
       "      <th>edad</th>\n",
       "    </tr>\n",
       "  </thead>\n",
       "  <tbody>\n",
       "    <tr>\n",
       "      <th>0</th>\n",
       "      <td>Rick</td>\n",
       "      <td>Sanchez</td>\n",
       "      <td>60</td>\n",
       "    </tr>\n",
       "    <tr>\n",
       "      <th>1</th>\n",
       "      <td>Morty</td>\n",
       "      <td>Smith</td>\n",
       "      <td>14</td>\n",
       "    </tr>\n",
       "  </tbody>\n",
       "</table>\n",
       "</div>"
      ],
      "text/plain": [
       "  nombre apellido  edad\n",
       "0   Rick  Sanchez    60\n",
       "1  Morty    Smith    14"
      ]
     },
     "execution_count": 4,
     "metadata": {},
     "output_type": "execute_result"
    }
   ],
   "source": [
    "dicx= {\n",
    "    \"nombre\": [\"Rick\", \"Morty\"],\n",
    "    \"apellido\": [\"Sanchez\", \"Smith\"],\n",
    "    \"edad\": [60, 14]\n",
    "    }\n",
    "df_rick_morty = pd.DataFrame(dicx)\n",
    "\n",
    "df_rick_morty"
   ]
  },
  {
   "cell_type": "code",
   "execution_count": 5,
   "metadata": {},
   "outputs": [
    {
     "data": {
      "text/html": [
       "<div>\n",
       "<style scoped>\n",
       "    .dataframe tbody tr th:only-of-type {\n",
       "        vertical-align: middle;\n",
       "    }\n",
       "\n",
       "    .dataframe tbody tr th {\n",
       "        vertical-align: top;\n",
       "    }\n",
       "\n",
       "    .dataframe thead th {\n",
       "        text-align: right;\n",
       "    }\n",
       "</style>\n",
       "<table border=\"1\" class=\"dataframe\">\n",
       "  <thead>\n",
       "    <tr style=\"text-align: right;\">\n",
       "      <th></th>\n",
       "      <th>nombre</th>\n",
       "      <th>apellido</th>\n",
       "      <th>edad</th>\n",
       "    </tr>\n",
       "  </thead>\n",
       "  <tbody>\n",
       "    <tr>\n",
       "      <th>0</th>\n",
       "      <td>Rick</td>\n",
       "      <td>Sanchez</td>\n",
       "      <td>60</td>\n",
       "    </tr>\n",
       "    <tr>\n",
       "      <th>1</th>\n",
       "      <td>Morty</td>\n",
       "      <td>Smith</td>\n",
       "      <td>14</td>\n",
       "    </tr>\n",
       "  </tbody>\n",
       "</table>\n",
       "</div>"
      ],
      "text/plain": [
       "  nombre apellido  edad\n",
       "0   Rick  Sanchez    60\n",
       "1  Morty    Smith    14"
      ]
     },
     "execution_count": 5,
     "metadata": {},
     "output_type": "execute_result"
    }
   ],
   "source": [
    "lista = [[\"Rick\", \"Sanchez\", 60],\n",
    "        [\"Morty\", \"Smith\", 14]]\n",
    "\n",
    "columnas= [\"nombre\", \"apellido\", \"edad\"]\n",
    "\n",
    "df_rick_morty = pd.DataFrame(lista, columns = columnas)\n",
    "df_rick_morty"
   ]
  },
  {
   "cell_type": "code",
   "execution_count": 6,
   "metadata": {},
   "outputs": [
    {
     "data": {
      "text/plain": [
       "pandas.core.frame.DataFrame"
      ]
     },
     "execution_count": 6,
     "metadata": {},
     "output_type": "execute_result"
    }
   ],
   "source": [
    "type(df_rick_morty)"
   ]
  },
  {
   "cell_type": "markdown",
   "metadata": {},
   "source": [
    "### Carga de datos a partir de fuentes de información\n",
    "\n",
    "Pandas soporta múltiples fuentes de información entre los que estan csv , sql, json,excel, etc"
   ]
  },
  {
   "cell_type": "code",
   "execution_count": null,
   "metadata": {},
   "outputs": [],
   "source": [
    "pd.read_csv()"
   ]
  },
  {
   "cell_type": "code",
   "execution_count": 7,
   "metadata": {},
   "outputs": [],
   "source": [
    "# df = pd.read_csv('./data/primary_results.csv')\n",
    "\n",
    "df = pd.read_csv('./data/primary_results.csv',sep=',')\n"
   ]
  },
  {
   "cell_type": "code",
   "execution_count": 9,
   "metadata": {},
   "outputs": [
    {
     "data": {
      "text/html": [
       "<div>\n",
       "<style scoped>\n",
       "    .dataframe tbody tr th:only-of-type {\n",
       "        vertical-align: middle;\n",
       "    }\n",
       "\n",
       "    .dataframe tbody tr th {\n",
       "        vertical-align: top;\n",
       "    }\n",
       "\n",
       "    .dataframe thead th {\n",
       "        text-align: right;\n",
       "    }\n",
       "</style>\n",
       "<table border=\"1\" class=\"dataframe\">\n",
       "  <thead>\n",
       "    <tr style=\"text-align: right;\">\n",
       "      <th></th>\n",
       "      <th>state</th>\n",
       "      <th>state_abbreviation</th>\n",
       "      <th>county</th>\n",
       "      <th>fips</th>\n",
       "      <th>party</th>\n",
       "      <th>candidate</th>\n",
       "      <th>votes</th>\n",
       "      <th>fraction_votes</th>\n",
       "    </tr>\n",
       "  </thead>\n",
       "  <tbody>\n",
       "    <tr>\n",
       "      <th>0</th>\n",
       "      <td>Alabama</td>\n",
       "      <td>AL</td>\n",
       "      <td>Autauga</td>\n",
       "      <td>1001.0</td>\n",
       "      <td>Democrat</td>\n",
       "      <td>Bernie Sanders</td>\n",
       "      <td>544</td>\n",
       "      <td>0.182</td>\n",
       "    </tr>\n",
       "    <tr>\n",
       "      <th>1</th>\n",
       "      <td>Alabama</td>\n",
       "      <td>AL</td>\n",
       "      <td>Autauga</td>\n",
       "      <td>1001.0</td>\n",
       "      <td>Democrat</td>\n",
       "      <td>Hillary Clinton</td>\n",
       "      <td>2387</td>\n",
       "      <td>0.800</td>\n",
       "    </tr>\n",
       "    <tr>\n",
       "      <th>2</th>\n",
       "      <td>Alabama</td>\n",
       "      <td>AL</td>\n",
       "      <td>Baldwin</td>\n",
       "      <td>1003.0</td>\n",
       "      <td>Democrat</td>\n",
       "      <td>Bernie Sanders</td>\n",
       "      <td>2694</td>\n",
       "      <td>0.329</td>\n",
       "    </tr>\n",
       "    <tr>\n",
       "      <th>3</th>\n",
       "      <td>Alabama</td>\n",
       "      <td>AL</td>\n",
       "      <td>Baldwin</td>\n",
       "      <td>1003.0</td>\n",
       "      <td>Democrat</td>\n",
       "      <td>Hillary Clinton</td>\n",
       "      <td>5290</td>\n",
       "      <td>0.647</td>\n",
       "    </tr>\n",
       "    <tr>\n",
       "      <th>4</th>\n",
       "      <td>Alabama</td>\n",
       "      <td>AL</td>\n",
       "      <td>Barbour</td>\n",
       "      <td>1005.0</td>\n",
       "      <td>Democrat</td>\n",
       "      <td>Bernie Sanders</td>\n",
       "      <td>222</td>\n",
       "      <td>0.078</td>\n",
       "    </tr>\n",
       "  </tbody>\n",
       "</table>\n",
       "</div>"
      ],
      "text/plain": [
       "     state state_abbreviation   county    fips     party        candidate  \\\n",
       "0  Alabama                 AL  Autauga  1001.0  Democrat   Bernie Sanders   \n",
       "1  Alabama                 AL  Autauga  1001.0  Democrat  Hillary Clinton   \n",
       "2  Alabama                 AL  Baldwin  1003.0  Democrat   Bernie Sanders   \n",
       "3  Alabama                 AL  Baldwin  1003.0  Democrat  Hillary Clinton   \n",
       "4  Alabama                 AL  Barbour  1005.0  Democrat   Bernie Sanders   \n",
       "\n",
       "   votes  fraction_votes  \n",
       "0    544           0.182  \n",
       "1   2387           0.800  \n",
       "2   2694           0.329  \n",
       "3   5290           0.647  \n",
       "4    222           0.078  "
      ]
     },
     "execution_count": 9,
     "metadata": {},
     "output_type": "execute_result"
    }
   ],
   "source": [
    "df.head()"
   ]
  },
  {
   "cell_type": "code",
   "execution_count": 12,
   "metadata": {},
   "outputs": [],
   "source": [
    "# df_tabla_muestra = pd.read_clipboard()"
   ]
  },
  {
   "cell_type": "code",
   "execution_count": 13,
   "metadata": {},
   "outputs": [
    {
     "data": {
      "text/html": [
       "<div>\n",
       "<style scoped>\n",
       "    .dataframe tbody tr th:only-of-type {\n",
       "        vertical-align: middle;\n",
       "    }\n",
       "\n",
       "    .dataframe tbody tr th {\n",
       "        vertical-align: top;\n",
       "    }\n",
       "\n",
       "    .dataframe thead th {\n",
       "        text-align: right;\n",
       "    }\n",
       "</style>\n",
       "<table border=\"1\" class=\"dataframe\">\n",
       "  <thead>\n",
       "    <tr style=\"text-align: right;\">\n",
       "      <th></th>\n",
       "      <th>state</th>\n",
       "      <th>state_abbreviation</th>\n",
       "      <th>county</th>\n",
       "      <th>fips</th>\n",
       "      <th>party</th>\n",
       "      <th>candidate</th>\n",
       "      <th>votes</th>\n",
       "      <th>fraction_votes</th>\n",
       "      <th>shape</th>\n",
       "      <th>letra_estado</th>\n",
       "      <th>FIPStxt</th>\n",
       "      <th>PCTPOVALL_2015</th>\n",
       "    </tr>\n",
       "  </thead>\n",
       "  <tbody>\n",
       "    <tr>\n",
       "      <th>0</th>\n",
       "      <td>Alabama</td>\n",
       "      <td>AL</td>\n",
       "      <td>Autauga</td>\n",
       "      <td>1001</td>\n",
       "      <td>Democrat</td>\n",
       "      <td>Bernie Sanders</td>\n",
       "      <td>544</td>\n",
       "      <td>0.182</td>\n",
       "      <td>1</td>\n",
       "      <td>A</td>\n",
       "      <td>1001</td>\n",
       "      <td>12.7</td>\n",
       "    </tr>\n",
       "    <tr>\n",
       "      <th>1</th>\n",
       "      <td>Alabama</td>\n",
       "      <td>AL</td>\n",
       "      <td>Autauga</td>\n",
       "      <td>1001</td>\n",
       "      <td>Democrat</td>\n",
       "      <td>Hillary Clinton</td>\n",
       "      <td>2387</td>\n",
       "      <td>0.800</td>\n",
       "      <td>1</td>\n",
       "      <td>A</td>\n",
       "      <td>1001</td>\n",
       "      <td>12.7</td>\n",
       "    </tr>\n",
       "    <tr>\n",
       "      <th>2</th>\n",
       "      <td>Alabama</td>\n",
       "      <td>AL</td>\n",
       "      <td>Autauga</td>\n",
       "      <td>1001</td>\n",
       "      <td>Republican</td>\n",
       "      <td>Ben Carson</td>\n",
       "      <td>1764</td>\n",
       "      <td>0.146</td>\n",
       "      <td>1</td>\n",
       "      <td>A</td>\n",
       "      <td>1001</td>\n",
       "      <td>12.7</td>\n",
       "    </tr>\n",
       "    <tr>\n",
       "      <th>3</th>\n",
       "      <td>Alabama</td>\n",
       "      <td>AL</td>\n",
       "      <td>Autauga</td>\n",
       "      <td>1001</td>\n",
       "      <td>Republican</td>\n",
       "      <td>Donald Trump</td>\n",
       "      <td>5387</td>\n",
       "      <td>0.445</td>\n",
       "      <td>1</td>\n",
       "      <td>A</td>\n",
       "      <td>1001</td>\n",
       "      <td>12.7</td>\n",
       "    </tr>\n",
       "    <tr>\n",
       "      <th>4</th>\n",
       "      <td>Alabama</td>\n",
       "      <td>AL</td>\n",
       "      <td>Autauga</td>\n",
       "      <td>1001</td>\n",
       "      <td>Republican</td>\n",
       "      <td>John Kasich</td>\n",
       "      <td>421</td>\n",
       "      <td>0.035</td>\n",
       "      <td>1</td>\n",
       "      <td>A</td>\n",
       "      <td>1001</td>\n",
       "      <td>12.7</td>\n",
       "    </tr>\n",
       "  </tbody>\n",
       "</table>\n",
       "</div>"
      ],
      "text/plain": [
       "     state state_abbreviation   county  fips       party        candidate  \\\n",
       "0  Alabama                 AL  Autauga  1001    Democrat   Bernie Sanders   \n",
       "1  Alabama                 AL  Autauga  1001    Democrat  Hillary Clinton   \n",
       "2  Alabama                 AL  Autauga  1001  Republican       Ben Carson   \n",
       "3  Alabama                 AL  Autauga  1001  Republican     Donald Trump   \n",
       "4  Alabama                 AL  Autauga  1001  Republican      John Kasich   \n",
       "\n",
       "   votes  fraction_votes  shape letra_estado  FIPStxt  PCTPOVALL_2015  \n",
       "0    544           0.182      1            A     1001            12.7  \n",
       "1   2387           0.800      1            A     1001            12.7  \n",
       "2   1764           0.146      1            A     1001            12.7  \n",
       "3   5387           0.445      1            A     1001            12.7  \n",
       "4    421           0.035      1            A     1001            12.7  "
      ]
     },
     "execution_count": 13,
     "metadata": {},
     "output_type": "execute_result"
    }
   ],
   "source": [
    "# df_tabla_muestra.head()"
   ]
  },
  {
   "cell_type": "code",
   "execution_count": 14,
   "metadata": {},
   "outputs": [],
   "source": [
    "# https://e-consulta.sunat.gob.pe/cl-at-ittipcam/tcS01Alias\n",
    "df_sunat = pd.read_clipboard()\n"
   ]
  },
  {
   "cell_type": "code",
   "execution_count": 15,
   "metadata": {},
   "outputs": [
    {
     "data": {
      "text/html": [
       "<div>\n",
       "<style scoped>\n",
       "    .dataframe tbody tr th:only-of-type {\n",
       "        vertical-align: middle;\n",
       "    }\n",
       "\n",
       "    .dataframe tbody tr th {\n",
       "        vertical-align: top;\n",
       "    }\n",
       "\n",
       "    .dataframe thead th {\n",
       "        text-align: right;\n",
       "    }\n",
       "</style>\n",
       "<table border=\"1\" class=\"dataframe\">\n",
       "  <thead>\n",
       "    <tr style=\"text-align: right;\">\n",
       "      <th></th>\n",
       "      <th>Domingo</th>\n",
       "      <th>Lunes</th>\n",
       "      <th>Martes</th>\n",
       "      <th>Miércoles</th>\n",
       "      <th>Jueves</th>\n",
       "      <th>Viernes</th>\n",
       "      <th>Sábado</th>\n",
       "    </tr>\n",
       "  </thead>\n",
       "  <tbody>\n",
       "    <tr>\n",
       "      <th>0</th>\n",
       "      <td>25</td>\n",
       "      <td>NaN</td>\n",
       "      <td>NaN</td>\n",
       "      <td>NaN</td>\n",
       "      <td>NaN</td>\n",
       "      <td>NaN</td>\n",
       "      <td>NaN</td>\n",
       "    </tr>\n",
       "    <tr>\n",
       "      <th>1</th>\n",
       "      <td>26</td>\n",
       "      <td>NaN</td>\n",
       "      <td>NaN</td>\n",
       "      <td>NaN</td>\n",
       "      <td>NaN</td>\n",
       "      <td>NaN</td>\n",
       "      <td>NaN</td>\n",
       "    </tr>\n",
       "    <tr>\n",
       "      <th>2</th>\n",
       "      <td>27</td>\n",
       "      <td>NaN</td>\n",
       "      <td>NaN</td>\n",
       "      <td>NaN</td>\n",
       "      <td>NaN</td>\n",
       "      <td>NaN</td>\n",
       "      <td>NaN</td>\n",
       "    </tr>\n",
       "    <tr>\n",
       "      <th>3</th>\n",
       "      <td>28</td>\n",
       "      <td>NaN</td>\n",
       "      <td>NaN</td>\n",
       "      <td>NaN</td>\n",
       "      <td>NaN</td>\n",
       "      <td>NaN</td>\n",
       "      <td>NaN</td>\n",
       "    </tr>\n",
       "    <tr>\n",
       "      <th>4</th>\n",
       "      <td>29</td>\n",
       "      <td>NaN</td>\n",
       "      <td>NaN</td>\n",
       "      <td>NaN</td>\n",
       "      <td>NaN</td>\n",
       "      <td>NaN</td>\n",
       "      <td>NaN</td>\n",
       "    </tr>\n",
       "  </tbody>\n",
       "</table>\n",
       "</div>"
      ],
      "text/plain": [
       "  Domingo  Lunes  Martes  Miércoles  Jueves  Viernes  Sábado\n",
       "0      25    NaN     NaN        NaN     NaN      NaN     NaN\n",
       "1      26    NaN     NaN        NaN     NaN      NaN     NaN\n",
       "2      27    NaN     NaN        NaN     NaN      NaN     NaN\n",
       "3      28    NaN     NaN        NaN     NaN      NaN     NaN\n",
       "4      29    NaN     NaN        NaN     NaN      NaN     NaN"
      ]
     },
     "execution_count": 15,
     "metadata": {},
     "output_type": "execute_result"
    }
   ],
   "source": [
    "df_sunat.head()"
   ]
  },
  {
   "cell_type": "markdown",
   "metadata": {},
   "source": [
    "por convención cuando se analiza un solo dataframe se suele llamar df"
   ]
  },
  {
   "cell_type": "code",
   "execution_count": 10,
   "metadata": {},
   "outputs": [
    {
     "data": {
      "text/html": [
       "<div>\n",
       "<style scoped>\n",
       "    .dataframe tbody tr th:only-of-type {\n",
       "        vertical-align: middle;\n",
       "    }\n",
       "\n",
       "    .dataframe tbody tr th {\n",
       "        vertical-align: top;\n",
       "    }\n",
       "\n",
       "    .dataframe thead th {\n",
       "        text-align: right;\n",
       "    }\n",
       "</style>\n",
       "<table border=\"1\" class=\"dataframe\">\n",
       "  <thead>\n",
       "    <tr style=\"text-align: right;\">\n",
       "      <th></th>\n",
       "      <th>state</th>\n",
       "      <th>state_abbreviation</th>\n",
       "      <th>county</th>\n",
       "      <th>fips</th>\n",
       "      <th>party</th>\n",
       "      <th>candidate</th>\n",
       "      <th>votes</th>\n",
       "      <th>fraction_votes</th>\n",
       "    </tr>\n",
       "  </thead>\n",
       "  <tbody>\n",
       "    <tr>\n",
       "      <th>0</th>\n",
       "      <td>Alabama</td>\n",
       "      <td>AL</td>\n",
       "      <td>Autauga</td>\n",
       "      <td>1001.0</td>\n",
       "      <td>Democrat</td>\n",
       "      <td>Bernie Sanders</td>\n",
       "      <td>544</td>\n",
       "      <td>0.182</td>\n",
       "    </tr>\n",
       "    <tr>\n",
       "      <th>1</th>\n",
       "      <td>Alabama</td>\n",
       "      <td>AL</td>\n",
       "      <td>Autauga</td>\n",
       "      <td>1001.0</td>\n",
       "      <td>Democrat</td>\n",
       "      <td>Hillary Clinton</td>\n",
       "      <td>2387</td>\n",
       "      <td>0.800</td>\n",
       "    </tr>\n",
       "    <tr>\n",
       "      <th>2</th>\n",
       "      <td>Alabama</td>\n",
       "      <td>AL</td>\n",
       "      <td>Baldwin</td>\n",
       "      <td>1003.0</td>\n",
       "      <td>Democrat</td>\n",
       "      <td>Bernie Sanders</td>\n",
       "      <td>2694</td>\n",
       "      <td>0.329</td>\n",
       "    </tr>\n",
       "    <tr>\n",
       "      <th>3</th>\n",
       "      <td>Alabama</td>\n",
       "      <td>AL</td>\n",
       "      <td>Baldwin</td>\n",
       "      <td>1003.0</td>\n",
       "      <td>Democrat</td>\n",
       "      <td>Hillary Clinton</td>\n",
       "      <td>5290</td>\n",
       "      <td>0.647</td>\n",
       "    </tr>\n",
       "    <tr>\n",
       "      <th>4</th>\n",
       "      <td>Alabama</td>\n",
       "      <td>AL</td>\n",
       "      <td>Barbour</td>\n",
       "      <td>1005.0</td>\n",
       "      <td>Democrat</td>\n",
       "      <td>Bernie Sanders</td>\n",
       "      <td>222</td>\n",
       "      <td>0.078</td>\n",
       "    </tr>\n",
       "    <tr>\n",
       "      <th>...</th>\n",
       "      <td>...</td>\n",
       "      <td>...</td>\n",
       "      <td>...</td>\n",
       "      <td>...</td>\n",
       "      <td>...</td>\n",
       "      <td>...</td>\n",
       "      <td>...</td>\n",
       "      <td>...</td>\n",
       "    </tr>\n",
       "    <tr>\n",
       "      <th>24606</th>\n",
       "      <td>Wyoming</td>\n",
       "      <td>WY</td>\n",
       "      <td>Teton-Sublette</td>\n",
       "      <td>95600028.0</td>\n",
       "      <td>Republican</td>\n",
       "      <td>Ted Cruz</td>\n",
       "      <td>0</td>\n",
       "      <td>0.000</td>\n",
       "    </tr>\n",
       "    <tr>\n",
       "      <th>24607</th>\n",
       "      <td>Wyoming</td>\n",
       "      <td>WY</td>\n",
       "      <td>Uinta-Lincoln</td>\n",
       "      <td>95600027.0</td>\n",
       "      <td>Republican</td>\n",
       "      <td>Donald Trump</td>\n",
       "      <td>0</td>\n",
       "      <td>0.000</td>\n",
       "    </tr>\n",
       "    <tr>\n",
       "      <th>24608</th>\n",
       "      <td>Wyoming</td>\n",
       "      <td>WY</td>\n",
       "      <td>Uinta-Lincoln</td>\n",
       "      <td>95600027.0</td>\n",
       "      <td>Republican</td>\n",
       "      <td>John Kasich</td>\n",
       "      <td>0</td>\n",
       "      <td>0.000</td>\n",
       "    </tr>\n",
       "    <tr>\n",
       "      <th>24609</th>\n",
       "      <td>Wyoming</td>\n",
       "      <td>WY</td>\n",
       "      <td>Uinta-Lincoln</td>\n",
       "      <td>95600027.0</td>\n",
       "      <td>Republican</td>\n",
       "      <td>Marco Rubio</td>\n",
       "      <td>0</td>\n",
       "      <td>0.000</td>\n",
       "    </tr>\n",
       "    <tr>\n",
       "      <th>24610</th>\n",
       "      <td>Wyoming</td>\n",
       "      <td>WY</td>\n",
       "      <td>Uinta-Lincoln</td>\n",
       "      <td>95600027.0</td>\n",
       "      <td>Republican</td>\n",
       "      <td>Ted Cruz</td>\n",
       "      <td>53</td>\n",
       "      <td>1.000</td>\n",
       "    </tr>\n",
       "  </tbody>\n",
       "</table>\n",
       "<p>24611 rows × 8 columns</p>\n",
       "</div>"
      ],
      "text/plain": [
       "         state state_abbreviation          county        fips       party  \\\n",
       "0      Alabama                 AL         Autauga      1001.0    Democrat   \n",
       "1      Alabama                 AL         Autauga      1001.0    Democrat   \n",
       "2      Alabama                 AL         Baldwin      1003.0    Democrat   \n",
       "3      Alabama                 AL         Baldwin      1003.0    Democrat   \n",
       "4      Alabama                 AL         Barbour      1005.0    Democrat   \n",
       "...        ...                ...             ...         ...         ...   \n",
       "24606  Wyoming                 WY  Teton-Sublette  95600028.0  Republican   \n",
       "24607  Wyoming                 WY   Uinta-Lincoln  95600027.0  Republican   \n",
       "24608  Wyoming                 WY   Uinta-Lincoln  95600027.0  Republican   \n",
       "24609  Wyoming                 WY   Uinta-Lincoln  95600027.0  Republican   \n",
       "24610  Wyoming                 WY   Uinta-Lincoln  95600027.0  Republican   \n",
       "\n",
       "             candidate  votes  fraction_votes  \n",
       "0       Bernie Sanders    544           0.182  \n",
       "1      Hillary Clinton   2387           0.800  \n",
       "2       Bernie Sanders   2694           0.329  \n",
       "3      Hillary Clinton   5290           0.647  \n",
       "4       Bernie Sanders    222           0.078  \n",
       "...                ...    ...             ...  \n",
       "24606         Ted Cruz      0           0.000  \n",
       "24607     Donald Trump      0           0.000  \n",
       "24608      John Kasich      0           0.000  \n",
       "24609      Marco Rubio      0           0.000  \n",
       "24610         Ted Cruz     53           1.000  \n",
       "\n",
       "[24611 rows x 8 columns]"
      ]
     },
     "execution_count": 10,
     "metadata": {},
     "output_type": "execute_result"
    }
   ],
   "source": [
    "df"
   ]
  },
  {
   "cell_type": "markdown",
   "metadata": {},
   "source": [
    "# Exploración\n",
    "-----------------------------"
   ]
  },
  {
   "cell_type": "markdown",
   "metadata": {},
   "source": [
    "`shape` nos devuelve el número de filas y columnas"
   ]
  },
  {
   "cell_type": "code",
   "execution_count": 12,
   "metadata": {},
   "outputs": [
    {
     "data": {
      "text/plain": [
       "(24611, 8)"
      ]
     },
     "execution_count": 12,
     "metadata": {},
     "output_type": "execute_result"
    }
   ],
   "source": [
    "df.shape"
   ]
  },
  {
   "cell_type": "markdown",
   "metadata": {},
   "source": [
    "`head` retorna los primertos 5 resultados contenidos en el dataframe (df)"
   ]
  },
  {
   "cell_type": "code",
   "execution_count": 16,
   "metadata": {},
   "outputs": [
    {
     "data": {
      "text/html": [
       "<div>\n",
       "<style scoped>\n",
       "    .dataframe tbody tr th:only-of-type {\n",
       "        vertical-align: middle;\n",
       "    }\n",
       "\n",
       "    .dataframe tbody tr th {\n",
       "        vertical-align: top;\n",
       "    }\n",
       "\n",
       "    .dataframe thead th {\n",
       "        text-align: right;\n",
       "    }\n",
       "</style>\n",
       "<table border=\"1\" class=\"dataframe\">\n",
       "  <thead>\n",
       "    <tr style=\"text-align: right;\">\n",
       "      <th></th>\n",
       "      <th>state</th>\n",
       "      <th>state_abbreviation</th>\n",
       "      <th>county</th>\n",
       "      <th>fips</th>\n",
       "      <th>party</th>\n",
       "      <th>candidate</th>\n",
       "      <th>votes</th>\n",
       "      <th>fraction_votes</th>\n",
       "    </tr>\n",
       "  </thead>\n",
       "  <tbody>\n",
       "    <tr>\n",
       "      <th>0</th>\n",
       "      <td>Alabama</td>\n",
       "      <td>AL</td>\n",
       "      <td>Autauga</td>\n",
       "      <td>1001.0</td>\n",
       "      <td>Democrat</td>\n",
       "      <td>Bernie Sanders</td>\n",
       "      <td>544</td>\n",
       "      <td>0.182</td>\n",
       "    </tr>\n",
       "    <tr>\n",
       "      <th>1</th>\n",
       "      <td>Alabama</td>\n",
       "      <td>AL</td>\n",
       "      <td>Autauga</td>\n",
       "      <td>1001.0</td>\n",
       "      <td>Democrat</td>\n",
       "      <td>Hillary Clinton</td>\n",
       "      <td>2387</td>\n",
       "      <td>0.800</td>\n",
       "    </tr>\n",
       "    <tr>\n",
       "      <th>2</th>\n",
       "      <td>Alabama</td>\n",
       "      <td>AL</td>\n",
       "      <td>Baldwin</td>\n",
       "      <td>1003.0</td>\n",
       "      <td>Democrat</td>\n",
       "      <td>Bernie Sanders</td>\n",
       "      <td>2694</td>\n",
       "      <td>0.329</td>\n",
       "    </tr>\n",
       "    <tr>\n",
       "      <th>3</th>\n",
       "      <td>Alabama</td>\n",
       "      <td>AL</td>\n",
       "      <td>Baldwin</td>\n",
       "      <td>1003.0</td>\n",
       "      <td>Democrat</td>\n",
       "      <td>Hillary Clinton</td>\n",
       "      <td>5290</td>\n",
       "      <td>0.647</td>\n",
       "    </tr>\n",
       "    <tr>\n",
       "      <th>4</th>\n",
       "      <td>Alabama</td>\n",
       "      <td>AL</td>\n",
       "      <td>Barbour</td>\n",
       "      <td>1005.0</td>\n",
       "      <td>Democrat</td>\n",
       "      <td>Bernie Sanders</td>\n",
       "      <td>222</td>\n",
       "      <td>0.078</td>\n",
       "    </tr>\n",
       "  </tbody>\n",
       "</table>\n",
       "</div>"
      ],
      "text/plain": [
       "     state state_abbreviation   county    fips     party        candidate  \\\n",
       "0  Alabama                 AL  Autauga  1001.0  Democrat   Bernie Sanders   \n",
       "1  Alabama                 AL  Autauga  1001.0  Democrat  Hillary Clinton   \n",
       "2  Alabama                 AL  Baldwin  1003.0  Democrat   Bernie Sanders   \n",
       "3  Alabama                 AL  Baldwin  1003.0  Democrat  Hillary Clinton   \n",
       "4  Alabama                 AL  Barbour  1005.0  Democrat   Bernie Sanders   \n",
       "\n",
       "   votes  fraction_votes  \n",
       "0    544           0.182  \n",
       "1   2387           0.800  \n",
       "2   2694           0.329  \n",
       "3   5290           0.647  \n",
       "4    222           0.078  "
      ]
     },
     "execution_count": 16,
     "metadata": {},
     "output_type": "execute_result"
    }
   ],
   "source": [
    "# head retorna los primeros 5 resultados del dataframe\n",
    "df.head()"
   ]
  },
  {
   "cell_type": "markdown",
   "metadata": {},
   "source": [
    "`tail` retorna los 5 últimos resultados contenidos en el dataframe (df)"
   ]
  },
  {
   "cell_type": "code",
   "execution_count": 14,
   "metadata": {},
   "outputs": [
    {
     "data": {
      "text/html": [
       "<div>\n",
       "<style scoped>\n",
       "    .dataframe tbody tr th:only-of-type {\n",
       "        vertical-align: middle;\n",
       "    }\n",
       "\n",
       "    .dataframe tbody tr th {\n",
       "        vertical-align: top;\n",
       "    }\n",
       "\n",
       "    .dataframe thead th {\n",
       "        text-align: right;\n",
       "    }\n",
       "</style>\n",
       "<table border=\"1\" class=\"dataframe\">\n",
       "  <thead>\n",
       "    <tr style=\"text-align: right;\">\n",
       "      <th></th>\n",
       "      <th>state</th>\n",
       "      <th>state_abbreviation</th>\n",
       "      <th>county</th>\n",
       "      <th>fips</th>\n",
       "      <th>party</th>\n",
       "      <th>candidate</th>\n",
       "      <th>votes</th>\n",
       "      <th>fraction_votes</th>\n",
       "    </tr>\n",
       "  </thead>\n",
       "  <tbody>\n",
       "    <tr>\n",
       "      <th>24606</th>\n",
       "      <td>Wyoming</td>\n",
       "      <td>WY</td>\n",
       "      <td>Teton-Sublette</td>\n",
       "      <td>95600028.0</td>\n",
       "      <td>Republican</td>\n",
       "      <td>Ted Cruz</td>\n",
       "      <td>0</td>\n",
       "      <td>0.0</td>\n",
       "    </tr>\n",
       "    <tr>\n",
       "      <th>24607</th>\n",
       "      <td>Wyoming</td>\n",
       "      <td>WY</td>\n",
       "      <td>Uinta-Lincoln</td>\n",
       "      <td>95600027.0</td>\n",
       "      <td>Republican</td>\n",
       "      <td>Donald Trump</td>\n",
       "      <td>0</td>\n",
       "      <td>0.0</td>\n",
       "    </tr>\n",
       "    <tr>\n",
       "      <th>24608</th>\n",
       "      <td>Wyoming</td>\n",
       "      <td>WY</td>\n",
       "      <td>Uinta-Lincoln</td>\n",
       "      <td>95600027.0</td>\n",
       "      <td>Republican</td>\n",
       "      <td>John Kasich</td>\n",
       "      <td>0</td>\n",
       "      <td>0.0</td>\n",
       "    </tr>\n",
       "    <tr>\n",
       "      <th>24609</th>\n",
       "      <td>Wyoming</td>\n",
       "      <td>WY</td>\n",
       "      <td>Uinta-Lincoln</td>\n",
       "      <td>95600027.0</td>\n",
       "      <td>Republican</td>\n",
       "      <td>Marco Rubio</td>\n",
       "      <td>0</td>\n",
       "      <td>0.0</td>\n",
       "    </tr>\n",
       "    <tr>\n",
       "      <th>24610</th>\n",
       "      <td>Wyoming</td>\n",
       "      <td>WY</td>\n",
       "      <td>Uinta-Lincoln</td>\n",
       "      <td>95600027.0</td>\n",
       "      <td>Republican</td>\n",
       "      <td>Ted Cruz</td>\n",
       "      <td>53</td>\n",
       "      <td>1.0</td>\n",
       "    </tr>\n",
       "  </tbody>\n",
       "</table>\n",
       "</div>"
      ],
      "text/plain": [
       "         state state_abbreviation          county        fips       party  \\\n",
       "24606  Wyoming                 WY  Teton-Sublette  95600028.0  Republican   \n",
       "24607  Wyoming                 WY   Uinta-Lincoln  95600027.0  Republican   \n",
       "24608  Wyoming                 WY   Uinta-Lincoln  95600027.0  Republican   \n",
       "24609  Wyoming                 WY   Uinta-Lincoln  95600027.0  Republican   \n",
       "24610  Wyoming                 WY   Uinta-Lincoln  95600027.0  Republican   \n",
       "\n",
       "          candidate  votes  fraction_votes  \n",
       "24606      Ted Cruz      0             0.0  \n",
       "24607  Donald Trump      0             0.0  \n",
       "24608   John Kasich      0             0.0  \n",
       "24609   Marco Rubio      0             0.0  \n",
       "24610      Ted Cruz     53             1.0  "
      ]
     },
     "execution_count": 14,
     "metadata": {},
     "output_type": "execute_result"
    }
   ],
   "source": [
    "# tail -> retorna los últimos 5 resultados del df\n",
    "df.tail()"
   ]
  },
  {
   "cell_type": "code",
   "execution_count": 17,
   "metadata": {},
   "outputs": [
    {
     "data": {
      "text/plain": [
       "state                  object\n",
       "state_abbreviation     object\n",
       "county                 object\n",
       "fips                  float64\n",
       "party                  object\n",
       "candidate              object\n",
       "votes                   int64\n",
       "fraction_votes        float64\n",
       "dtype: object"
      ]
     },
     "execution_count": 17,
     "metadata": {},
     "output_type": "execute_result"
    }
   ],
   "source": [
    "df.dtypes"
   ]
  },
  {
   "cell_type": "code",
   "execution_count": 18,
   "metadata": {},
   "outputs": [
    {
     "data": {
      "text/html": [
       "<div>\n",
       "<style scoped>\n",
       "    .dataframe tbody tr th:only-of-type {\n",
       "        vertical-align: middle;\n",
       "    }\n",
       "\n",
       "    .dataframe tbody tr th {\n",
       "        vertical-align: top;\n",
       "    }\n",
       "\n",
       "    .dataframe thead th {\n",
       "        text-align: right;\n",
       "    }\n",
       "</style>\n",
       "<table border=\"1\" class=\"dataframe\">\n",
       "  <thead>\n",
       "    <tr style=\"text-align: right;\">\n",
       "      <th></th>\n",
       "      <th>fips</th>\n",
       "      <th>votes</th>\n",
       "      <th>fraction_votes</th>\n",
       "    </tr>\n",
       "  </thead>\n",
       "  <tbody>\n",
       "    <tr>\n",
       "      <th>count</th>\n",
       "      <td>2.451100e+04</td>\n",
       "      <td>24611.000000</td>\n",
       "      <td>24611.000000</td>\n",
       "    </tr>\n",
       "    <tr>\n",
       "      <th>mean</th>\n",
       "      <td>2.667152e+07</td>\n",
       "      <td>2306.252773</td>\n",
       "      <td>0.304524</td>\n",
       "    </tr>\n",
       "    <tr>\n",
       "      <th>std</th>\n",
       "      <td>4.200978e+07</td>\n",
       "      <td>9861.183572</td>\n",
       "      <td>0.231401</td>\n",
       "    </tr>\n",
       "    <tr>\n",
       "      <th>min</th>\n",
       "      <td>1.001000e+03</td>\n",
       "      <td>0.000000</td>\n",
       "      <td>0.000000</td>\n",
       "    </tr>\n",
       "    <tr>\n",
       "      <th>25%</th>\n",
       "      <td>2.109100e+04</td>\n",
       "      <td>68.000000</td>\n",
       "      <td>0.094000</td>\n",
       "    </tr>\n",
       "    <tr>\n",
       "      <th>50%</th>\n",
       "      <td>4.208100e+04</td>\n",
       "      <td>358.000000</td>\n",
       "      <td>0.273000</td>\n",
       "    </tr>\n",
       "    <tr>\n",
       "      <th>75%</th>\n",
       "      <td>9.090012e+07</td>\n",
       "      <td>1375.000000</td>\n",
       "      <td>0.479000</td>\n",
       "    </tr>\n",
       "    <tr>\n",
       "      <th>max</th>\n",
       "      <td>9.560004e+07</td>\n",
       "      <td>590502.000000</td>\n",
       "      <td>1.000000</td>\n",
       "    </tr>\n",
       "  </tbody>\n",
       "</table>\n",
       "</div>"
      ],
      "text/plain": [
       "               fips          votes  fraction_votes\n",
       "count  2.451100e+04   24611.000000    24611.000000\n",
       "mean   2.667152e+07    2306.252773        0.304524\n",
       "std    4.200978e+07    9861.183572        0.231401\n",
       "min    1.001000e+03       0.000000        0.000000\n",
       "25%    2.109100e+04      68.000000        0.094000\n",
       "50%    4.208100e+04     358.000000        0.273000\n",
       "75%    9.090012e+07    1375.000000        0.479000\n",
       "max    9.560004e+07  590502.000000        1.000000"
      ]
     },
     "execution_count": 18,
     "metadata": {},
     "output_type": "execute_result"
    }
   ],
   "source": [
    "# Describe -> nos brinda un resumen de la cantidad de datos, promedio, desviación estandar, minimo, máximo, etc \n",
    "# de los datos de las columnas posibles\n",
    "df.describe()"
   ]
  },
  {
   "cell_type": "markdown",
   "metadata": {},
   "source": [
    "# Seleccion\n",
    "----------------------------"
   ]
  },
  {
   "cell_type": "code",
   "execution_count": 19,
   "metadata": {},
   "outputs": [
    {
     "data": {
      "text/html": [
       "<div>\n",
       "<style scoped>\n",
       "    .dataframe tbody tr th:only-of-type {\n",
       "        vertical-align: middle;\n",
       "    }\n",
       "\n",
       "    .dataframe tbody tr th {\n",
       "        vertical-align: top;\n",
       "    }\n",
       "\n",
       "    .dataframe thead th {\n",
       "        text-align: right;\n",
       "    }\n",
       "</style>\n",
       "<table border=\"1\" class=\"dataframe\">\n",
       "  <thead>\n",
       "    <tr style=\"text-align: right;\">\n",
       "      <th></th>\n",
       "      <th>state</th>\n",
       "      <th>state_abbreviation</th>\n",
       "      <th>county</th>\n",
       "      <th>fips</th>\n",
       "      <th>party</th>\n",
       "      <th>candidate</th>\n",
       "      <th>votes</th>\n",
       "      <th>fraction_votes</th>\n",
       "    </tr>\n",
       "  </thead>\n",
       "  <tbody>\n",
       "    <tr>\n",
       "      <th>0</th>\n",
       "      <td>Alabama</td>\n",
       "      <td>AL</td>\n",
       "      <td>Autauga</td>\n",
       "      <td>1001.0</td>\n",
       "      <td>Democrat</td>\n",
       "      <td>Bernie Sanders</td>\n",
       "      <td>544</td>\n",
       "      <td>0.182</td>\n",
       "    </tr>\n",
       "    <tr>\n",
       "      <th>1</th>\n",
       "      <td>Alabama</td>\n",
       "      <td>AL</td>\n",
       "      <td>Autauga</td>\n",
       "      <td>1001.0</td>\n",
       "      <td>Democrat</td>\n",
       "      <td>Hillary Clinton</td>\n",
       "      <td>2387</td>\n",
       "      <td>0.800</td>\n",
       "    </tr>\n",
       "    <tr>\n",
       "      <th>2</th>\n",
       "      <td>Alabama</td>\n",
       "      <td>AL</td>\n",
       "      <td>Baldwin</td>\n",
       "      <td>1003.0</td>\n",
       "      <td>Democrat</td>\n",
       "      <td>Bernie Sanders</td>\n",
       "      <td>2694</td>\n",
       "      <td>0.329</td>\n",
       "    </tr>\n",
       "    <tr>\n",
       "      <th>3</th>\n",
       "      <td>Alabama</td>\n",
       "      <td>AL</td>\n",
       "      <td>Baldwin</td>\n",
       "      <td>1003.0</td>\n",
       "      <td>Democrat</td>\n",
       "      <td>Hillary Clinton</td>\n",
       "      <td>5290</td>\n",
       "      <td>0.647</td>\n",
       "    </tr>\n",
       "    <tr>\n",
       "      <th>4</th>\n",
       "      <td>Alabama</td>\n",
       "      <td>AL</td>\n",
       "      <td>Barbour</td>\n",
       "      <td>1005.0</td>\n",
       "      <td>Democrat</td>\n",
       "      <td>Bernie Sanders</td>\n",
       "      <td>222</td>\n",
       "      <td>0.078</td>\n",
       "    </tr>\n",
       "  </tbody>\n",
       "</table>\n",
       "</div>"
      ],
      "text/plain": [
       "     state state_abbreviation   county    fips     party        candidate  \\\n",
       "0  Alabama                 AL  Autauga  1001.0  Democrat   Bernie Sanders   \n",
       "1  Alabama                 AL  Autauga  1001.0  Democrat  Hillary Clinton   \n",
       "2  Alabama                 AL  Baldwin  1003.0  Democrat   Bernie Sanders   \n",
       "3  Alabama                 AL  Baldwin  1003.0  Democrat  Hillary Clinton   \n",
       "4  Alabama                 AL  Barbour  1005.0  Democrat   Bernie Sanders   \n",
       "\n",
       "   votes  fraction_votes  \n",
       "0    544           0.182  \n",
       "1   2387           0.800  \n",
       "2   2694           0.329  \n",
       "3   5290           0.647  \n",
       "4    222           0.078  "
      ]
     },
     "execution_count": 19,
     "metadata": {},
     "output_type": "execute_result"
    }
   ],
   "source": [
    "df.head()"
   ]
  },
  {
   "cell_type": "markdown",
   "metadata": {},
   "source": [
    "La columna a la izquierda del state es el index. Un dataframe tiene que tener un index, que es la manera de organizar los datos."
   ]
  },
  {
   "cell_type": "code",
   "execution_count": 20,
   "metadata": {},
   "outputs": [
    {
     "data": {
      "text/plain": [
       "RangeIndex(start=0, stop=24611, step=1)"
      ]
     },
     "execution_count": 20,
     "metadata": {},
     "output_type": "execute_result"
    }
   ],
   "source": [
    "df.index"
   ]
  },
  {
   "cell_type": "code",
   "execution_count": null,
   "metadata": {},
   "outputs": [],
   "source": []
  },
  {
   "cell_type": "markdown",
   "metadata": {},
   "source": [
    "### Seleccion de Columnas"
   ]
  },
  {
   "cell_type": "code",
   "execution_count": 21,
   "metadata": {},
   "outputs": [
    {
     "data": {
      "text/plain": [
       "Index(['state', 'state_abbreviation', 'county', 'fips', 'party', 'candidate',\n",
       "       'votes', 'fraction_votes'],\n",
       "      dtype='object')"
      ]
     },
     "execution_count": 21,
     "metadata": {},
     "output_type": "execute_result"
    }
   ],
   "source": [
    "df.columns"
   ]
  },
  {
   "cell_type": "code",
   "execution_count": 22,
   "metadata": {},
   "outputs": [
    {
     "name": "stdout",
     "output_type": "stream",
     "text": [
      "state\n",
      "state_abbreviation\n",
      "county\n",
      "fips\n",
      "party\n",
      "candidate\n",
      "votes\n",
      "fraction_votes\n"
     ]
    }
   ],
   "source": [
    "for c in df.columns:\n",
    "    print(c)"
   ]
  },
  {
   "cell_type": "markdown",
   "metadata": {},
   "source": [
    "Seleccionamos una columna mediante '[]' como si el dataframe fuese un diccionario"
   ]
  },
  {
   "cell_type": "code",
   "execution_count": 26,
   "metadata": {},
   "outputs": [
    {
     "data": {
      "text/plain": [
       "0     Bernie Sanders\n",
       "1    Hillary Clinton\n",
       "2     Bernie Sanders\n",
       "3    Hillary Clinton\n",
       "4     Bernie Sanders\n",
       "Name: candidate, dtype: object"
      ]
     },
     "execution_count": 26,
     "metadata": {},
     "output_type": "execute_result"
    }
   ],
   "source": [
    "# Seleccion de una única columna\n",
    "df['candidate'].head()"
   ]
  },
  {
   "cell_type": "code",
   "execution_count": 27,
   "metadata": {},
   "outputs": [
    {
     "data": {
      "text/plain": [
       "0     Bernie Sanders\n",
       "1    Hillary Clinton\n",
       "2     Bernie Sanders\n",
       "3    Hillary Clinton\n",
       "4     Bernie Sanders\n",
       "Name: candidate, dtype: object"
      ]
     },
     "execution_count": 27,
     "metadata": {},
     "output_type": "execute_result"
    }
   ],
   "source": [
    "\n",
    "df.candidate.head()"
   ]
  },
  {
   "cell_type": "code",
   "execution_count": 28,
   "metadata": {},
   "outputs": [
    {
     "data": {
      "text/html": [
       "<div>\n",
       "<style scoped>\n",
       "    .dataframe tbody tr th:only-of-type {\n",
       "        vertical-align: middle;\n",
       "    }\n",
       "\n",
       "    .dataframe tbody tr th {\n",
       "        vertical-align: top;\n",
       "    }\n",
       "\n",
       "    .dataframe thead th {\n",
       "        text-align: right;\n",
       "    }\n",
       "</style>\n",
       "<table border=\"1\" class=\"dataframe\">\n",
       "  <thead>\n",
       "    <tr style=\"text-align: right;\">\n",
       "      <th></th>\n",
       "      <th>state</th>\n",
       "      <th>state_abbreviation</th>\n",
       "    </tr>\n",
       "  </thead>\n",
       "  <tbody>\n",
       "    <tr>\n",
       "      <th>0</th>\n",
       "      <td>Alabama</td>\n",
       "      <td>AL</td>\n",
       "    </tr>\n",
       "    <tr>\n",
       "      <th>1</th>\n",
       "      <td>Alabama</td>\n",
       "      <td>AL</td>\n",
       "    </tr>\n",
       "    <tr>\n",
       "      <th>2</th>\n",
       "      <td>Alabama</td>\n",
       "      <td>AL</td>\n",
       "    </tr>\n",
       "    <tr>\n",
       "      <th>3</th>\n",
       "      <td>Alabama</td>\n",
       "      <td>AL</td>\n",
       "    </tr>\n",
       "    <tr>\n",
       "      <th>4</th>\n",
       "      <td>Alabama</td>\n",
       "      <td>AL</td>\n",
       "    </tr>\n",
       "  </tbody>\n",
       "</table>\n",
       "</div>"
      ],
      "text/plain": [
       "     state state_abbreviation\n",
       "0  Alabama                 AL\n",
       "1  Alabama                 AL\n",
       "2  Alabama                 AL\n",
       "3  Alabama                 AL\n",
       "4  Alabama                 AL"
      ]
     },
     "execution_count": 28,
     "metadata": {},
     "output_type": "execute_result"
    }
   ],
   "source": [
    "# Seleccion de más de una columna\n",
    "columns = ['state','state_abbreviation']\n",
    "df[columns].head()"
   ]
  },
  {
   "cell_type": "code",
   "execution_count": 31,
   "metadata": {},
   "outputs": [
    {
     "data": {
      "text/plain": [
       "2     Alabama\n",
       "3     Alabama\n",
       "4     Alabama\n",
       "5     Alabama\n",
       "6     Alabama\n",
       "       ...   \n",
       "95    Alabama\n",
       "96    Alabama\n",
       "97    Alabama\n",
       "98    Alabama\n",
       "99    Alabama\n",
       "Name: state, Length: 98, dtype: object"
      ]
     },
     "execution_count": 31,
     "metadata": {},
     "output_type": "execute_result"
    }
   ],
   "source": [
    "df[\"state\"][2:100]"
   ]
  },
  {
   "cell_type": "markdown",
   "metadata": {},
   "source": [
    "Tambien podemos seleccionar una columna mediante '.'"
   ]
  },
  {
   "cell_type": "code",
   "execution_count": 32,
   "metadata": {},
   "outputs": [
    {
     "data": {
      "text/plain": [
       "0    Alabama\n",
       "1    Alabama\n",
       "2    Alabama\n",
       "3    Alabama\n",
       "4    Alabama\n",
       "Name: state, dtype: object"
      ]
     },
     "execution_count": 32,
     "metadata": {},
     "output_type": "execute_result"
    }
   ],
   "source": [
    "df.state.head()"
   ]
  },
  {
   "cell_type": "markdown",
   "metadata": {},
   "source": [
    "### Seleccion de Filas"
   ]
  },
  {
   "cell_type": "markdown",
   "metadata": {},
   "source": [
    "podemos seleccionar una fila mediante su index."
   ]
  },
  {
   "cell_type": "code",
   "execution_count": 34,
   "metadata": {},
   "outputs": [
    {
     "data": {
      "text/plain": [
       "state                        Alabama\n",
       "state_abbreviation                AL\n",
       "county                       Baldwin\n",
       "fips                            1003\n",
       "party                       Democrat\n",
       "candidate             Bernie Sanders\n",
       "votes                           2694\n",
       "fraction_votes                 0.329\n",
       "Name: 2, dtype: object"
      ]
     },
     "execution_count": 34,
     "metadata": {},
     "output_type": "execute_result"
    }
   ],
   "source": [
    "df.loc[2]"
   ]
  },
  {
   "cell_type": "markdown",
   "metadata": {},
   "source": [
    "Importante, df.loc selecciona por indice, no por posición. Podemos cambiar el indice a cualquier otra cosa, otra columna o una lista separada, siempre que el nuevo indice tenga la misma longitud que el Dataframe"
   ]
  },
  {
   "cell_type": "code",
   "execution_count": 36,
   "metadata": {},
   "outputs": [],
   "source": [
    "df2 = df.set_index(\"county\").copy()"
   ]
  },
  {
   "cell_type": "code",
   "execution_count": 37,
   "metadata": {},
   "outputs": [
    {
     "data": {
      "text/html": [
       "<div>\n",
       "<style scoped>\n",
       "    .dataframe tbody tr th:only-of-type {\n",
       "        vertical-align: middle;\n",
       "    }\n",
       "\n",
       "    .dataframe tbody tr th {\n",
       "        vertical-align: top;\n",
       "    }\n",
       "\n",
       "    .dataframe thead th {\n",
       "        text-align: right;\n",
       "    }\n",
       "</style>\n",
       "<table border=\"1\" class=\"dataframe\">\n",
       "  <thead>\n",
       "    <tr style=\"text-align: right;\">\n",
       "      <th></th>\n",
       "      <th>state</th>\n",
       "      <th>state_abbreviation</th>\n",
       "      <th>fips</th>\n",
       "      <th>party</th>\n",
       "      <th>candidate</th>\n",
       "      <th>votes</th>\n",
       "      <th>fraction_votes</th>\n",
       "    </tr>\n",
       "    <tr>\n",
       "      <th>county</th>\n",
       "      <th></th>\n",
       "      <th></th>\n",
       "      <th></th>\n",
       "      <th></th>\n",
       "      <th></th>\n",
       "      <th></th>\n",
       "      <th></th>\n",
       "    </tr>\n",
       "  </thead>\n",
       "  <tbody>\n",
       "    <tr>\n",
       "      <th>Autauga</th>\n",
       "      <td>Alabama</td>\n",
       "      <td>AL</td>\n",
       "      <td>1001.0</td>\n",
       "      <td>Democrat</td>\n",
       "      <td>Bernie Sanders</td>\n",
       "      <td>544</td>\n",
       "      <td>0.182</td>\n",
       "    </tr>\n",
       "    <tr>\n",
       "      <th>Autauga</th>\n",
       "      <td>Alabama</td>\n",
       "      <td>AL</td>\n",
       "      <td>1001.0</td>\n",
       "      <td>Democrat</td>\n",
       "      <td>Hillary Clinton</td>\n",
       "      <td>2387</td>\n",
       "      <td>0.800</td>\n",
       "    </tr>\n",
       "    <tr>\n",
       "      <th>Baldwin</th>\n",
       "      <td>Alabama</td>\n",
       "      <td>AL</td>\n",
       "      <td>1003.0</td>\n",
       "      <td>Democrat</td>\n",
       "      <td>Bernie Sanders</td>\n",
       "      <td>2694</td>\n",
       "      <td>0.329</td>\n",
       "    </tr>\n",
       "    <tr>\n",
       "      <th>Baldwin</th>\n",
       "      <td>Alabama</td>\n",
       "      <td>AL</td>\n",
       "      <td>1003.0</td>\n",
       "      <td>Democrat</td>\n",
       "      <td>Hillary Clinton</td>\n",
       "      <td>5290</td>\n",
       "      <td>0.647</td>\n",
       "    </tr>\n",
       "    <tr>\n",
       "      <th>Barbour</th>\n",
       "      <td>Alabama</td>\n",
       "      <td>AL</td>\n",
       "      <td>1005.0</td>\n",
       "      <td>Democrat</td>\n",
       "      <td>Bernie Sanders</td>\n",
       "      <td>222</td>\n",
       "      <td>0.078</td>\n",
       "    </tr>\n",
       "  </tbody>\n",
       "</table>\n",
       "</div>"
      ],
      "text/plain": [
       "           state state_abbreviation    fips     party        candidate  votes  \\\n",
       "county                                                                          \n",
       "Autauga  Alabama                 AL  1001.0  Democrat   Bernie Sanders    544   \n",
       "Autauga  Alabama                 AL  1001.0  Democrat  Hillary Clinton   2387   \n",
       "Baldwin  Alabama                 AL  1003.0  Democrat   Bernie Sanders   2694   \n",
       "Baldwin  Alabama                 AL  1003.0  Democrat  Hillary Clinton   5290   \n",
       "Barbour  Alabama                 AL  1005.0  Democrat   Bernie Sanders    222   \n",
       "\n",
       "         fraction_votes  \n",
       "county                   \n",
       "Autauga           0.182  \n",
       "Autauga           0.800  \n",
       "Baldwin           0.329  \n",
       "Baldwin           0.647  \n",
       "Barbour           0.078  "
      ]
     },
     "execution_count": 37,
     "metadata": {},
     "output_type": "execute_result"
    }
   ],
   "source": [
    "df2.head()"
   ]
  },
  {
   "cell_type": "code",
   "execution_count": 38,
   "metadata": {},
   "outputs": [
    {
     "data": {
      "text/plain": [
       "Index(['Autauga', 'Autauga', 'Baldwin', 'Baldwin', 'Barbour', 'Barbour',\n",
       "       'Bibb', 'Bibb', 'Blount', 'Blount',\n",
       "       ...\n",
       "       'Sweetwater-Carbon', 'Sweetwater-Carbon', 'Teton-Sublette',\n",
       "       'Teton-Sublette', 'Teton-Sublette', 'Teton-Sublette', 'Uinta-Lincoln',\n",
       "       'Uinta-Lincoln', 'Uinta-Lincoln', 'Uinta-Lincoln'],\n",
       "      dtype='object', name='county', length=24611)"
      ]
     },
     "execution_count": 38,
     "metadata": {},
     "output_type": "execute_result"
    }
   ],
   "source": [
    "df2.index"
   ]
  },
  {
   "cell_type": "markdown",
   "metadata": {},
   "source": [
    "Esto va a fallar por que df2 no tiene un indice numérico."
   ]
  },
  {
   "cell_type": "code",
   "execution_count": 39,
   "metadata": {
    "scrolled": true
   },
   "outputs": [
    {
     "ename": "KeyError",
     "evalue": "0",
     "output_type": "error",
     "traceback": [
      "\u001b[1;31m---------------------------------------------------------------------------\u001b[0m",
      "\u001b[1;31mKeyError\u001b[0m                                  Traceback (most recent call last)",
      "\u001b[1;32m~\\anaconda3\\lib\\site-packages\\pandas\\core\\indexes\\base.py\u001b[0m in \u001b[0;36mget_loc\u001b[1;34m(self, key, method, tolerance)\u001b[0m\n\u001b[0;32m   2894\u001b[0m             \u001b[1;32mtry\u001b[0m\u001b[1;33m:\u001b[0m\u001b[1;33m\u001b[0m\u001b[1;33m\u001b[0m\u001b[0m\n\u001b[1;32m-> 2895\u001b[1;33m                 \u001b[1;32mreturn\u001b[0m \u001b[0mself\u001b[0m\u001b[1;33m.\u001b[0m\u001b[0m_engine\u001b[0m\u001b[1;33m.\u001b[0m\u001b[0mget_loc\u001b[0m\u001b[1;33m(\u001b[0m\u001b[0mcasted_key\u001b[0m\u001b[1;33m)\u001b[0m\u001b[1;33m\u001b[0m\u001b[1;33m\u001b[0m\u001b[0m\n\u001b[0m\u001b[0;32m   2896\u001b[0m             \u001b[1;32mexcept\u001b[0m \u001b[0mKeyError\u001b[0m \u001b[1;32mas\u001b[0m \u001b[0merr\u001b[0m\u001b[1;33m:\u001b[0m\u001b[1;33m\u001b[0m\u001b[1;33m\u001b[0m\u001b[0m\n",
      "\u001b[1;32mpandas\\_libs\\index.pyx\u001b[0m in \u001b[0;36mpandas._libs.index.IndexEngine.get_loc\u001b[1;34m()\u001b[0m\n",
      "\u001b[1;32mpandas\\_libs\\index.pyx\u001b[0m in \u001b[0;36mpandas._libs.index.IndexEngine.get_loc\u001b[1;34m()\u001b[0m\n",
      "\u001b[1;32mpandas\\_libs\\index.pyx\u001b[0m in \u001b[0;36mpandas._libs.index.IndexEngine._get_loc_duplicates\u001b[1;34m()\u001b[0m\n",
      "\u001b[1;32mpandas\\_libs\\index.pyx\u001b[0m in \u001b[0;36mpandas._libs.index.IndexEngine._maybe_get_bool_indexer\u001b[1;34m()\u001b[0m\n",
      "\u001b[1;32mpandas\\_libs\\index.pyx\u001b[0m in \u001b[0;36mpandas._libs.index.IndexEngine._unpack_bool_indexer\u001b[1;34m()\u001b[0m\n",
      "\u001b[1;31mKeyError\u001b[0m: 0",
      "\nThe above exception was the direct cause of the following exception:\n",
      "\u001b[1;31mKeyError\u001b[0m                                  Traceback (most recent call last)",
      "\u001b[1;32m<ipython-input-39-61082e79aebf>\u001b[0m in \u001b[0;36m<module>\u001b[1;34m\u001b[0m\n\u001b[1;32m----> 1\u001b[1;33m \u001b[0mdf2\u001b[0m\u001b[1;33m.\u001b[0m\u001b[0mloc\u001b[0m\u001b[1;33m[\u001b[0m\u001b[1;36m0\u001b[0m\u001b[1;33m]\u001b[0m\u001b[1;33m\u001b[0m\u001b[1;33m\u001b[0m\u001b[0m\n\u001b[0m",
      "\u001b[1;32m~\\anaconda3\\lib\\site-packages\\pandas\\core\\indexing.py\u001b[0m in \u001b[0;36m__getitem__\u001b[1;34m(self, key)\u001b[0m\n\u001b[0;32m    877\u001b[0m \u001b[1;33m\u001b[0m\u001b[0m\n\u001b[0;32m    878\u001b[0m             \u001b[0mmaybe_callable\u001b[0m \u001b[1;33m=\u001b[0m \u001b[0mcom\u001b[0m\u001b[1;33m.\u001b[0m\u001b[0mapply_if_callable\u001b[0m\u001b[1;33m(\u001b[0m\u001b[0mkey\u001b[0m\u001b[1;33m,\u001b[0m \u001b[0mself\u001b[0m\u001b[1;33m.\u001b[0m\u001b[0mobj\u001b[0m\u001b[1;33m)\u001b[0m\u001b[1;33m\u001b[0m\u001b[1;33m\u001b[0m\u001b[0m\n\u001b[1;32m--> 879\u001b[1;33m             \u001b[1;32mreturn\u001b[0m \u001b[0mself\u001b[0m\u001b[1;33m.\u001b[0m\u001b[0m_getitem_axis\u001b[0m\u001b[1;33m(\u001b[0m\u001b[0mmaybe_callable\u001b[0m\u001b[1;33m,\u001b[0m \u001b[0maxis\u001b[0m\u001b[1;33m=\u001b[0m\u001b[0maxis\u001b[0m\u001b[1;33m)\u001b[0m\u001b[1;33m\u001b[0m\u001b[1;33m\u001b[0m\u001b[0m\n\u001b[0m\u001b[0;32m    880\u001b[0m \u001b[1;33m\u001b[0m\u001b[0m\n\u001b[0;32m    881\u001b[0m     \u001b[1;32mdef\u001b[0m \u001b[0m_is_scalar_access\u001b[0m\u001b[1;33m(\u001b[0m\u001b[0mself\u001b[0m\u001b[1;33m,\u001b[0m \u001b[0mkey\u001b[0m\u001b[1;33m:\u001b[0m \u001b[0mTuple\u001b[0m\u001b[1;33m)\u001b[0m\u001b[1;33m:\u001b[0m\u001b[1;33m\u001b[0m\u001b[1;33m\u001b[0m\u001b[0m\n",
      "\u001b[1;32m~\\anaconda3\\lib\\site-packages\\pandas\\core\\indexing.py\u001b[0m in \u001b[0;36m_getitem_axis\u001b[1;34m(self, key, axis)\u001b[0m\n\u001b[0;32m   1108\u001b[0m         \u001b[1;31m# fall thru to straight lookup\u001b[0m\u001b[1;33m\u001b[0m\u001b[1;33m\u001b[0m\u001b[1;33m\u001b[0m\u001b[0m\n\u001b[0;32m   1109\u001b[0m         \u001b[0mself\u001b[0m\u001b[1;33m.\u001b[0m\u001b[0m_validate_key\u001b[0m\u001b[1;33m(\u001b[0m\u001b[0mkey\u001b[0m\u001b[1;33m,\u001b[0m \u001b[0maxis\u001b[0m\u001b[1;33m)\u001b[0m\u001b[1;33m\u001b[0m\u001b[1;33m\u001b[0m\u001b[0m\n\u001b[1;32m-> 1110\u001b[1;33m         \u001b[1;32mreturn\u001b[0m \u001b[0mself\u001b[0m\u001b[1;33m.\u001b[0m\u001b[0m_get_label\u001b[0m\u001b[1;33m(\u001b[0m\u001b[0mkey\u001b[0m\u001b[1;33m,\u001b[0m \u001b[0maxis\u001b[0m\u001b[1;33m=\u001b[0m\u001b[0maxis\u001b[0m\u001b[1;33m)\u001b[0m\u001b[1;33m\u001b[0m\u001b[1;33m\u001b[0m\u001b[0m\n\u001b[0m\u001b[0;32m   1111\u001b[0m \u001b[1;33m\u001b[0m\u001b[0m\n\u001b[0;32m   1112\u001b[0m     \u001b[1;32mdef\u001b[0m \u001b[0m_get_slice_axis\u001b[0m\u001b[1;33m(\u001b[0m\u001b[0mself\u001b[0m\u001b[1;33m,\u001b[0m \u001b[0mslice_obj\u001b[0m\u001b[1;33m:\u001b[0m \u001b[0mslice\u001b[0m\u001b[1;33m,\u001b[0m \u001b[0maxis\u001b[0m\u001b[1;33m:\u001b[0m \u001b[0mint\u001b[0m\u001b[1;33m)\u001b[0m\u001b[1;33m:\u001b[0m\u001b[1;33m\u001b[0m\u001b[1;33m\u001b[0m\u001b[0m\n",
      "\u001b[1;32m~\\anaconda3\\lib\\site-packages\\pandas\\core\\indexing.py\u001b[0m in \u001b[0;36m_get_label\u001b[1;34m(self, label, axis)\u001b[0m\n\u001b[0;32m   1057\u001b[0m     \u001b[1;32mdef\u001b[0m \u001b[0m_get_label\u001b[0m\u001b[1;33m(\u001b[0m\u001b[0mself\u001b[0m\u001b[1;33m,\u001b[0m \u001b[0mlabel\u001b[0m\u001b[1;33m,\u001b[0m \u001b[0maxis\u001b[0m\u001b[1;33m:\u001b[0m \u001b[0mint\u001b[0m\u001b[1;33m)\u001b[0m\u001b[1;33m:\u001b[0m\u001b[1;33m\u001b[0m\u001b[1;33m\u001b[0m\u001b[0m\n\u001b[0;32m   1058\u001b[0m         \u001b[1;31m# GH#5667 this will fail if the label is not present in the axis.\u001b[0m\u001b[1;33m\u001b[0m\u001b[1;33m\u001b[0m\u001b[1;33m\u001b[0m\u001b[0m\n\u001b[1;32m-> 1059\u001b[1;33m         \u001b[1;32mreturn\u001b[0m \u001b[0mself\u001b[0m\u001b[1;33m.\u001b[0m\u001b[0mobj\u001b[0m\u001b[1;33m.\u001b[0m\u001b[0mxs\u001b[0m\u001b[1;33m(\u001b[0m\u001b[0mlabel\u001b[0m\u001b[1;33m,\u001b[0m \u001b[0maxis\u001b[0m\u001b[1;33m=\u001b[0m\u001b[0maxis\u001b[0m\u001b[1;33m)\u001b[0m\u001b[1;33m\u001b[0m\u001b[1;33m\u001b[0m\u001b[0m\n\u001b[0m\u001b[0;32m   1060\u001b[0m \u001b[1;33m\u001b[0m\u001b[0m\n\u001b[0;32m   1061\u001b[0m     \u001b[1;32mdef\u001b[0m \u001b[0m_handle_lowerdim_multi_index_axis0\u001b[0m\u001b[1;33m(\u001b[0m\u001b[0mself\u001b[0m\u001b[1;33m,\u001b[0m \u001b[0mtup\u001b[0m\u001b[1;33m:\u001b[0m \u001b[0mTuple\u001b[0m\u001b[1;33m)\u001b[0m\u001b[1;33m:\u001b[0m\u001b[1;33m\u001b[0m\u001b[1;33m\u001b[0m\u001b[0m\n",
      "\u001b[1;32m~\\anaconda3\\lib\\site-packages\\pandas\\core\\generic.py\u001b[0m in \u001b[0;36mxs\u001b[1;34m(self, key, axis, level, drop_level)\u001b[0m\n\u001b[0;32m   3489\u001b[0m             \u001b[0mloc\u001b[0m\u001b[1;33m,\u001b[0m \u001b[0mnew_index\u001b[0m \u001b[1;33m=\u001b[0m \u001b[0mself\u001b[0m\u001b[1;33m.\u001b[0m\u001b[0mindex\u001b[0m\u001b[1;33m.\u001b[0m\u001b[0mget_loc_level\u001b[0m\u001b[1;33m(\u001b[0m\u001b[0mkey\u001b[0m\u001b[1;33m,\u001b[0m \u001b[0mdrop_level\u001b[0m\u001b[1;33m=\u001b[0m\u001b[0mdrop_level\u001b[0m\u001b[1;33m)\u001b[0m\u001b[1;33m\u001b[0m\u001b[1;33m\u001b[0m\u001b[0m\n\u001b[0;32m   3490\u001b[0m         \u001b[1;32melse\u001b[0m\u001b[1;33m:\u001b[0m\u001b[1;33m\u001b[0m\u001b[1;33m\u001b[0m\u001b[0m\n\u001b[1;32m-> 3491\u001b[1;33m             \u001b[0mloc\u001b[0m \u001b[1;33m=\u001b[0m \u001b[0mself\u001b[0m\u001b[1;33m.\u001b[0m\u001b[0mindex\u001b[0m\u001b[1;33m.\u001b[0m\u001b[0mget_loc\u001b[0m\u001b[1;33m(\u001b[0m\u001b[0mkey\u001b[0m\u001b[1;33m)\u001b[0m\u001b[1;33m\u001b[0m\u001b[1;33m\u001b[0m\u001b[0m\n\u001b[0m\u001b[0;32m   3492\u001b[0m \u001b[1;33m\u001b[0m\u001b[0m\n\u001b[0;32m   3493\u001b[0m             \u001b[1;32mif\u001b[0m \u001b[0misinstance\u001b[0m\u001b[1;33m(\u001b[0m\u001b[0mloc\u001b[0m\u001b[1;33m,\u001b[0m \u001b[0mnp\u001b[0m\u001b[1;33m.\u001b[0m\u001b[0mndarray\u001b[0m\u001b[1;33m)\u001b[0m\u001b[1;33m:\u001b[0m\u001b[1;33m\u001b[0m\u001b[1;33m\u001b[0m\u001b[0m\n",
      "\u001b[1;32m~\\anaconda3\\lib\\site-packages\\pandas\\core\\indexes\\base.py\u001b[0m in \u001b[0;36mget_loc\u001b[1;34m(self, key, method, tolerance)\u001b[0m\n\u001b[0;32m   2895\u001b[0m                 \u001b[1;32mreturn\u001b[0m \u001b[0mself\u001b[0m\u001b[1;33m.\u001b[0m\u001b[0m_engine\u001b[0m\u001b[1;33m.\u001b[0m\u001b[0mget_loc\u001b[0m\u001b[1;33m(\u001b[0m\u001b[0mcasted_key\u001b[0m\u001b[1;33m)\u001b[0m\u001b[1;33m\u001b[0m\u001b[1;33m\u001b[0m\u001b[0m\n\u001b[0;32m   2896\u001b[0m             \u001b[1;32mexcept\u001b[0m \u001b[0mKeyError\u001b[0m \u001b[1;32mas\u001b[0m \u001b[0merr\u001b[0m\u001b[1;33m:\u001b[0m\u001b[1;33m\u001b[0m\u001b[1;33m\u001b[0m\u001b[0m\n\u001b[1;32m-> 2897\u001b[1;33m                 \u001b[1;32mraise\u001b[0m \u001b[0mKeyError\u001b[0m\u001b[1;33m(\u001b[0m\u001b[0mkey\u001b[0m\u001b[1;33m)\u001b[0m \u001b[1;32mfrom\u001b[0m \u001b[0merr\u001b[0m\u001b[1;33m\u001b[0m\u001b[1;33m\u001b[0m\u001b[0m\n\u001b[0m\u001b[0;32m   2898\u001b[0m \u001b[1;33m\u001b[0m\u001b[0m\n\u001b[0;32m   2899\u001b[0m         \u001b[1;32mif\u001b[0m \u001b[0mtolerance\u001b[0m \u001b[1;32mis\u001b[0m \u001b[1;32mnot\u001b[0m \u001b[1;32mNone\u001b[0m\u001b[1;33m:\u001b[0m\u001b[1;33m\u001b[0m\u001b[1;33m\u001b[0m\u001b[0m\n",
      "\u001b[1;31mKeyError\u001b[0m: 0"
     ]
    }
   ],
   "source": [
    "df2.loc[0]"
   ]
  },
  {
   "cell_type": "markdown",
   "metadata": {},
   "source": [
    "Ahora podemos seleccionar por condado"
   ]
  },
  {
   "cell_type": "code",
   "execution_count": 40,
   "metadata": {},
   "outputs": [
    {
     "data": {
      "text/html": [
       "<div>\n",
       "<style scoped>\n",
       "    .dataframe tbody tr th:only-of-type {\n",
       "        vertical-align: middle;\n",
       "    }\n",
       "\n",
       "    .dataframe tbody tr th {\n",
       "        vertical-align: top;\n",
       "    }\n",
       "\n",
       "    .dataframe thead th {\n",
       "        text-align: right;\n",
       "    }\n",
       "</style>\n",
       "<table border=\"1\" class=\"dataframe\">\n",
       "  <thead>\n",
       "    <tr style=\"text-align: right;\">\n",
       "      <th></th>\n",
       "      <th>state</th>\n",
       "      <th>state_abbreviation</th>\n",
       "      <th>fips</th>\n",
       "      <th>party</th>\n",
       "      <th>candidate</th>\n",
       "      <th>votes</th>\n",
       "      <th>fraction_votes</th>\n",
       "    </tr>\n",
       "    <tr>\n",
       "      <th>county</th>\n",
       "      <th></th>\n",
       "      <th></th>\n",
       "      <th></th>\n",
       "      <th></th>\n",
       "      <th></th>\n",
       "      <th></th>\n",
       "      <th></th>\n",
       "    </tr>\n",
       "  </thead>\n",
       "  <tbody>\n",
       "    <tr>\n",
       "      <th>Teton-Sublette</th>\n",
       "      <td>Wyoming</td>\n",
       "      <td>WY</td>\n",
       "      <td>95600028.0</td>\n",
       "      <td>Republican</td>\n",
       "      <td>Donald Trump</td>\n",
       "      <td>21</td>\n",
       "      <td>0.525</td>\n",
       "    </tr>\n",
       "    <tr>\n",
       "      <th>Teton-Sublette</th>\n",
       "      <td>Wyoming</td>\n",
       "      <td>WY</td>\n",
       "      <td>95600028.0</td>\n",
       "      <td>Republican</td>\n",
       "      <td>John Kasich</td>\n",
       "      <td>0</td>\n",
       "      <td>0.000</td>\n",
       "    </tr>\n",
       "    <tr>\n",
       "      <th>Teton-Sublette</th>\n",
       "      <td>Wyoming</td>\n",
       "      <td>WY</td>\n",
       "      <td>95600028.0</td>\n",
       "      <td>Republican</td>\n",
       "      <td>Marco Rubio</td>\n",
       "      <td>19</td>\n",
       "      <td>0.475</td>\n",
       "    </tr>\n",
       "    <tr>\n",
       "      <th>Teton-Sublette</th>\n",
       "      <td>Wyoming</td>\n",
       "      <td>WY</td>\n",
       "      <td>95600028.0</td>\n",
       "      <td>Republican</td>\n",
       "      <td>Ted Cruz</td>\n",
       "      <td>0</td>\n",
       "      <td>0.000</td>\n",
       "    </tr>\n",
       "  </tbody>\n",
       "</table>\n",
       "</div>"
      ],
      "text/plain": [
       "                  state state_abbreviation        fips       party  \\\n",
       "county                                                               \n",
       "Teton-Sublette  Wyoming                 WY  95600028.0  Republican   \n",
       "Teton-Sublette  Wyoming                 WY  95600028.0  Republican   \n",
       "Teton-Sublette  Wyoming                 WY  95600028.0  Republican   \n",
       "Teton-Sublette  Wyoming                 WY  95600028.0  Republican   \n",
       "\n",
       "                   candidate  votes  fraction_votes  \n",
       "county                                               \n",
       "Teton-Sublette  Donald Trump     21           0.525  \n",
       "Teton-Sublette   John Kasich      0           0.000  \n",
       "Teton-Sublette   Marco Rubio     19           0.475  \n",
       "Teton-Sublette      Ted Cruz      0           0.000  "
      ]
     },
     "execution_count": 40,
     "metadata": {},
     "output_type": "execute_result"
    }
   ],
   "source": [
    "df2.loc[\"Teton-Sublette\"]"
   ]
  },
  {
   "cell_type": "markdown",
   "metadata": {},
   "source": [
    "Si queremos seleccionar por el numero de fila independientemente del índice, podemos usar `iloc`"
   ]
  },
  {
   "cell_type": "code",
   "execution_count": 41,
   "metadata": {},
   "outputs": [
    {
     "data": {
      "text/plain": [
       "state                        Alabama\n",
       "state_abbreviation                AL\n",
       "fips                            1101\n",
       "party                       Democrat\n",
       "candidate             Bernie Sanders\n",
       "votes                           4266\n",
       "fraction_votes                 0.128\n",
       "Name: Montgomery, dtype: object"
      ]
     },
     "execution_count": 41,
     "metadata": {},
     "output_type": "execute_result"
    }
   ],
   "source": [
    "df2.iloc[100]"
   ]
  },
  {
   "cell_type": "code",
   "execution_count": 42,
   "metadata": {},
   "outputs": [
    {
     "data": {
      "text/html": [
       "<div>\n",
       "<style scoped>\n",
       "    .dataframe tbody tr th:only-of-type {\n",
       "        vertical-align: middle;\n",
       "    }\n",
       "\n",
       "    .dataframe tbody tr th {\n",
       "        vertical-align: top;\n",
       "    }\n",
       "\n",
       "    .dataframe thead th {\n",
       "        text-align: right;\n",
       "    }\n",
       "</style>\n",
       "<table border=\"1\" class=\"dataframe\">\n",
       "  <thead>\n",
       "    <tr style=\"text-align: right;\">\n",
       "      <th></th>\n",
       "      <th>state</th>\n",
       "      <th>state_abbreviation</th>\n",
       "      <th>fips</th>\n",
       "      <th>party</th>\n",
       "      <th>candidate</th>\n",
       "      <th>votes</th>\n",
       "      <th>fraction_votes</th>\n",
       "    </tr>\n",
       "    <tr>\n",
       "      <th>county</th>\n",
       "      <th></th>\n",
       "      <th></th>\n",
       "      <th></th>\n",
       "      <th></th>\n",
       "      <th></th>\n",
       "      <th></th>\n",
       "      <th></th>\n",
       "    </tr>\n",
       "  </thead>\n",
       "  <tbody>\n",
       "    <tr>\n",
       "      <th>Chilton</th>\n",
       "      <td>Alabama</td>\n",
       "      <td>AL</td>\n",
       "      <td>1021.0</td>\n",
       "      <td>Democrat</td>\n",
       "      <td>Bernie Sanders</td>\n",
       "      <td>289</td>\n",
       "      <td>0.246</td>\n",
       "    </tr>\n",
       "    <tr>\n",
       "      <th>Chilton</th>\n",
       "      <td>Alabama</td>\n",
       "      <td>AL</td>\n",
       "      <td>1021.0</td>\n",
       "      <td>Democrat</td>\n",
       "      <td>Hillary Clinton</td>\n",
       "      <td>860</td>\n",
       "      <td>0.731</td>\n",
       "    </tr>\n",
       "    <tr>\n",
       "      <th>Choctaw</th>\n",
       "      <td>Alabama</td>\n",
       "      <td>AL</td>\n",
       "      <td>1023.0</td>\n",
       "      <td>Democrat</td>\n",
       "      <td>Bernie Sanders</td>\n",
       "      <td>273</td>\n",
       "      <td>0.124</td>\n",
       "    </tr>\n",
       "    <tr>\n",
       "      <th>Choctaw</th>\n",
       "      <td>Alabama</td>\n",
       "      <td>AL</td>\n",
       "      <td>1023.0</td>\n",
       "      <td>Democrat</td>\n",
       "      <td>Hillary Clinton</td>\n",
       "      <td>1772</td>\n",
       "      <td>0.802</td>\n",
       "    </tr>\n",
       "    <tr>\n",
       "      <th>Clarke</th>\n",
       "      <td>Alabama</td>\n",
       "      <td>AL</td>\n",
       "      <td>1025.0</td>\n",
       "      <td>Democrat</td>\n",
       "      <td>Bernie Sanders</td>\n",
       "      <td>213</td>\n",
       "      <td>0.063</td>\n",
       "    </tr>\n",
       "  </tbody>\n",
       "</table>\n",
       "</div>"
      ],
      "text/plain": [
       "           state state_abbreviation    fips     party        candidate  votes  \\\n",
       "county                                                                          \n",
       "Chilton  Alabama                 AL  1021.0  Democrat   Bernie Sanders    289   \n",
       "Chilton  Alabama                 AL  1021.0  Democrat  Hillary Clinton    860   \n",
       "Choctaw  Alabama                 AL  1023.0  Democrat   Bernie Sanders    273   \n",
       "Choctaw  Alabama                 AL  1023.0  Democrat  Hillary Clinton   1772   \n",
       "Clarke   Alabama                 AL  1025.0  Democrat   Bernie Sanders    213   \n",
       "\n",
       "         fraction_votes  \n",
       "county                   \n",
       "Chilton           0.246  \n",
       "Chilton           0.731  \n",
       "Choctaw           0.124  \n",
       "Choctaw           0.802  \n",
       "Clarke            0.063  "
      ]
     },
     "execution_count": 42,
     "metadata": {},
     "output_type": "execute_result"
    }
   ],
   "source": [
    "df2.iloc[20:25]"
   ]
  },
  {
   "cell_type": "code",
   "execution_count": 43,
   "metadata": {},
   "outputs": [],
   "source": [
    "df2 = df2.reset_index(drop=True)"
   ]
  },
  {
   "cell_type": "code",
   "execution_count": 44,
   "metadata": {},
   "outputs": [
    {
     "data": {
      "text/html": [
       "<div>\n",
       "<style scoped>\n",
       "    .dataframe tbody tr th:only-of-type {\n",
       "        vertical-align: middle;\n",
       "    }\n",
       "\n",
       "    .dataframe tbody tr th {\n",
       "        vertical-align: top;\n",
       "    }\n",
       "\n",
       "    .dataframe thead th {\n",
       "        text-align: right;\n",
       "    }\n",
       "</style>\n",
       "<table border=\"1\" class=\"dataframe\">\n",
       "  <thead>\n",
       "    <tr style=\"text-align: right;\">\n",
       "      <th></th>\n",
       "      <th>state</th>\n",
       "      <th>state_abbreviation</th>\n",
       "      <th>fips</th>\n",
       "      <th>party</th>\n",
       "      <th>candidate</th>\n",
       "      <th>votes</th>\n",
       "      <th>fraction_votes</th>\n",
       "    </tr>\n",
       "  </thead>\n",
       "  <tbody>\n",
       "    <tr>\n",
       "      <th>0</th>\n",
       "      <td>Alabama</td>\n",
       "      <td>AL</td>\n",
       "      <td>1001.0</td>\n",
       "      <td>Democrat</td>\n",
       "      <td>Bernie Sanders</td>\n",
       "      <td>544</td>\n",
       "      <td>0.182</td>\n",
       "    </tr>\n",
       "    <tr>\n",
       "      <th>1</th>\n",
       "      <td>Alabama</td>\n",
       "      <td>AL</td>\n",
       "      <td>1001.0</td>\n",
       "      <td>Democrat</td>\n",
       "      <td>Hillary Clinton</td>\n",
       "      <td>2387</td>\n",
       "      <td>0.800</td>\n",
       "    </tr>\n",
       "    <tr>\n",
       "      <th>2</th>\n",
       "      <td>Alabama</td>\n",
       "      <td>AL</td>\n",
       "      <td>1003.0</td>\n",
       "      <td>Democrat</td>\n",
       "      <td>Bernie Sanders</td>\n",
       "      <td>2694</td>\n",
       "      <td>0.329</td>\n",
       "    </tr>\n",
       "    <tr>\n",
       "      <th>3</th>\n",
       "      <td>Alabama</td>\n",
       "      <td>AL</td>\n",
       "      <td>1003.0</td>\n",
       "      <td>Democrat</td>\n",
       "      <td>Hillary Clinton</td>\n",
       "      <td>5290</td>\n",
       "      <td>0.647</td>\n",
       "    </tr>\n",
       "    <tr>\n",
       "      <th>4</th>\n",
       "      <td>Alabama</td>\n",
       "      <td>AL</td>\n",
       "      <td>1005.0</td>\n",
       "      <td>Democrat</td>\n",
       "      <td>Bernie Sanders</td>\n",
       "      <td>222</td>\n",
       "      <td>0.078</td>\n",
       "    </tr>\n",
       "  </tbody>\n",
       "</table>\n",
       "</div>"
      ],
      "text/plain": [
       "     state state_abbreviation    fips     party        candidate  votes  \\\n",
       "0  Alabama                 AL  1001.0  Democrat   Bernie Sanders    544   \n",
       "1  Alabama                 AL  1001.0  Democrat  Hillary Clinton   2387   \n",
       "2  Alabama                 AL  1003.0  Democrat   Bernie Sanders   2694   \n",
       "3  Alabama                 AL  1003.0  Democrat  Hillary Clinton   5290   \n",
       "4  Alabama                 AL  1005.0  Democrat   Bernie Sanders    222   \n",
       "\n",
       "   fraction_votes  \n",
       "0           0.182  \n",
       "1           0.800  \n",
       "2           0.329  \n",
       "3           0.647  \n",
       "4           0.078  "
      ]
     },
     "execution_count": 44,
     "metadata": {},
     "output_type": "execute_result"
    }
   ],
   "source": [
    "df2.head()"
   ]
  },
  {
   "cell_type": "markdown",
   "metadata": {},
   "source": [
    "# Filtrando Información\n",
    "------------------------------"
   ]
  },
  {
   "cell_type": "markdown",
   "metadata": {},
   "source": [
    "Podemos filtrar un dataframe de la misma forma que filtramos en numpy"
   ]
  },
  {
   "cell_type": "code",
   "execution_count": 45,
   "metadata": {},
   "outputs": [
    {
     "data": {
      "text/html": [
       "<div>\n",
       "<style scoped>\n",
       "    .dataframe tbody tr th:only-of-type {\n",
       "        vertical-align: middle;\n",
       "    }\n",
       "\n",
       "    .dataframe tbody tr th {\n",
       "        vertical-align: top;\n",
       "    }\n",
       "\n",
       "    .dataframe thead th {\n",
       "        text-align: right;\n",
       "    }\n",
       "</style>\n",
       "<table border=\"1\" class=\"dataframe\">\n",
       "  <thead>\n",
       "    <tr style=\"text-align: right;\">\n",
       "      <th></th>\n",
       "      <th>state</th>\n",
       "      <th>state_abbreviation</th>\n",
       "      <th>county</th>\n",
       "      <th>fips</th>\n",
       "      <th>party</th>\n",
       "      <th>candidate</th>\n",
       "      <th>votes</th>\n",
       "      <th>fraction_votes</th>\n",
       "    </tr>\n",
       "  </thead>\n",
       "  <tbody>\n",
       "    <tr>\n",
       "      <th>1386</th>\n",
       "      <td>California</td>\n",
       "      <td>CA</td>\n",
       "      <td>Los Angeles</td>\n",
       "      <td>6037.0</td>\n",
       "      <td>Democrat</td>\n",
       "      <td>Hillary Clinton</td>\n",
       "      <td>590502</td>\n",
       "      <td>0.57</td>\n",
       "    </tr>\n",
       "  </tbody>\n",
       "</table>\n",
       "</div>"
      ],
      "text/plain": [
       "           state state_abbreviation       county    fips     party  \\\n",
       "1386  California                 CA  Los Angeles  6037.0  Democrat   \n",
       "\n",
       "            candidate   votes  fraction_votes  \n",
       "1386  Hillary Clinton  590502            0.57  "
      ]
     },
     "execution_count": 45,
     "metadata": {},
     "output_type": "execute_result"
    }
   ],
   "source": [
    "df[df['votes']>=590502]"
   ]
  },
  {
   "cell_type": "markdown",
   "metadata": {},
   "source": [
    "podemos concatenar varias condiciones usando `&`"
   ]
  },
  {
   "cell_type": "code",
   "execution_count": 49,
   "metadata": {},
   "outputs": [
    {
     "data": {
      "text/html": [
       "<div>\n",
       "<style scoped>\n",
       "    .dataframe tbody tr th:only-of-type {\n",
       "        vertical-align: middle;\n",
       "    }\n",
       "\n",
       "    .dataframe tbody tr th {\n",
       "        vertical-align: top;\n",
       "    }\n",
       "\n",
       "    .dataframe thead th {\n",
       "        text-align: right;\n",
       "    }\n",
       "</style>\n",
       "<table border=\"1\" class=\"dataframe\">\n",
       "  <thead>\n",
       "    <tr style=\"text-align: right;\">\n",
       "      <th></th>\n",
       "      <th>state</th>\n",
       "      <th>state_abbreviation</th>\n",
       "      <th>county</th>\n",
       "      <th>fips</th>\n",
       "      <th>party</th>\n",
       "      <th>candidate</th>\n",
       "      <th>votes</th>\n",
       "      <th>fraction_votes</th>\n",
       "    </tr>\n",
       "  </thead>\n",
       "  <tbody>\n",
       "    <tr>\n",
       "      <th>15011</th>\n",
       "      <td>New York</td>\n",
       "      <td>NY</td>\n",
       "      <td>Manhattan</td>\n",
       "      <td>36061.0</td>\n",
       "      <td>Democrat</td>\n",
       "      <td>Bernie Sanders</td>\n",
       "      <td>90227</td>\n",
       "      <td>0.337</td>\n",
       "    </tr>\n",
       "    <tr>\n",
       "      <th>15012</th>\n",
       "      <td>New York</td>\n",
       "      <td>NY</td>\n",
       "      <td>Manhattan</td>\n",
       "      <td>36061.0</td>\n",
       "      <td>Democrat</td>\n",
       "      <td>Hillary Clinton</td>\n",
       "      <td>177496</td>\n",
       "      <td>0.663</td>\n",
       "    </tr>\n",
       "  </tbody>\n",
       "</table>\n",
       "</div>"
      ],
      "text/plain": [
       "          state state_abbreviation     county     fips     party  \\\n",
       "15011  New York                 NY  Manhattan  36061.0  Democrat   \n",
       "15012  New York                 NY  Manhattan  36061.0  Democrat   \n",
       "\n",
       "             candidate   votes  fraction_votes  \n",
       "15011   Bernie Sanders   90227           0.337  \n",
       "15012  Hillary Clinton  177496           0.663  "
      ]
     },
     "execution_count": 49,
     "metadata": {},
     "output_type": "execute_result"
    }
   ],
   "source": [
    "df[(df.county==\"Manhattan\") & (df.party==\"Democrat\")]"
   ]
  },
  {
   "cell_type": "markdown",
   "metadata": {},
   "source": [
    "alternativamente podemos usar el método `query`"
   ]
  },
  {
   "cell_type": "code",
   "execution_count": 50,
   "metadata": {},
   "outputs": [
    {
     "data": {
      "text/html": [
       "<div>\n",
       "<style scoped>\n",
       "    .dataframe tbody tr th:only-of-type {\n",
       "        vertical-align: middle;\n",
       "    }\n",
       "\n",
       "    .dataframe tbody tr th {\n",
       "        vertical-align: top;\n",
       "    }\n",
       "\n",
       "    .dataframe thead th {\n",
       "        text-align: right;\n",
       "    }\n",
       "</style>\n",
       "<table border=\"1\" class=\"dataframe\">\n",
       "  <thead>\n",
       "    <tr style=\"text-align: right;\">\n",
       "      <th></th>\n",
       "      <th>state</th>\n",
       "      <th>state_abbreviation</th>\n",
       "      <th>county</th>\n",
       "      <th>fips</th>\n",
       "      <th>party</th>\n",
       "      <th>candidate</th>\n",
       "      <th>votes</th>\n",
       "      <th>fraction_votes</th>\n",
       "    </tr>\n",
       "  </thead>\n",
       "  <tbody>\n",
       "    <tr>\n",
       "      <th>15011</th>\n",
       "      <td>New York</td>\n",
       "      <td>NY</td>\n",
       "      <td>Manhattan</td>\n",
       "      <td>36061.0</td>\n",
       "      <td>Democrat</td>\n",
       "      <td>Bernie Sanders</td>\n",
       "      <td>90227</td>\n",
       "      <td>0.337</td>\n",
       "    </tr>\n",
       "    <tr>\n",
       "      <th>15012</th>\n",
       "      <td>New York</td>\n",
       "      <td>NY</td>\n",
       "      <td>Manhattan</td>\n",
       "      <td>36061.0</td>\n",
       "      <td>Democrat</td>\n",
       "      <td>Hillary Clinton</td>\n",
       "      <td>177496</td>\n",
       "      <td>0.663</td>\n",
       "    </tr>\n",
       "  </tbody>\n",
       "</table>\n",
       "</div>"
      ],
      "text/plain": [
       "          state state_abbreviation     county     fips     party  \\\n",
       "15011  New York                 NY  Manhattan  36061.0  Democrat   \n",
       "15012  New York                 NY  Manhattan  36061.0  Democrat   \n",
       "\n",
       "             candidate   votes  fraction_votes  \n",
       "15011   Bernie Sanders   90227           0.337  \n",
       "15012  Hillary Clinton  177496           0.663  "
      ]
     },
     "execution_count": 50,
     "metadata": {},
     "output_type": "execute_result"
    }
   ],
   "source": [
    "df.query(\"county=='Manhattan' and party=='Democrat'\")"
   ]
  },
  {
   "cell_type": "code",
   "execution_count": 51,
   "metadata": {},
   "outputs": [
    {
     "data": {
      "text/html": [
       "<div>\n",
       "<style scoped>\n",
       "    .dataframe tbody tr th:only-of-type {\n",
       "        vertical-align: middle;\n",
       "    }\n",
       "\n",
       "    .dataframe tbody tr th {\n",
       "        vertical-align: top;\n",
       "    }\n",
       "\n",
       "    .dataframe thead th {\n",
       "        text-align: right;\n",
       "    }\n",
       "</style>\n",
       "<table border=\"1\" class=\"dataframe\">\n",
       "  <thead>\n",
       "    <tr style=\"text-align: right;\">\n",
       "      <th></th>\n",
       "      <th>state</th>\n",
       "      <th>state_abbreviation</th>\n",
       "      <th>county</th>\n",
       "      <th>fips</th>\n",
       "      <th>party</th>\n",
       "      <th>candidate</th>\n",
       "      <th>votes</th>\n",
       "      <th>fraction_votes</th>\n",
       "    </tr>\n",
       "  </thead>\n",
       "  <tbody>\n",
       "    <tr>\n",
       "      <th>15011</th>\n",
       "      <td>New York</td>\n",
       "      <td>NY</td>\n",
       "      <td>Manhattan</td>\n",
       "      <td>36061.0</td>\n",
       "      <td>Democrat</td>\n",
       "      <td>Bernie Sanders</td>\n",
       "      <td>90227</td>\n",
       "      <td>0.337</td>\n",
       "    </tr>\n",
       "    <tr>\n",
       "      <th>15012</th>\n",
       "      <td>New York</td>\n",
       "      <td>NY</td>\n",
       "      <td>Manhattan</td>\n",
       "      <td>36061.0</td>\n",
       "      <td>Democrat</td>\n",
       "      <td>Hillary Clinton</td>\n",
       "      <td>177496</td>\n",
       "      <td>0.663</td>\n",
       "    </tr>\n",
       "  </tbody>\n",
       "</table>\n",
       "</div>"
      ],
      "text/plain": [
       "          state state_abbreviation     county     fips     party  \\\n",
       "15011  New York                 NY  Manhattan  36061.0  Democrat   \n",
       "15012  New York                 NY  Manhattan  36061.0  Democrat   \n",
       "\n",
       "             candidate   votes  fraction_votes  \n",
       "15011   Bernie Sanders   90227           0.337  \n",
       "15012  Hillary Clinton  177496           0.663  "
      ]
     },
     "execution_count": 51,
     "metadata": {},
     "output_type": "execute_result"
    }
   ],
   "source": [
    "county = 'Manhattan'\n",
    "df.query(\"county==@county and party=='Democrat'\")"
   ]
  },
  {
   "cell_type": "markdown",
   "metadata": {},
   "source": [
    "# Procesado\n",
    "------------------------------"
   ]
  },
  {
   "cell_type": "markdown",
   "metadata": {},
   "source": [
    "podemos usar `sort_values` para orderar el dataframe acorde al valor de una columna"
   ]
  },
  {
   "cell_type": "code",
   "execution_count": 54,
   "metadata": {},
   "outputs": [
    {
     "data": {
      "text/html": [
       "<div>\n",
       "<style scoped>\n",
       "    .dataframe tbody tr th:only-of-type {\n",
       "        vertical-align: middle;\n",
       "    }\n",
       "\n",
       "    .dataframe tbody tr th {\n",
       "        vertical-align: top;\n",
       "    }\n",
       "\n",
       "    .dataframe thead th {\n",
       "        text-align: right;\n",
       "    }\n",
       "</style>\n",
       "<table border=\"1\" class=\"dataframe\">\n",
       "  <thead>\n",
       "    <tr style=\"text-align: right;\">\n",
       "      <th></th>\n",
       "      <th>state</th>\n",
       "      <th>state_abbreviation</th>\n",
       "      <th>county</th>\n",
       "      <th>fips</th>\n",
       "      <th>party</th>\n",
       "      <th>candidate</th>\n",
       "      <th>votes</th>\n",
       "      <th>fraction_votes</th>\n",
       "    </tr>\n",
       "  </thead>\n",
       "  <tbody>\n",
       "    <tr>\n",
       "      <th>1386</th>\n",
       "      <td>California</td>\n",
       "      <td>CA</td>\n",
       "      <td>Los Angeles</td>\n",
       "      <td>6037.0</td>\n",
       "      <td>Democrat</td>\n",
       "      <td>Hillary Clinton</td>\n",
       "      <td>590502</td>\n",
       "      <td>0.570</td>\n",
       "    </tr>\n",
       "    <tr>\n",
       "      <th>1385</th>\n",
       "      <td>California</td>\n",
       "      <td>CA</td>\n",
       "      <td>Los Angeles</td>\n",
       "      <td>6037.0</td>\n",
       "      <td>Democrat</td>\n",
       "      <td>Bernie Sanders</td>\n",
       "      <td>434656</td>\n",
       "      <td>0.420</td>\n",
       "    </tr>\n",
       "    <tr>\n",
       "      <th>4451</th>\n",
       "      <td>Illinois</td>\n",
       "      <td>IL</td>\n",
       "      <td>Chicago</td>\n",
       "      <td>91700103.0</td>\n",
       "      <td>Democrat</td>\n",
       "      <td>Hillary Clinton</td>\n",
       "      <td>366954</td>\n",
       "      <td>0.536</td>\n",
       "    </tr>\n",
       "    <tr>\n",
       "      <th>4450</th>\n",
       "      <td>Illinois</td>\n",
       "      <td>IL</td>\n",
       "      <td>Chicago</td>\n",
       "      <td>91700103.0</td>\n",
       "      <td>Democrat</td>\n",
       "      <td>Bernie Sanders</td>\n",
       "      <td>311225</td>\n",
       "      <td>0.454</td>\n",
       "    </tr>\n",
       "    <tr>\n",
       "      <th>4463</th>\n",
       "      <td>Illinois</td>\n",
       "      <td>IL</td>\n",
       "      <td>Cook Suburbs</td>\n",
       "      <td>91700104.0</td>\n",
       "      <td>Democrat</td>\n",
       "      <td>Hillary Clinton</td>\n",
       "      <td>249217</td>\n",
       "      <td>0.536</td>\n",
       "    </tr>\n",
       "  </tbody>\n",
       "</table>\n",
       "</div>"
      ],
      "text/plain": [
       "           state state_abbreviation        county        fips     party  \\\n",
       "1386  California                 CA   Los Angeles      6037.0  Democrat   \n",
       "1385  California                 CA   Los Angeles      6037.0  Democrat   \n",
       "4451    Illinois                 IL       Chicago  91700103.0  Democrat   \n",
       "4450    Illinois                 IL       Chicago  91700103.0  Democrat   \n",
       "4463    Illinois                 IL  Cook Suburbs  91700104.0  Democrat   \n",
       "\n",
       "            candidate   votes  fraction_votes  \n",
       "1386  Hillary Clinton  590502           0.570  \n",
       "1385   Bernie Sanders  434656           0.420  \n",
       "4451  Hillary Clinton  366954           0.536  \n",
       "4450   Bernie Sanders  311225           0.454  \n",
       "4463  Hillary Clinton  249217           0.536  "
      ]
     },
     "execution_count": 54,
     "metadata": {},
     "output_type": "execute_result"
    }
   ],
   "source": [
    "df_sorted = df.sort_values(by=[\"votes\",\"county\"], ascending=[False, False])\n",
    "df_sorted.head()"
   ]
  },
  {
   "cell_type": "code",
   "execution_count": 55,
   "metadata": {},
   "outputs": [
    {
     "data": {
      "text/plain": [
       "<pandas.core.groupby.generic.DataFrameGroupBy object at 0x000001A1B307D280>"
      ]
     },
     "execution_count": 55,
     "metadata": {},
     "output_type": "execute_result"
    }
   ],
   "source": [
    "df.groupby([\"state\", \"party\"])"
   ]
  },
  {
   "cell_type": "code",
   "execution_count": 56,
   "metadata": {},
   "outputs": [
    {
     "data": {
      "text/plain": [
       "state          party     \n",
       "Alabama        Democrat       386327\n",
       "               Republican     837632\n",
       "Alaska         Democrat          539\n",
       "               Republican      21930\n",
       "Arizona        Democrat       399097\n",
       "                              ...   \n",
       "West Virginia  Republican     188138\n",
       "Wisconsin      Democrat      1000703\n",
       "               Republican    1072699\n",
       "Wyoming        Democrat          280\n",
       "               Republican        903\n",
       "Name: votes, Length: 95, dtype: int64"
      ]
     },
     "execution_count": 56,
     "metadata": {},
     "output_type": "execute_result"
    }
   ],
   "source": [
    "df.groupby([\"state\", \"party\"])[\"votes\"].sum()"
   ]
  },
  {
   "cell_type": "markdown",
   "metadata": {},
   "source": [
    "podemos usar `apply` en una columna para obtener una nueva columna en función de sus valores"
   ]
  },
  {
   "cell_type": "code",
   "execution_count": 57,
   "metadata": {
    "scrolled": true
   },
   "outputs": [],
   "source": [
    "# creo una nueva columna a partir de los datos de otra\n",
    "df['letra_inicial'] = df.state_abbreviation.apply(lambda s: s[0])"
   ]
  },
  {
   "cell_type": "code",
   "execution_count": 58,
   "metadata": {},
   "outputs": [
    {
     "data": {
      "text/html": [
       "<div>\n",
       "<style scoped>\n",
       "    .dataframe tbody tr th:only-of-type {\n",
       "        vertical-align: middle;\n",
       "    }\n",
       "\n",
       "    .dataframe tbody tr th {\n",
       "        vertical-align: top;\n",
       "    }\n",
       "\n",
       "    .dataframe thead th {\n",
       "        text-align: right;\n",
       "    }\n",
       "</style>\n",
       "<table border=\"1\" class=\"dataframe\">\n",
       "  <thead>\n",
       "    <tr style=\"text-align: right;\">\n",
       "      <th></th>\n",
       "      <th>state</th>\n",
       "      <th>state_abbreviation</th>\n",
       "      <th>county</th>\n",
       "      <th>fips</th>\n",
       "      <th>party</th>\n",
       "      <th>candidate</th>\n",
       "      <th>votes</th>\n",
       "      <th>fraction_votes</th>\n",
       "      <th>letra_inicial</th>\n",
       "    </tr>\n",
       "  </thead>\n",
       "  <tbody>\n",
       "    <tr>\n",
       "      <th>0</th>\n",
       "      <td>Alabama</td>\n",
       "      <td>AL</td>\n",
       "      <td>Autauga</td>\n",
       "      <td>1001.0</td>\n",
       "      <td>Democrat</td>\n",
       "      <td>Bernie Sanders</td>\n",
       "      <td>544</td>\n",
       "      <td>0.182</td>\n",
       "      <td>A</td>\n",
       "    </tr>\n",
       "    <tr>\n",
       "      <th>1</th>\n",
       "      <td>Alabama</td>\n",
       "      <td>AL</td>\n",
       "      <td>Autauga</td>\n",
       "      <td>1001.0</td>\n",
       "      <td>Democrat</td>\n",
       "      <td>Hillary Clinton</td>\n",
       "      <td>2387</td>\n",
       "      <td>0.800</td>\n",
       "      <td>A</td>\n",
       "    </tr>\n",
       "    <tr>\n",
       "      <th>2</th>\n",
       "      <td>Alabama</td>\n",
       "      <td>AL</td>\n",
       "      <td>Baldwin</td>\n",
       "      <td>1003.0</td>\n",
       "      <td>Democrat</td>\n",
       "      <td>Bernie Sanders</td>\n",
       "      <td>2694</td>\n",
       "      <td>0.329</td>\n",
       "      <td>A</td>\n",
       "    </tr>\n",
       "    <tr>\n",
       "      <th>3</th>\n",
       "      <td>Alabama</td>\n",
       "      <td>AL</td>\n",
       "      <td>Baldwin</td>\n",
       "      <td>1003.0</td>\n",
       "      <td>Democrat</td>\n",
       "      <td>Hillary Clinton</td>\n",
       "      <td>5290</td>\n",
       "      <td>0.647</td>\n",
       "      <td>A</td>\n",
       "    </tr>\n",
       "    <tr>\n",
       "      <th>4</th>\n",
       "      <td>Alabama</td>\n",
       "      <td>AL</td>\n",
       "      <td>Barbour</td>\n",
       "      <td>1005.0</td>\n",
       "      <td>Democrat</td>\n",
       "      <td>Bernie Sanders</td>\n",
       "      <td>222</td>\n",
       "      <td>0.078</td>\n",
       "      <td>A</td>\n",
       "    </tr>\n",
       "  </tbody>\n",
       "</table>\n",
       "</div>"
      ],
      "text/plain": [
       "     state state_abbreviation   county    fips     party        candidate  \\\n",
       "0  Alabama                 AL  Autauga  1001.0  Democrat   Bernie Sanders   \n",
       "1  Alabama                 AL  Autauga  1001.0  Democrat  Hillary Clinton   \n",
       "2  Alabama                 AL  Baldwin  1003.0  Democrat   Bernie Sanders   \n",
       "3  Alabama                 AL  Baldwin  1003.0  Democrat  Hillary Clinton   \n",
       "4  Alabama                 AL  Barbour  1005.0  Democrat   Bernie Sanders   \n",
       "\n",
       "   votes  fraction_votes letra_inicial  \n",
       "0    544           0.182             A  \n",
       "1   2387           0.800             A  \n",
       "2   2694           0.329             A  \n",
       "3   5290           0.647             A  \n",
       "4    222           0.078             A  "
      ]
     },
     "execution_count": 58,
     "metadata": {},
     "output_type": "execute_result"
    }
   ],
   "source": [
    "df.head()"
   ]
  },
  {
   "cell_type": "code",
   "execution_count": 59,
   "metadata": {},
   "outputs": [
    {
     "data": {
      "text/plain": [
       "letra_inicial\n",
       "H      46886\n",
       "D     160416\n",
       "R     179594\n",
       "U     254203\n",
       "L     585781\n",
       "K     760181\n",
       "S    1225289\n",
       "V    1984632\n",
       "G    2032941\n",
       "A    2686599\n",
       "W    3010087\n",
       "P    3176340\n",
       "F    3940929\n",
       "O    4904270\n",
       "T    5348465\n",
       "C    5590683\n",
       "I    5657521\n",
       "N    7329864\n",
       "M    7884506\n",
       "Name: votes, dtype: int64"
      ]
     },
     "execution_count": 59,
     "metadata": {},
     "output_type": "execute_result"
    }
   ],
   "source": [
    "df.groupby(\"letra_inicial\")[\"votes\"].sum().sort_values()"
   ]
  },
  {
   "cell_type": "markdown",
   "metadata": {},
   "source": [
    "Podemos unir dos dataframes en funcion de sus columnas comunes usando `merge`"
   ]
  },
  {
   "cell_type": "code",
   "execution_count": 60,
   "metadata": {},
   "outputs": [],
   "source": [
    "# Descargamos datos de pobreza por condado en US en https://www.ers.usda.gov/data-products/county-level-data-sets/county-level-data-sets-download-data/\n",
    "df_pobreza = pd.read_csv(\"./data/PovertyEstimates.csv\")"
   ]
  },
  {
   "cell_type": "code",
   "execution_count": 61,
   "metadata": {},
   "outputs": [
    {
     "data": {
      "text/html": [
       "<div>\n",
       "<style scoped>\n",
       "    .dataframe tbody tr th:only-of-type {\n",
       "        vertical-align: middle;\n",
       "    }\n",
       "\n",
       "    .dataframe tbody tr th {\n",
       "        vertical-align: top;\n",
       "    }\n",
       "\n",
       "    .dataframe thead th {\n",
       "        text-align: right;\n",
       "    }\n",
       "</style>\n",
       "<table border=\"1\" class=\"dataframe\">\n",
       "  <thead>\n",
       "    <tr style=\"text-align: right;\">\n",
       "      <th></th>\n",
       "      <th>FIPStxt</th>\n",
       "      <th>PCTPOVALL_2015</th>\n",
       "    </tr>\n",
       "  </thead>\n",
       "  <tbody>\n",
       "    <tr>\n",
       "      <th>0</th>\n",
       "      <td>0</td>\n",
       "      <td>14.7</td>\n",
       "    </tr>\n",
       "    <tr>\n",
       "      <th>1</th>\n",
       "      <td>1000</td>\n",
       "      <td>18.5</td>\n",
       "    </tr>\n",
       "    <tr>\n",
       "      <th>2</th>\n",
       "      <td>1001</td>\n",
       "      <td>12.7</td>\n",
       "    </tr>\n",
       "    <tr>\n",
       "      <th>3</th>\n",
       "      <td>1003</td>\n",
       "      <td>12.9</td>\n",
       "    </tr>\n",
       "    <tr>\n",
       "      <th>4</th>\n",
       "      <td>1005</td>\n",
       "      <td>32.0</td>\n",
       "    </tr>\n",
       "  </tbody>\n",
       "</table>\n",
       "</div>"
      ],
      "text/plain": [
       "   FIPStxt  PCTPOVALL_2015\n",
       "0        0            14.7\n",
       "1     1000            18.5\n",
       "2     1001            12.7\n",
       "3     1003            12.9\n",
       "4     1005            32.0"
      ]
     },
     "execution_count": 61,
     "metadata": {},
     "output_type": "execute_result"
    }
   ],
   "source": [
    "df_pobreza.head()"
   ]
  },
  {
   "cell_type": "code",
   "execution_count": 62,
   "metadata": {},
   "outputs": [
    {
     "data": {
      "text/html": [
       "<div>\n",
       "<style scoped>\n",
       "    .dataframe tbody tr th:only-of-type {\n",
       "        vertical-align: middle;\n",
       "    }\n",
       "\n",
       "    .dataframe tbody tr th {\n",
       "        vertical-align: top;\n",
       "    }\n",
       "\n",
       "    .dataframe thead th {\n",
       "        text-align: right;\n",
       "    }\n",
       "</style>\n",
       "<table border=\"1\" class=\"dataframe\">\n",
       "  <thead>\n",
       "    <tr style=\"text-align: right;\">\n",
       "      <th></th>\n",
       "      <th>state</th>\n",
       "      <th>state_abbreviation</th>\n",
       "      <th>county</th>\n",
       "      <th>fips</th>\n",
       "      <th>party</th>\n",
       "      <th>candidate</th>\n",
       "      <th>votes</th>\n",
       "      <th>fraction_votes</th>\n",
       "      <th>letra_inicial</th>\n",
       "      <th>FIPStxt</th>\n",
       "      <th>PCTPOVALL_2015</th>\n",
       "    </tr>\n",
       "  </thead>\n",
       "  <tbody>\n",
       "    <tr>\n",
       "      <th>0</th>\n",
       "      <td>Alabama</td>\n",
       "      <td>AL</td>\n",
       "      <td>Autauga</td>\n",
       "      <td>1001.0</td>\n",
       "      <td>Democrat</td>\n",
       "      <td>Bernie Sanders</td>\n",
       "      <td>544</td>\n",
       "      <td>0.182</td>\n",
       "      <td>A</td>\n",
       "      <td>1001</td>\n",
       "      <td>12.7</td>\n",
       "    </tr>\n",
       "    <tr>\n",
       "      <th>1</th>\n",
       "      <td>Alabama</td>\n",
       "      <td>AL</td>\n",
       "      <td>Autauga</td>\n",
       "      <td>1001.0</td>\n",
       "      <td>Democrat</td>\n",
       "      <td>Hillary Clinton</td>\n",
       "      <td>2387</td>\n",
       "      <td>0.800</td>\n",
       "      <td>A</td>\n",
       "      <td>1001</td>\n",
       "      <td>12.7</td>\n",
       "    </tr>\n",
       "    <tr>\n",
       "      <th>2</th>\n",
       "      <td>Alabama</td>\n",
       "      <td>AL</td>\n",
       "      <td>Autauga</td>\n",
       "      <td>1001.0</td>\n",
       "      <td>Republican</td>\n",
       "      <td>Ben Carson</td>\n",
       "      <td>1764</td>\n",
       "      <td>0.146</td>\n",
       "      <td>A</td>\n",
       "      <td>1001</td>\n",
       "      <td>12.7</td>\n",
       "    </tr>\n",
       "    <tr>\n",
       "      <th>3</th>\n",
       "      <td>Alabama</td>\n",
       "      <td>AL</td>\n",
       "      <td>Autauga</td>\n",
       "      <td>1001.0</td>\n",
       "      <td>Republican</td>\n",
       "      <td>Donald Trump</td>\n",
       "      <td>5387</td>\n",
       "      <td>0.445</td>\n",
       "      <td>A</td>\n",
       "      <td>1001</td>\n",
       "      <td>12.7</td>\n",
       "    </tr>\n",
       "    <tr>\n",
       "      <th>4</th>\n",
       "      <td>Alabama</td>\n",
       "      <td>AL</td>\n",
       "      <td>Autauga</td>\n",
       "      <td>1001.0</td>\n",
       "      <td>Republican</td>\n",
       "      <td>John Kasich</td>\n",
       "      <td>421</td>\n",
       "      <td>0.035</td>\n",
       "      <td>A</td>\n",
       "      <td>1001</td>\n",
       "      <td>12.7</td>\n",
       "    </tr>\n",
       "  </tbody>\n",
       "</table>\n",
       "</div>"
      ],
      "text/plain": [
       "     state state_abbreviation   county    fips       party        candidate  \\\n",
       "0  Alabama                 AL  Autauga  1001.0    Democrat   Bernie Sanders   \n",
       "1  Alabama                 AL  Autauga  1001.0    Democrat  Hillary Clinton   \n",
       "2  Alabama                 AL  Autauga  1001.0  Republican       Ben Carson   \n",
       "3  Alabama                 AL  Autauga  1001.0  Republican     Donald Trump   \n",
       "4  Alabama                 AL  Autauga  1001.0  Republican      John Kasich   \n",
       "\n",
       "   votes  fraction_votes letra_inicial  FIPStxt  PCTPOVALL_2015  \n",
       "0    544           0.182             A     1001            12.7  \n",
       "1   2387           0.800             A     1001            12.7  \n",
       "2   1764           0.146             A     1001            12.7  \n",
       "3   5387           0.445             A     1001            12.7  \n",
       "4    421           0.035             A     1001            12.7  "
      ]
     },
     "execution_count": 62,
     "metadata": {},
     "output_type": "execute_result"
    }
   ],
   "source": [
    "df = df.merge(df_pobreza, left_on=\"fips\", right_on=\"FIPStxt\")\n",
    "df.head()"
   ]
  },
  {
   "cell_type": "code",
   "execution_count": 63,
   "metadata": {
    "scrolled": true
   },
   "outputs": [],
   "source": [
    "county_votes = df.groupby([\"county\",\"party\"]).agg({\n",
    "    \"fraction_votes\":\"mean\",\n",
    "    \"PCTPOVALL_2015\": \"mean\"   \n",
    "   }\n",
    ")"
   ]
  },
  {
   "cell_type": "code",
   "execution_count": 64,
   "metadata": {},
   "outputs": [
    {
     "data": {
      "text/html": [
       "<div>\n",
       "<style scoped>\n",
       "    .dataframe tbody tr th:only-of-type {\n",
       "        vertical-align: middle;\n",
       "    }\n",
       "\n",
       "    .dataframe tbody tr th {\n",
       "        vertical-align: top;\n",
       "    }\n",
       "\n",
       "    .dataframe thead th {\n",
       "        text-align: right;\n",
       "    }\n",
       "</style>\n",
       "<table border=\"1\" class=\"dataframe\">\n",
       "  <thead>\n",
       "    <tr style=\"text-align: right;\">\n",
       "      <th></th>\n",
       "      <th></th>\n",
       "      <th>fraction_votes</th>\n",
       "      <th>PCTPOVALL_2015</th>\n",
       "    </tr>\n",
       "    <tr>\n",
       "      <th>county</th>\n",
       "      <th>party</th>\n",
       "      <th></th>\n",
       "      <th></th>\n",
       "    </tr>\n",
       "  </thead>\n",
       "  <tbody>\n",
       "    <tr>\n",
       "      <th rowspan=\"2\" valign=\"top\">Abbeville</th>\n",
       "      <th>Democrat</th>\n",
       "      <td>0.494000</td>\n",
       "      <td>19.1</td>\n",
       "    </tr>\n",
       "    <tr>\n",
       "      <th>Republican</th>\n",
       "      <td>0.166667</td>\n",
       "      <td>19.1</td>\n",
       "    </tr>\n",
       "    <tr>\n",
       "      <th rowspan=\"2\" valign=\"top\">Acadia</th>\n",
       "      <th>Democrat</th>\n",
       "      <td>0.425500</td>\n",
       "      <td>23.7</td>\n",
       "    </tr>\n",
       "    <tr>\n",
       "      <th>Republican</th>\n",
       "      <td>0.241750</td>\n",
       "      <td>23.7</td>\n",
       "    </tr>\n",
       "    <tr>\n",
       "      <th>Accomack</th>\n",
       "      <th>Democrat</th>\n",
       "      <td>0.497000</td>\n",
       "      <td>20.4</td>\n",
       "    </tr>\n",
       "    <tr>\n",
       "      <th>...</th>\n",
       "      <th>...</th>\n",
       "      <td>...</td>\n",
       "      <td>...</td>\n",
       "    </tr>\n",
       "    <tr>\n",
       "      <th>Zapata</th>\n",
       "      <th>Republican</th>\n",
       "      <td>0.188400</td>\n",
       "      <td>30.9</td>\n",
       "    </tr>\n",
       "    <tr>\n",
       "      <th rowspan=\"2\" valign=\"top\">Zavala</th>\n",
       "      <th>Democrat</th>\n",
       "      <td>0.468000</td>\n",
       "      <td>32.0</td>\n",
       "    </tr>\n",
       "    <tr>\n",
       "      <th>Republican</th>\n",
       "      <td>0.000000</td>\n",
       "      <td>32.0</td>\n",
       "    </tr>\n",
       "    <tr>\n",
       "      <th rowspan=\"2\" valign=\"top\">Ziebach</th>\n",
       "      <th>Democrat</th>\n",
       "      <td>0.500000</td>\n",
       "      <td>47.1</td>\n",
       "    </tr>\n",
       "    <tr>\n",
       "      <th>Republican</th>\n",
       "      <td>0.333333</td>\n",
       "      <td>47.1</td>\n",
       "    </tr>\n",
       "  </tbody>\n",
       "</table>\n",
       "<p>3267 rows × 2 columns</p>\n",
       "</div>"
      ],
      "text/plain": [
       "                      fraction_votes  PCTPOVALL_2015\n",
       "county    party                                     \n",
       "Abbeville Democrat          0.494000            19.1\n",
       "          Republican        0.166667            19.1\n",
       "Acadia    Democrat          0.425500            23.7\n",
       "          Republican        0.241750            23.7\n",
       "Accomack  Democrat          0.497000            20.4\n",
       "...                              ...             ...\n",
       "Zapata    Republican        0.188400            30.9\n",
       "Zavala    Democrat          0.468000            32.0\n",
       "          Republican        0.000000            32.0\n",
       "Ziebach   Democrat          0.500000            47.1\n",
       "          Republican        0.333333            47.1\n",
       "\n",
       "[3267 rows x 2 columns]"
      ]
     },
     "execution_count": 64,
     "metadata": {},
     "output_type": "execute_result"
    }
   ],
   "source": [
    "county_votes"
   ]
  },
  {
   "cell_type": "markdown",
   "metadata": {},
   "source": [
    "# Exportar\n",
    "----------------------------------"
   ]
  },
  {
   "cell_type": "markdown",
   "metadata": {},
   "source": [
    "podemos escribir a excel, necesitamos instalar el paquete `xlwt`"
   ]
  },
  {
   "cell_type": "markdown",
   "metadata": {},
   "source": [
    "<img src='https://pandas.pydata.org/docs/_images/02_io_readwrite1.svg'>"
   ]
  },
  {
   "cell_type": "code",
   "execution_count": 65,
   "metadata": {},
   "outputs": [
    {
     "data": {
      "text/html": [
       "<div>\n",
       "<style scoped>\n",
       "    .dataframe tbody tr th:only-of-type {\n",
       "        vertical-align: middle;\n",
       "    }\n",
       "\n",
       "    .dataframe tbody tr th {\n",
       "        vertical-align: top;\n",
       "    }\n",
       "\n",
       "    .dataframe thead th {\n",
       "        text-align: right;\n",
       "    }\n",
       "</style>\n",
       "<table border=\"1\" class=\"dataframe\">\n",
       "  <thead>\n",
       "    <tr style=\"text-align: right;\">\n",
       "      <th></th>\n",
       "      <th>state</th>\n",
       "      <th>state_abbreviation</th>\n",
       "      <th>county</th>\n",
       "      <th>fips</th>\n",
       "      <th>party</th>\n",
       "      <th>candidate</th>\n",
       "      <th>votes</th>\n",
       "      <th>fraction_votes</th>\n",
       "      <th>letra_inicial</th>\n",
       "      <th>FIPStxt</th>\n",
       "      <th>PCTPOVALL_2015</th>\n",
       "    </tr>\n",
       "  </thead>\n",
       "  <tbody>\n",
       "    <tr>\n",
       "      <th>0</th>\n",
       "      <td>Alabama</td>\n",
       "      <td>AL</td>\n",
       "      <td>Autauga</td>\n",
       "      <td>1001.0</td>\n",
       "      <td>Democrat</td>\n",
       "      <td>Bernie Sanders</td>\n",
       "      <td>544</td>\n",
       "      <td>0.182</td>\n",
       "      <td>A</td>\n",
       "      <td>1001</td>\n",
       "      <td>12.7</td>\n",
       "    </tr>\n",
       "    <tr>\n",
       "      <th>1</th>\n",
       "      <td>Alabama</td>\n",
       "      <td>AL</td>\n",
       "      <td>Autauga</td>\n",
       "      <td>1001.0</td>\n",
       "      <td>Democrat</td>\n",
       "      <td>Hillary Clinton</td>\n",
       "      <td>2387</td>\n",
       "      <td>0.800</td>\n",
       "      <td>A</td>\n",
       "      <td>1001</td>\n",
       "      <td>12.7</td>\n",
       "    </tr>\n",
       "    <tr>\n",
       "      <th>2</th>\n",
       "      <td>Alabama</td>\n",
       "      <td>AL</td>\n",
       "      <td>Autauga</td>\n",
       "      <td>1001.0</td>\n",
       "      <td>Republican</td>\n",
       "      <td>Ben Carson</td>\n",
       "      <td>1764</td>\n",
       "      <td>0.146</td>\n",
       "      <td>A</td>\n",
       "      <td>1001</td>\n",
       "      <td>12.7</td>\n",
       "    </tr>\n",
       "    <tr>\n",
       "      <th>3</th>\n",
       "      <td>Alabama</td>\n",
       "      <td>AL</td>\n",
       "      <td>Autauga</td>\n",
       "      <td>1001.0</td>\n",
       "      <td>Republican</td>\n",
       "      <td>Donald Trump</td>\n",
       "      <td>5387</td>\n",
       "      <td>0.445</td>\n",
       "      <td>A</td>\n",
       "      <td>1001</td>\n",
       "      <td>12.7</td>\n",
       "    </tr>\n",
       "    <tr>\n",
       "      <th>4</th>\n",
       "      <td>Alabama</td>\n",
       "      <td>AL</td>\n",
       "      <td>Autauga</td>\n",
       "      <td>1001.0</td>\n",
       "      <td>Republican</td>\n",
       "      <td>John Kasich</td>\n",
       "      <td>421</td>\n",
       "      <td>0.035</td>\n",
       "      <td>A</td>\n",
       "      <td>1001</td>\n",
       "      <td>12.7</td>\n",
       "    </tr>\n",
       "  </tbody>\n",
       "</table>\n",
       "</div>"
      ],
      "text/plain": [
       "     state state_abbreviation   county    fips       party        candidate  \\\n",
       "0  Alabama                 AL  Autauga  1001.0    Democrat   Bernie Sanders   \n",
       "1  Alabama                 AL  Autauga  1001.0    Democrat  Hillary Clinton   \n",
       "2  Alabama                 AL  Autauga  1001.0  Republican       Ben Carson   \n",
       "3  Alabama                 AL  Autauga  1001.0  Republican     Donald Trump   \n",
       "4  Alabama                 AL  Autauga  1001.0  Republican      John Kasich   \n",
       "\n",
       "   votes  fraction_votes letra_inicial  FIPStxt  PCTPOVALL_2015  \n",
       "0    544           0.182             A     1001            12.7  \n",
       "1   2387           0.800             A     1001            12.7  \n",
       "2   1764           0.146             A     1001            12.7  \n",
       "3   5387           0.445             A     1001            12.7  \n",
       "4    421           0.035             A     1001            12.7  "
      ]
     },
     "execution_count": 65,
     "metadata": {},
     "output_type": "execute_result"
    }
   ],
   "source": [
    "df.head()"
   ]
  },
  {
   "cell_type": "code",
   "execution_count": 66,
   "metadata": {},
   "outputs": [],
   "source": [
    "with open('./out/data.html',mode='w') as f:\n",
    "    f.write(df.to_html())"
   ]
  },
  {
   "cell_type": "code",
   "execution_count": 67,
   "metadata": {},
   "outputs": [],
   "source": [
    "df.to_csv('./out/data_partidos.csv',sep='|',encoding='utf-8',index=False)"
   ]
  },
  {
   "cell_type": "code",
   "execution_count": null,
   "metadata": {},
   "outputs": [],
   "source": []
  },
  {
   "cell_type": "code",
   "execution_count": 68,
   "metadata": {},
   "outputs": [],
   "source": [
    "df.to_excel('./out/data_partidos.xlsx',\n",
    "            sheet_name='data',encoding='utf-8',index=False)"
   ]
  },
  {
   "cell_type": "code",
   "execution_count": 69,
   "metadata": {},
   "outputs": [],
   "source": [
    "df_excel = pd.read_excel('./out/data_partidos.xlsx',sheet_name='data')"
   ]
  },
  {
   "cell_type": "code",
   "execution_count": 70,
   "metadata": {},
   "outputs": [
    {
     "data": {
      "text/html": [
       "<div>\n",
       "<style scoped>\n",
       "    .dataframe tbody tr th:only-of-type {\n",
       "        vertical-align: middle;\n",
       "    }\n",
       "\n",
       "    .dataframe tbody tr th {\n",
       "        vertical-align: top;\n",
       "    }\n",
       "\n",
       "    .dataframe thead th {\n",
       "        text-align: right;\n",
       "    }\n",
       "</style>\n",
       "<table border=\"1\" class=\"dataframe\">\n",
       "  <thead>\n",
       "    <tr style=\"text-align: right;\">\n",
       "      <th></th>\n",
       "      <th>state</th>\n",
       "      <th>state_abbreviation</th>\n",
       "      <th>county</th>\n",
       "      <th>fips</th>\n",
       "      <th>party</th>\n",
       "      <th>candidate</th>\n",
       "      <th>votes</th>\n",
       "      <th>fraction_votes</th>\n",
       "      <th>letra_inicial</th>\n",
       "      <th>FIPStxt</th>\n",
       "      <th>PCTPOVALL_2015</th>\n",
       "    </tr>\n",
       "  </thead>\n",
       "  <tbody>\n",
       "    <tr>\n",
       "      <th>0</th>\n",
       "      <td>Alabama</td>\n",
       "      <td>AL</td>\n",
       "      <td>Autauga</td>\n",
       "      <td>1001</td>\n",
       "      <td>Democrat</td>\n",
       "      <td>Bernie Sanders</td>\n",
       "      <td>544</td>\n",
       "      <td>0.182</td>\n",
       "      <td>A</td>\n",
       "      <td>1001</td>\n",
       "      <td>12.7</td>\n",
       "    </tr>\n",
       "    <tr>\n",
       "      <th>1</th>\n",
       "      <td>Alabama</td>\n",
       "      <td>AL</td>\n",
       "      <td>Autauga</td>\n",
       "      <td>1001</td>\n",
       "      <td>Democrat</td>\n",
       "      <td>Hillary Clinton</td>\n",
       "      <td>2387</td>\n",
       "      <td>0.800</td>\n",
       "      <td>A</td>\n",
       "      <td>1001</td>\n",
       "      <td>12.7</td>\n",
       "    </tr>\n",
       "    <tr>\n",
       "      <th>2</th>\n",
       "      <td>Alabama</td>\n",
       "      <td>AL</td>\n",
       "      <td>Autauga</td>\n",
       "      <td>1001</td>\n",
       "      <td>Republican</td>\n",
       "      <td>Ben Carson</td>\n",
       "      <td>1764</td>\n",
       "      <td>0.146</td>\n",
       "      <td>A</td>\n",
       "      <td>1001</td>\n",
       "      <td>12.7</td>\n",
       "    </tr>\n",
       "    <tr>\n",
       "      <th>3</th>\n",
       "      <td>Alabama</td>\n",
       "      <td>AL</td>\n",
       "      <td>Autauga</td>\n",
       "      <td>1001</td>\n",
       "      <td>Republican</td>\n",
       "      <td>Donald Trump</td>\n",
       "      <td>5387</td>\n",
       "      <td>0.445</td>\n",
       "      <td>A</td>\n",
       "      <td>1001</td>\n",
       "      <td>12.7</td>\n",
       "    </tr>\n",
       "    <tr>\n",
       "      <th>4</th>\n",
       "      <td>Alabama</td>\n",
       "      <td>AL</td>\n",
       "      <td>Autauga</td>\n",
       "      <td>1001</td>\n",
       "      <td>Republican</td>\n",
       "      <td>John Kasich</td>\n",
       "      <td>421</td>\n",
       "      <td>0.035</td>\n",
       "      <td>A</td>\n",
       "      <td>1001</td>\n",
       "      <td>12.7</td>\n",
       "    </tr>\n",
       "  </tbody>\n",
       "</table>\n",
       "</div>"
      ],
      "text/plain": [
       "     state state_abbreviation   county  fips       party        candidate  \\\n",
       "0  Alabama                 AL  Autauga  1001    Democrat   Bernie Sanders   \n",
       "1  Alabama                 AL  Autauga  1001    Democrat  Hillary Clinton   \n",
       "2  Alabama                 AL  Autauga  1001  Republican       Ben Carson   \n",
       "3  Alabama                 AL  Autauga  1001  Republican     Donald Trump   \n",
       "4  Alabama                 AL  Autauga  1001  Republican      John Kasich   \n",
       "\n",
       "   votes  fraction_votes letra_inicial  FIPStxt  PCTPOVALL_2015  \n",
       "0    544           0.182             A     1001            12.7  \n",
       "1   2387           0.800             A     1001            12.7  \n",
       "2   1764           0.146             A     1001            12.7  \n",
       "3   5387           0.445             A     1001            12.7  \n",
       "4    421           0.035             A     1001            12.7  "
      ]
     },
     "execution_count": 70,
     "metadata": {},
     "output_type": "execute_result"
    }
   ],
   "source": [
    "df_excel.head()"
   ]
  },
  {
   "cell_type": "code",
   "execution_count": 71,
   "metadata": {},
   "outputs": [
    {
     "data": {
      "text/plain": [
       "array(['Alabama', 'Arizona', 'Arkansas', 'California', 'Colorado',\n",
       "       'Delaware', 'Florida', 'Georgia', 'Hawaii', 'Idaho', 'Illinois',\n",
       "       'Indiana', 'Iowa', 'Kentucky', 'Louisiana', 'Maryland', 'Michigan',\n",
       "       'Mississippi', 'Missouri', 'Montana', 'Nebraska', 'Nevada',\n",
       "       'New Jersey', 'New Mexico', 'New York', 'North Carolina', 'Ohio',\n",
       "       'Oklahoma', 'Oregon', 'Pennsylvania', 'South Carolina',\n",
       "       'South Dakota', 'Tennessee', 'Texas', 'Utah', 'Virginia',\n",
       "       'Washington', 'West Virginia', 'Wisconsin', 'Wyoming'],\n",
       "      dtype=object)"
      ]
     },
     "execution_count": 71,
     "metadata": {},
     "output_type": "execute_result"
    }
   ],
   "source": [
    "df.state.unique()"
   ]
  },
  {
   "cell_type": "code",
   "execution_count": 72,
   "metadata": {},
   "outputs": [],
   "source": [
    "import time"
   ]
  },
  {
   "cell_type": "code",
   "execution_count": 73,
   "metadata": {},
   "outputs": [
    {
     "data": {
      "text/plain": [
       "1624725826.6875868"
      ]
     },
     "execution_count": 73,
     "metadata": {},
     "output_type": "execute_result"
    }
   ],
   "source": [
    "time.time()"
   ]
  },
  {
   "cell_type": "code",
   "execution_count": 74,
   "metadata": {},
   "outputs": [
    {
     "name": "stdout",
     "output_type": "stream",
     "text": [
      "demoro 4.899106502532959\n"
     ]
    }
   ],
   "source": [
    "now = time.time()\n",
    "for state in df.state.unique():\n",
    "    df_var = df_excel[df_excel['state'] == state]\n",
    "    \n",
    "    df_var.to_excel(f'./out/info_partidos/data_{state}.xlsx',sheet_name=state,encoding='utf-8',index=False)\n",
    "\n",
    "print(f'demoro {time.time() - now}')"
   ]
  },
  {
   "cell_type": "code",
   "execution_count": null,
   "metadata": {},
   "outputs": [],
   "source": []
  }
 ],
 "metadata": {
  "kernelspec": {
   "display_name": "Python 3",
   "language": "python",
   "name": "python3"
  },
  "language_info": {
   "codemirror_mode": {
    "name": "ipython",
    "version": 3
   },
   "file_extension": ".py",
   "mimetype": "text/x-python",
   "name": "python",
   "nbconvert_exporter": "python",
   "pygments_lexer": "ipython3",
   "version": "3.8.5"
  }
 },
 "nbformat": 4,
 "nbformat_minor": 4
}
