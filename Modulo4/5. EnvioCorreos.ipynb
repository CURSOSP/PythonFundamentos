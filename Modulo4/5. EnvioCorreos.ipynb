{
 "cells": [
  {
   "cell_type": "markdown",
   "id": "a3106237-637f-4ea0-b9dd-b42fbea9b2ed",
   "metadata": {},
   "source": [
    "# Envio de Correos con Python\n",
    "----------------------"
   ]
  },
  {
   "cell_type": "markdown",
   "id": "d5d99aff-39a9-433b-9328-840ba7fa6954",
   "metadata": {},
   "source": [
    "En este tutorial aprenderemos a:\n",
    " - generar una conexión segura para el envio de correos desde Gmail\n",
    " - Enviar correos básicos desde la librería </code>smtplib</code>\n",
    " - Enviar correos con contenido HTML y adjuntar documentos\n",
    " - Enviar correos personalizados utilizando archivos csv o excels"
   ]
  },
  {
   "cell_type": "markdown",
   "id": "e2d6027a-6f32-42ab-927a-f842b1be3172",
   "metadata": {},
   "source": [
    "## 1. Configuración Inicial"
   ]
  },
  {
   "cell_type": "markdown",
   "id": "284cba56-6add-4d72-b88d-4827122807c5",
   "metadata": {},
   "source": [
    "Python viene con el módulo smtplib incorporado para enviar correos electrónicos usando el Protocolo simple de transferencia de correo (SMTP). smtplib utiliza el protocolo RFC 821 para SMTP. Los ejemplos de este tutorial utilizarán el servidor SMTP de Gmail para enviar correos electrónicos, pero los mismos principios se aplican a otros servicios de correo electrónico. Aunque la mayoría de los proveedores de correo electrónico utilizan los mismos puertos de conexión que los de este tutorial, puede ejecutar una búsqueda rápida en Google para confirmar el suyo."
   ]
  },
  {
   "cell_type": "markdown",
   "id": "faff2ea7-b86f-4589-a8aa-811de244e4a0",
   "metadata": {},
   "source": [
    "### - Configurando token de seguridad de Gmail"
   ]
  },
  {
   "cell_type": "markdown",
   "id": "2f21eea7-b183-4a6c-a029-366e2413146b",
   "metadata": {},
   "source": [
    "Para poder obtener nuestro token de desarrollador de aplicación debemos hacer lo siguiente:\n",
    "\n",
    "<ul>\n",
    "<li><a href=\"https://accounts.google.com/signup\">Crear una cuenta de Gmail</a>.</li>\n",
    "<li><a href=\"https://myaccount.google.com/lesssecureapps\"><em>Permitir apps menos seguras</em> to <em>ON</em></a>. Debes tener cuidado que esta opción pueda facilitar el acceso a personas ajenas a tu cuenta. </li>\n",
    "</ul>\n",
    "\n",
    "Si no se desea utilizar el token de desarrollor puedes leer la [documetación de google](https://developers.google.com/gmail/api/quickstart/python) para tener credenciales para python\n"
   ]
  },
  {
   "cell_type": "markdown",
   "id": "f2c83a56-14c2-4db1-a64d-110b60ef99ff",
   "metadata": {},
   "source": [
    "## 2. Servidores y Puertos"
   ]
  },
  {
   "cell_type": "markdown",
   "id": "564e154c-afd5-4560-b968-755d6fce50af",
   "metadata": {},
   "source": [
    "<img src=\"./img/correo/servidores.png\">"
   ]
  },
  {
   "cell_type": "markdown",
   "id": "535743ac-4595-4e09-b516-95d13ac47e19",
   "metadata": {},
   "source": [
    "## 3. Conectandonos a Gmail"
   ]
  },
  {
   "cell_type": "markdown",
   "id": "9948e9ae-8739-4dbf-b7a9-99c67b4242f0",
   "metadata": {},
   "source": [
    "Inicializaremos una conexión segura a gmail utilizando <code>SMTP_SSL</code> el cual genera una conexión TLS-encrypted. la libería ssl comprobará la seguridad del servidor utilizado desde el inición de la conexión"
   ]
  },
  {
   "cell_type": "markdown",
   "id": "0826600f-8813-476d-ad81-1192d69d6437",
   "metadata": {},
   "source": [
    "Adicional a ello el token generado por gmail lo ocultamos en las variables de entorno del sistema de Windows para tener una mayor proteccion"
   ]
  },
  {
   "cell_type": "markdown",
   "id": "5789afc3-1fe7-4b4b-abb8-e935c45de4f8",
   "metadata": {},
   "source": [
    "### - Validando Conexión"
   ]
  },
  {
   "cell_type": "code",
   "execution_count": 3,
   "id": "3897f89f-7089-49ea-a313-f1b0b12d4ce7",
   "metadata": {},
   "outputs": [
    {
     "name": "stdout",
     "output_type": "stream",
     "text": [
      "OK\n"
     ]
    }
   ],
   "source": [
    "import smtplib, ssl\n",
    "import os\n",
    "\n",
    "smtp_server = \"smtp.gmail.com\" # servidor de correo\n",
    "port = 465  # For SSL\n",
    "sender_email = \"gon2794@gmail.com\" # mi correo\n",
    "password = os.environ.get('GmailToken') # mi contraseña de correo o token\n",
    "\n",
    "# Create a secure SSL context\n",
    "context = ssl.create_default_context()\n",
    "\n",
    "with smtplib.SMTP_SSL(smtp_server, port, context=context) as server:\n",
    "    server.login(sender_email, password)\n",
    "    \n",
    "    # TODO: Send email here\n",
    "    print(\"OK\")\n",
    "    "
   ]
  },
  {
   "cell_type": "markdown",
   "id": "5d570318-d8d8-4e2b-9a92-bae3b56828c9",
   "metadata": {},
   "source": [
    "### - Enviando correo básico"
   ]
  },
  {
   "cell_type": "markdown",
   "id": "70c4e476-4574-4669-bb2d-a8172aa7f654",
   "metadata": {},
   "source": [
    "Para esto usaremos \n",
    "\n",
    "<code>server.sendmail(sender_email, receiver_email, message)</code>"
   ]
  },
  {
   "cell_type": "code",
   "execution_count": 5,
   "id": "32613429-d170-4be3-b185-05f36a8188ec",
   "metadata": {},
   "outputs": [
    {
     "name": "stdout",
     "output_type": "stream",
     "text": [
      "Finalizado ... \n"
     ]
    }
   ],
   "source": [
    "import smtplib, ssl\n",
    "import os\n",
    "\n",
    "smtp_server = \"smtp.gmail.com\" # servidor de correo\n",
    "port = 465  # For SSL\n",
    "sender_email = \"gon2794@gmail.com\" # mi correo\n",
    "password = os.environ.get('GmailToken') # mi contraseña de correo o token\n",
    "receiver_email = \"gonzalo.delgado.r@uni.pe\"  # Enter receiver address\n",
    "\n",
    "message = \"\"\"\\\n",
    "Subject: Hi there\n",
    "\n",
    "This message is sent from Python.\"\"\"\n",
    "\n",
    "# Create a secure SSL context\n",
    "context = ssl.create_default_context()\n",
    "\n",
    "with smtplib.SMTP_SSL(smtp_server, port, context=context) as server:\n",
    "    server.login(sender_email, password)\n",
    "    \n",
    "    # TODO: Send email here\n",
    "    server.sendmail(sender_email, receiver_email, message)\n",
    "    \n",
    "print(\"Finalizado ... \")"
   ]
  },
  {
   "cell_type": "markdown",
   "id": "f2d6f027-c603-4c32-a2fd-300ab0cd9046",
   "metadata": {},
   "source": [
    "### - Enviando correo con formato HTML"
   ]
  },
  {
   "cell_type": "markdown",
   "id": "515feeb8-a5b5-4861-92c2-cd3439bb988c",
   "metadata": {},
   "source": [
    "Para poder dar formato a nuestro cuerpo de correo se podrá realizar por médio de código html"
   ]
  },
  {
   "cell_type": "markdown",
   "id": "c12f076d-611e-48cf-b148-2a942084f231",
   "metadata": {},
   "source": [
    "Como no todos los clientes de correo electrónico muestran contenido HTML de forma predeterminada, y algunas personas eligen recibir solo mensajes de texto sin formato por razones de seguridad, es importante incluir una alternativa de texto sin formato para los mensajes HTML. Como el cliente de correo electrónico representará primero el último archivo adjunto de varias partes, asegúrese de agregar el mensaje HTML después de la versión de texto sin formato."
   ]
  },
  {
   "cell_type": "code",
   "execution_count": 6,
   "id": "88534fe0-601f-4649-b49c-054f736ebbe8",
   "metadata": {},
   "outputs": [],
   "source": [
    "import os\n",
    "import smtplib, ssl\n",
    "from email.mime.text import MIMEText\n",
    "from email.mime.multipart import MIMEMultipart\n",
    "\n",
    "sender_email = \"gon2794@gmail.com\" # mi correo\n",
    "receiver_email = \"gonzalo.delgado.r@uni.pe\"  # Enter receiver address or list of mails\n",
    "password = os.environ.get('GmailToken') # mi contraseña de correo o token\n",
    "\n",
    "\n",
    "smtp_server = \"smtp.gmail.com\" # servidor de correo\n",
    "port = 465  # For SSL\n",
    "\n",
    "\n",
    "message = MIMEMultipart(\"alternative\")\n",
    "message[\"Subject\"] = \"multipart test\"\n",
    "message[\"From\"] = sender_email\n",
    "message[\"To\"] = receiver_email\n",
    "\n",
    "# Create the plain-text and HTML version of your message\n",
    "text = \"\"\"\\\n",
    "Hi,\n",
    "How are you?\n",
    "Real Python has many great tutorials:\n",
    "www.realpython.com\"\"\"\n",
    "\n",
    "html = \"\"\"\\\n",
    "<html>\n",
    "  <body>\n",
    "  <h1>Envios</h1>\n",
    "    <p>Hi,<br>\n",
    "       How are you?<br>\n",
    "       <a href=\"http://www.realpython.com\">Real Python</a> \n",
    "       has many great tutorials.\n",
    "    </p>\n",
    "  </body>\n",
    "</html>\n",
    "\"\"\"\n",
    "\n",
    "# Turn these into plain/html MIMEText objects\n",
    "part1 = MIMEText(text, \"plain\")\n",
    "part2 = MIMEText(html, \"html\")\n",
    "\n",
    "# Add HTML/plain-text parts to MIMEMultipart message\n",
    "# The email client will try to render the last part first\n",
    "message.attach(part1)\n",
    "message.attach(part2)\n",
    "\n",
    "# Create secure connection with server and send email\n",
    "context = ssl.create_default_context()\n",
    "with smtplib.SMTP_SSL(smtp_server, port, context=context) as server:\n",
    "    server.login(sender_email, password)\n",
    "    server.sendmail(\n",
    "        sender_email, receiver_email, message.as_string()\n",
    "    )"
   ]
  },
  {
   "cell_type": "markdown",
   "id": "b1db887f-ab98-442c-abaf-86ac82e0c070",
   "metadata": {},
   "source": [
    "### - Adjuntando Datos a Correo"
   ]
  },
  {
   "cell_type": "markdown",
   "id": "b6861f43-7bba-40b5-9e9f-1dd9b49f72d8",
   "metadata": {},
   "source": [
    "Para poder realizar esta tarea debemos tomar en cuenta que para poder adjuntar los datos, estos primero deben ser decodificados y cumplir las restricciones de envio del servio de correo"
   ]
  },
  {
   "cell_type": "code",
   "execution_count": 8,
   "id": "e0f63a28-8318-48c5-be89-15b18e21d6bf",
   "metadata": {},
   "outputs": [],
   "source": [
    "import os\n",
    "import email, smtplib, ssl\n",
    "\n",
    "from email import encoders\n",
    "from email.mime.base import MIMEBase\n",
    "from email.mime.multipart import MIMEMultipart\n",
    "from email.mime.text import MIMEText\n",
    "\n",
    "smtp_server = \"smtp.gmail.com\" # servidor de correo\n",
    "port = 465  # For SSL\n",
    "\n",
    "subject = \"An email with attachment from Python\"\n",
    "body = \"This is an email with attachment sent from Python\"\n",
    "sender_email = \"gon2794@gmail.com\" # mi correo\n",
    "receiver_email = \"gonzalo.delgado.r@uni.pe\"  # Enter receiver address or list of mails\n",
    "password = os.environ.get('GmailToken') # mi contraseña de correo o token\n",
    "\n",
    "\n",
    "# Create a multipart message and set headers\n",
    "message = MIMEMultipart()\n",
    "message[\"From\"] = sender_email\n",
    "message[\"To\"] = receiver_email\n",
    "message[\"Subject\"] = subject\n",
    "message[\"Bcc\"] = receiver_email  # Recommended for mass emails\n",
    "\n",
    "\n",
    "# Add body to email\n",
    "message.attach(MIMEText(body, \"plain\"))\n",
    "\n",
    "filename = \"./src/input/sample.pdf\"  # In same directory as script\n",
    "\n",
    "# Open PDF file in binary mode\n",
    "with open(filename, \"rb\") as attachment:\n",
    "    # Add file as application/octet-stream\n",
    "    # Email client can usually download this automatically as attachment\n",
    "    part = MIMEBase(\"application\", \"octet-stream\")\n",
    "    part.set_payload(attachment.read())\n",
    "\n",
    "# Encode file in ASCII characters to send by email    \n",
    "encoders.encode_base64(part)\n",
    "\n",
    "# Add header as key/value pair to attachment part\n",
    "part.add_header(\n",
    "    \"Content-Disposition\",\n",
    "    f\"attachment; filename= {filename}\",\n",
    ")\n",
    "\n",
    "# Add attachment to message and convert message to string\n",
    "message.attach(part)\n",
    "text = message.as_string()\n",
    "\n",
    "# Log in to server using secure context and send email\n",
    "context = ssl.create_default_context()\n",
    "with smtplib.SMTP_SSL(smtp_server, port, context=context) as server:\n",
    "    server.login(sender_email, password)\n",
    "    server.sendmail(sender_email, receiver_email, text)"
   ]
  },
  {
   "cell_type": "code",
   "execution_count": null,
   "id": "6bb4307c-d3b6-4de2-83d7-c85b58bc4ff5",
   "metadata": {},
   "outputs": [],
   "source": []
  },
  {
   "cell_type": "code",
   "execution_count": null,
   "id": "7a259bd4-6fd1-42c6-80d7-5d005a1c9be6",
   "metadata": {},
   "outputs": [],
   "source": []
  },
  {
   "cell_type": "markdown",
   "id": "ff64becf-b0b8-4d4a-947b-a6089b7589f3",
   "metadata": {},
   "source": [
    "# Referencias\n",
    "--------------------------\n",
    "https://realpython.com/python-send-email/"
   ]
  },
  {
   "cell_type": "code",
   "execution_count": null,
   "id": "46947322-3540-42d6-a31d-49768ba8a512",
   "metadata": {},
   "outputs": [],
   "source": []
  }
 ],
 "metadata": {
  "kernelspec": {
   "display_name": "Python 3",
   "language": "python",
   "name": "python3"
  },
  "language_info": {
   "codemirror_mode": {
    "name": "ipython",
    "version": 3
   },
   "file_extension": ".py",
   "mimetype": "text/x-python",
   "name": "python",
   "nbconvert_exporter": "python",
   "pygments_lexer": "ipython3",
   "version": "3.8.11"
  }
 },
 "nbformat": 4,
 "nbformat_minor": 5
}
