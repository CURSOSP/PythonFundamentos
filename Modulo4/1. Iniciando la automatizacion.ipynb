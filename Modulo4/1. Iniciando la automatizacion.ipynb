{
 "cells": [
  {
   "cell_type": "markdown",
   "metadata": {},
   "source": [
    "# Trabajando con Archivos y Directorios en Python\n",
    "----------------------------------------------------"
   ]
  },
  {
   "cell_type": "markdown",
   "metadata": {},
   "source": [
    "Python es un lenguaje que es muy utilizado a manera de scripting, desarrolo web o ciencia de datos.\n",
    "\n",
    "En esta sección aprenderemos a utilizar python para automatizar pequeñas tareas con archivos y directorios\n"
   ]
  },
  {
   "cell_type": "markdown",
   "metadata": {
    "tags": []
   },
   "source": [
    "## 1. Manipulando Directorio (OS)\n",
    "---------------------------"
   ]
  },
  {
   "cell_type": "markdown",
   "metadata": {},
   "source": [
    "El módulo <code>os</code> nos permite tener un control sobre normbre de archivos y directorios del sistema operativo.\n"
   ]
  },
  {
   "cell_type": "code",
   "execution_count": 1,
   "metadata": {},
   "outputs": [],
   "source": [
    "# libreria os nos permite manipular el sistema operativo\n",
    "import os"
   ]
  },
  {
   "cell_type": "markdown",
   "metadata": {},
   "source": [
    "### 1.1 Directorio de Trabajo Actual"
   ]
  },
  {
   "cell_type": "markdown",
   "metadata": {},
   "source": [
    "Por medio de esta librería podemos obtener facilmente el directorio actual donde se encuentra ejecutandose el programa"
   ]
  },
  {
   "cell_type": "code",
   "execution_count": 2,
   "metadata": {},
   "outputs": [
    {
     "name": "stdout",
     "output_type": "stream",
     "text": [
      "C:\\Users\\gon_2\\OneDrive - UNIVERSIDAD NACIONAL DE INGENIERIA\\Desktop\\PythonFundamentos\\Modulo4\n"
     ]
    }
   ],
   "source": [
    "# Obteniendo ruta actual\n",
    "print(os.getcwd() )"
   ]
  },
  {
   "cell_type": "markdown",
   "metadata": {},
   "source": [
    "### 1.2 Rutas Absolutas y Rutas Relativas"
   ]
  },
  {
   "cell_type": "markdown",
   "metadata": {},
   "source": [
    "- **Rutas Absolutas**: Es aquella que siempre inicia con la carpeta raíz. "
   ]
  },
  {
   "cell_type": "markdown",
   "metadata": {},
   "source": [
    "\n",
    "   **Ejemplo:** \n",
    "   \n",
    "Sobre Windows <code>C:\\Windows</code> es una ruta absoluta"
   ]
  },
  {
   "cell_type": "code",
   "execution_count": null,
   "metadata": {},
   "outputs": [],
   "source": [
    "# obteniendo ruta absoluta de ruta\n",
    "os.path.abspath('./img')"
   ]
  },
  {
   "cell_type": "markdown",
   "metadata": {},
   "source": [
    "- **Rutas Relativas**: Hacen referencia a la posición relativa al directorio de trabajo actual del programa. "
   ]
  },
  {
   "cell_type": "markdown",
   "metadata": {},
   "source": [
    "  **Ejemplo:** \n",
    "        La ruta <code>\"./img\"</code> es una ruta relativa"
   ]
  },
  {
   "cell_type": "code",
   "execution_count": 3,
   "metadata": {},
   "outputs": [
    {
     "data": {
      "text/plain": [
       "'./scripts'"
      ]
     },
     "execution_count": 3,
     "metadata": {},
     "output_type": "execute_result"
    }
   ],
   "source": [
    "# '.' referencia a directorio actual\n",
    "'./scripts' \n"
   ]
  },
  {
   "cell_type": "code",
   "execution_count": 4,
   "metadata": {},
   "outputs": [
    {
     "data": {
      "text/plain": [
       "'../modulo2'"
      ]
     },
     "execution_count": 4,
     "metadata": {},
     "output_type": "execute_result"
    }
   ],
   "source": [
    "# '..' retrocedo una carpeta y busco la carpeta 'modulo2'\n",
    "'../modulo2'"
   ]
  },
  {
   "cell_type": "markdown",
   "metadata": {},
   "source": [
    "### 1.3 Validando Existencia de Directorio o File"
   ]
  },
  {
   "cell_type": "code",
   "execution_count": 5,
   "metadata": {},
   "outputs": [
    {
     "data": {
      "text/plain": [
       "True"
      ]
     },
     "execution_count": 5,
     "metadata": {},
     "output_type": "execute_result"
    }
   ],
   "source": [
    "# Validando existencia de directorio\n",
    "os.path.exists('C:\\\\Windows')"
   ]
  },
  {
   "cell_type": "code",
   "execution_count": 6,
   "metadata": {},
   "outputs": [
    {
     "data": {
      "text/plain": [
       "True"
      ]
     },
     "execution_count": 6,
     "metadata": {},
     "output_type": "execute_result"
    }
   ],
   "source": [
    "# Comprobando si ruta es directorio\n",
    "os.path.isdir('C:\\\\Windows\\\\System32')"
   ]
  },
  {
   "cell_type": "code",
   "execution_count": 7,
   "metadata": {},
   "outputs": [
    {
     "data": {
      "text/plain": [
       "True"
      ]
     },
     "execution_count": 7,
     "metadata": {},
     "output_type": "execute_result"
    }
   ],
   "source": [
    "os.path.isdir('./scripts')"
   ]
  },
  {
   "cell_type": "code",
   "execution_count": 8,
   "metadata": {},
   "outputs": [
    {
     "data": {
      "text/plain": [
       "False"
      ]
     },
     "execution_count": 8,
     "metadata": {},
     "output_type": "execute_result"
    }
   ],
   "source": [
    "# Comprobando si ruta es file\n",
    "os.path.isfile('./texto.txt')"
   ]
  },
  {
   "cell_type": "markdown",
   "metadata": {},
   "source": [
    "### 1.4 Otros"
   ]
  },
  {
   "cell_type": "code",
   "execution_count": 9,
   "metadata": {},
   "outputs": [
    {
     "data": {
      "text/plain": [
       "'C:\\\\Users\\\\gon_2\\\\OneDrive - UNIVERSIDAD NACIONAL DE INGENIERIA\\\\Desktop\\\\PythonFundamentos\\\\Modulo4\\\\in\\\\archivo.txt'"
      ]
     },
     "execution_count": 9,
     "metadata": {},
     "output_type": "execute_result"
    }
   ],
   "source": [
    "# crea directorio de cade de nombre\n",
    "os.path.join(os.getcwd(), 'in', 'archivo.txt')"
   ]
  },
  {
   "cell_type": "code",
   "execution_count": 10,
   "metadata": {},
   "outputs": [
    {
     "data": {
      "text/plain": [
       "['.ipynb_checkpoints',\n",
       " 'modulo',\n",
       " 'Problema1.ipynb',\n",
       " 'Problema2.ipynb',\n",
       " 'Problemas Diversos.ipynb',\n",
       " 'src']"
      ]
     },
     "execution_count": 10,
     "metadata": {},
     "output_type": "execute_result"
    }
   ],
   "source": [
    "# Lista elementos del directorio\n",
    "os.listdir('./Ejercicios')"
   ]
  },
  {
   "cell_type": "code",
   "execution_count": 11,
   "metadata": {},
   "outputs": [
    {
     "data": {
      "text/plain": [
       "['.ipynb_checkpoints',\n",
       " '1. Iniciando la automatizacion.ipynb',\n",
       " '2. Manejo de Ficheros.ipynb',\n",
       " '3. Expresiones Regulares.ipynb',\n",
       " 'Ejercicios',\n",
       " 'scripts',\n",
       " 'src']"
      ]
     },
     "execution_count": 11,
     "metadata": {},
     "output_type": "execute_result"
    }
   ],
   "source": [
    "os.listdir()"
   ]
  },
  {
   "cell_type": "code",
   "execution_count": 12,
   "metadata": {},
   "outputs": [
    {
     "data": {
      "text/plain": [
       "'C:\\\\Users\\\\gon_2\\\\OneDrive - UNIVERSIDAD NACIONAL DE INGENIERIA\\\\Desktop\\\\PythonFundamentos\\\\Modulo4'"
      ]
     },
     "execution_count": 12,
     "metadata": {},
     "output_type": "execute_result"
    }
   ],
   "source": [
    "os.getcwd()"
   ]
  },
  {
   "cell_type": "markdown",
   "metadata": {
    "tags": []
   },
   "source": [
    "## 2. Copiando Archivos (shutil)\n",
    "-------------------------------------"
   ]
  },
  {
   "cell_type": "markdown",
   "metadata": {},
   "source": [
    "Permite mover archivos y copiar archivos del sistema operativo"
   ]
  },
  {
   "cell_type": "code",
   "execution_count": 13,
   "metadata": {},
   "outputs": [],
   "source": [
    "import shutil, os"
   ]
  },
  {
   "cell_type": "code",
   "execution_count": 15,
   "metadata": {},
   "outputs": [
    {
     "data": {
      "text/plain": [
       "True"
      ]
     },
     "execution_count": 15,
     "metadata": {},
     "output_type": "execute_result"
    }
   ],
   "source": [
    "os.path.isdir('./scripts/2.demos_files')"
   ]
  },
  {
   "cell_type": "code",
   "execution_count": 16,
   "metadata": {},
   "outputs": [],
   "source": [
    "if not os.path.isdir('./scripts'):\n",
    "    os.mkdir('./scripts') # mkdir -> crea una carpeta en una ruta dada\n",
    "    os.mkdir('./scripts/2.demos_files')\n",
    "    "
   ]
  },
  {
   "cell_type": "code",
   "execution_count": 17,
   "metadata": {},
   "outputs": [
    {
     "data": {
      "text/plain": [
       "'C:\\\\Users\\\\gon_2\\\\OneDrive - UNIVERSIDAD NACIONAL DE INGENIERIA\\\\Desktop\\\\PythonFundamentos\\\\Modulo4'"
      ]
     },
     "execution_count": 17,
     "metadata": {},
     "output_type": "execute_result"
    }
   ],
   "source": [
    "os.getcwd()"
   ]
  },
  {
   "cell_type": "code",
   "execution_count": 18,
   "metadata": {},
   "outputs": [],
   "source": [
    "# chdir -> cambiar la posición sobre la que se encuentra python\n",
    "os.chdir('./scripts/2.demos_files')"
   ]
  },
  {
   "cell_type": "code",
   "execution_count": 19,
   "metadata": {},
   "outputs": [
    {
     "data": {
      "text/plain": [
       "'C:\\\\Users\\\\gon_2\\\\OneDrive - UNIVERSIDAD NACIONAL DE INGENIERIA\\\\Desktop\\\\PythonFundamentos\\\\Modulo4\\\\scripts\\\\2.demos_files'"
      ]
     },
     "execution_count": 19,
     "metadata": {},
     "output_type": "execute_result"
    }
   ],
   "source": [
    "os.getcwd()"
   ]
  },
  {
   "cell_type": "code",
   "execution_count": 20,
   "metadata": {},
   "outputs": [
    {
     "data": {
      "text/plain": [
       "['car.jpg',\n",
       " 'cat.jpg',\n",
       " 'personas.txt',\n",
       " 'rick_y_morty.xlsx',\n",
       " 'texto.txt',\n",
       " 'texto1.txt',\n",
       " 'texto2.txt']"
      ]
     },
     "execution_count": 20,
     "metadata": {},
     "output_type": "execute_result"
    }
   ],
   "source": [
    "os.listdir('./src/')"
   ]
  },
  {
   "cell_type": "code",
   "execution_count": 21,
   "metadata": {},
   "outputs": [
    {
     "data": {
      "text/plain": [
       "'./dts/cat.jpg'"
      ]
     },
     "execution_count": 21,
     "metadata": {},
     "output_type": "execute_result"
    }
   ],
   "source": [
    "# Copiando archivos de un directorio a una partera\n",
    "shutil.copy(r'./src/cat.jpg', r'./dts/')"
   ]
  },
  {
   "cell_type": "code",
   "execution_count": 25,
   "metadata": {},
   "outputs": [],
   "source": [
    "# copiar todo\n",
    "for file in os.listdir('./src/'):\n",
    "    shutil.copy(f'./src/{file}', r'./dts/')\n",
    "    \n",
    "    \n",
    "# r -> raw string (interpreta el string como esta escrito)"
   ]
  },
  {
   "cell_type": "code",
   "execution_count": 27,
   "metadata": {},
   "outputs": [
    {
     "name": "stdout",
     "output_type": "stream",
     "text": [
      "Hola\\np\n"
     ]
    }
   ],
   "source": [
    "print(r'Hola\\np')"
   ]
  },
  {
   "cell_type": "code",
   "execution_count": null,
   "metadata": {},
   "outputs": [],
   "source": []
  },
  {
   "cell_type": "code",
   "execution_count": null,
   "metadata": {},
   "outputs": [],
   "source": [
    "shutil.move()"
   ]
  },
  {
   "cell_type": "code",
   "execution_count": null,
   "metadata": {},
   "outputs": [],
   "source": [
    "print(r'hola\\nmundo')"
   ]
  },
  {
   "cell_type": "markdown",
   "metadata": {
    "tags": []
   },
   "source": [
    "### Copiando lista de archivos filtrados"
   ]
  },
  {
   "cell_type": "code",
   "execution_count": 28,
   "metadata": {},
   "outputs": [
    {
     "data": {
      "text/plain": [
       "'C:\\\\Users\\\\gon_2\\\\OneDrive - UNIVERSIDAD NACIONAL DE INGENIERIA\\\\Desktop\\\\PythonFundamentos\\\\Modulo4\\\\scripts\\\\2.demos_files'"
      ]
     },
     "execution_count": 28,
     "metadata": {},
     "output_type": "execute_result"
    }
   ],
   "source": [
    "os.getcwd()"
   ]
  },
  {
   "cell_type": "code",
   "execution_count": 29,
   "metadata": {},
   "outputs": [
    {
     "data": {
      "text/plain": [
       "['car.jpg',\n",
       " 'cat.jpg',\n",
       " 'personas.txt',\n",
       " 'rick_y_morty.xlsx',\n",
       " 'texto.txt',\n",
       " 'texto1.txt',\n",
       " 'texto2.txt']"
      ]
     },
     "execution_count": 29,
     "metadata": {},
     "output_type": "execute_result"
    }
   ],
   "source": [
    "os.listdir('./src')"
   ]
  },
  {
   "cell_type": "code",
   "execution_count": 30,
   "metadata": {},
   "outputs": [
    {
     "data": {
      "text/plain": [
       "['texto', 'txt']"
      ]
     },
     "execution_count": 30,
     "metadata": {},
     "output_type": "execute_result"
    }
   ],
   "source": [
    "'texto.txt'.split('.')"
   ]
  },
  {
   "cell_type": "code",
   "execution_count": 31,
   "metadata": {},
   "outputs": [],
   "source": [
    "for file in os.listdir('./src'):\n",
    "    if file.split('.')[-1] == 'txt':\n",
    "        shutil.copy(f'./src/{file}', './dts')"
   ]
  },
  {
   "cell_type": "markdown",
   "metadata": {},
   "source": [
    "### Organizando archivos"
   ]
  },
  {
   "cell_type": "code",
   "execution_count": 32,
   "metadata": {},
   "outputs": [
    {
     "data": {
      "text/plain": [
       "['car.jpg',\n",
       " 'cat.jpg',\n",
       " 'personas.txt',\n",
       " 'rick_y_morty.xlsx',\n",
       " 'texto.txt',\n",
       " 'texto1.txt',\n",
       " 'texto2.txt']"
      ]
     },
     "execution_count": 32,
     "metadata": {},
     "output_type": "execute_result"
    }
   ],
   "source": [
    "os.listdir('./sort')"
   ]
  },
  {
   "cell_type": "code",
   "execution_count": 33,
   "metadata": {},
   "outputs": [],
   "source": [
    "ext = set()\n",
    "\n",
    "for file in os.listdir('./sort'):\n",
    "    ext.add(file.split('.')[-1])"
   ]
  },
  {
   "cell_type": "code",
   "execution_count": 34,
   "metadata": {},
   "outputs": [
    {
     "data": {
      "text/plain": [
       "{'jpg', 'txt', 'xlsx'}"
      ]
     },
     "execution_count": 34,
     "metadata": {},
     "output_type": "execute_result"
    }
   ],
   "source": [
    "ext"
   ]
  },
  {
   "cell_type": "code",
   "execution_count": 35,
   "metadata": {},
   "outputs": [],
   "source": [
    "for file in os.listdir('./sort'):\n",
    "    \n",
    "    e = file.split('.')[-1]\n",
    "    if e in ext:\n",
    "        \n",
    "        # si no existe el directorio, lo creo 'file_txt'\n",
    "        if not os.path.isdir(f'./sort/file_{e}'):\n",
    "            os.mkdir(f'./sort/file_{e}')\n",
    "            \n",
    "        shutil.move(f'./sort/{file}',f'./sort/file_{e}')"
   ]
  },
  {
   "cell_type": "code",
   "execution_count": 36,
   "metadata": {},
   "outputs": [
    {
     "data": {
      "text/plain": [
       "True"
      ]
     },
     "execution_count": 36,
     "metadata": {},
     "output_type": "execute_result"
    }
   ],
   "source": [
    "os.path.isdir('./sort/file_jpg')"
   ]
  },
  {
   "cell_type": "code",
   "execution_count": 37,
   "metadata": {},
   "outputs": [
    {
     "data": {
      "text/plain": [
       "['file_jpg', 'file_txt', 'file_xlsx']"
      ]
     },
     "execution_count": 37,
     "metadata": {},
     "output_type": "execute_result"
    }
   ],
   "source": [
    "#os.getcwd()\n",
    "os.listdir('./sort')"
   ]
  },
  {
   "cell_type": "markdown",
   "metadata": {
    "tags": []
   },
   "source": [
    "## 3. Comprimiendo y descomprimiendo archivos (Zipfile)\n",
    "----------------------------------------"
   ]
  },
  {
   "cell_type": "code",
   "execution_count": 38,
   "metadata": {},
   "outputs": [],
   "source": [
    "import zipfile, os"
   ]
  },
  {
   "cell_type": "code",
   "execution_count": null,
   "metadata": {},
   "outputs": [],
   "source": []
  },
  {
   "cell_type": "code",
   "execution_count": 42,
   "metadata": {},
   "outputs": [
    {
     "data": {
      "text/plain": [
       "'C:\\\\Users\\\\gon_2\\\\OneDrive - UNIVERSIDAD NACIONAL DE INGENIERIA\\\\Desktop\\\\PythonFundamentos\\\\Modulo4\\\\scripts\\\\2.demos_files\\\\zip\\\\extract'"
      ]
     },
     "execution_count": 42,
     "metadata": {},
     "output_type": "execute_result"
    }
   ],
   "source": [
    "os.getcwd()"
   ]
  },
  {
   "cell_type": "code",
   "execution_count": 40,
   "metadata": {},
   "outputs": [
    {
     "data": {
      "text/plain": [
       "True"
      ]
     },
     "execution_count": 40,
     "metadata": {},
     "output_type": "execute_result"
    }
   ],
   "source": [
    "os.path.isfile('./zip/extract/zip_images.zip')"
   ]
  },
  {
   "cell_type": "code",
   "execution_count": 41,
   "metadata": {},
   "outputs": [],
   "source": [
    "os.chdir('./zip/extract')"
   ]
  },
  {
   "cell_type": "markdown",
   "metadata": {},
   "source": [
    "### Extrayendo archivos zipeados"
   ]
  },
  {
   "cell_type": "code",
   "execution_count": 44,
   "metadata": {},
   "outputs": [],
   "source": [
    "# move to the folder with example.zip \n",
    "exampleZip = zipfile.ZipFile('./zip_images.zip')\n",
    "#exampleZip.extractall(r\"C:\\Users\\gon_2\\OneDrive - UNIVERSIDAD NACIONAL DE INGENIERIA\\Desktop\\PythonFundamentos\\Modulo3\\scripts\\2.demos_files\\zip\\dts\")\n",
    "exampleZip.extractall(r\"../dts\")\n",
    "\n",
    "exampleZip.close()"
   ]
  },
  {
   "cell_type": "code",
   "execution_count": 45,
   "metadata": {},
   "outputs": [],
   "source": [
    "def descomprimir(archivo, dts='./'):\n",
    "    exampleZip = zipfile.ZipFile(archivo)\n",
    "    exampleZip.extractall(dts)\n",
    "    exampleZip.close()\n",
    "    "
   ]
  },
  {
   "cell_type": "code",
   "execution_count": 46,
   "metadata": {},
   "outputs": [],
   "source": [
    "\n",
    "archivo = './zip_images.zip'\n",
    "descomprimir(archivo)"
   ]
  },
  {
   "cell_type": "code",
   "execution_count": 47,
   "metadata": {},
   "outputs": [],
   "source": [
    "# etrayendo un elemento de archivo zipeado\n",
    "exampleZip = zipfile.ZipFile(archivo)\n",
    "exampleZip.extract('clase_example.PNG')\n",
    "exampleZip.extract('objeto_example.PNG', '../')\n",
    "exampleZip.close()"
   ]
  },
  {
   "cell_type": "code",
   "execution_count": null,
   "metadata": {},
   "outputs": [],
   "source": []
  },
  {
   "cell_type": "code",
   "execution_count": null,
   "metadata": {},
   "outputs": [],
   "source": []
  },
  {
   "cell_type": "markdown",
   "metadata": {},
   "source": [
    "### Creando y añadiendo archivos a zip"
   ]
  },
  {
   "cell_type": "code",
   "execution_count": 48,
   "metadata": {},
   "outputs": [
    {
     "data": {
      "text/plain": [
       "'C:\\\\Users\\\\gon_2\\\\OneDrive - UNIVERSIDAD NACIONAL DE INGENIERIA\\\\Desktop\\\\PythonFundamentos\\\\Modulo4\\\\scripts\\\\2.demos_files\\\\zip\\\\extract'"
      ]
     },
     "execution_count": 48,
     "metadata": {},
     "output_type": "execute_result"
    }
   ],
   "source": [
    "os.getcwd()"
   ]
  },
  {
   "cell_type": "code",
   "execution_count": 49,
   "metadata": {},
   "outputs": [],
   "source": [
    "import zipfile\n",
    "\n",
    "newZip = zipfile.ZipFile('new.zip', 'w')\n",
    "newZip.write('./objeto_example.PNG', compress_type=zipfile.ZIP_DEFLATED)\n",
    "newZip.close()"
   ]
  },
  {
   "cell_type": "code",
   "execution_count": null,
   "metadata": {},
   "outputs": [],
   "source": [
    "zipfile.ZipFile()"
   ]
  },
  {
   "cell_type": "code",
   "execution_count": null,
   "metadata": {},
   "outputs": [],
   "source": []
  },
  {
   "cell_type": "code",
   "execution_count": 50,
   "metadata": {},
   "outputs": [
    {
     "name": "stdout",
     "output_type": "stream",
     "text": [
      "clase_example.PNG\n",
      "objeto_example.PNG\n",
      "python_objects.PNG\n",
      "spam.txt\n"
     ]
    }
   ],
   "source": [
    "newZip = zipfile.ZipFile('zip_images.zip', 'w')\n",
    "\n",
    "for file in os.listdir():\n",
    "    \n",
    "    if file.split('.')[-1] not in ['zip']:\n",
    "        print(file)\n",
    "        newZip.write(file, compress_type=zipfile.ZIP_DEFLATED)\n",
    "newZip.close()"
   ]
  },
  {
   "cell_type": "code",
   "execution_count": null,
   "metadata": {},
   "outputs": [],
   "source": []
  }
 ],
 "metadata": {
  "kernelspec": {
   "display_name": "Python 3",
   "language": "python",
   "name": "python3"
  },
  "language_info": {
   "codemirror_mode": {
    "name": "ipython",
    "version": 3
   },
   "file_extension": ".py",
   "mimetype": "text/x-python",
   "name": "python",
   "nbconvert_exporter": "python",
   "pygments_lexer": "ipython3",
   "version": "3.8.11"
  }
 },
 "nbformat": 4,
 "nbformat_minor": 4
}
