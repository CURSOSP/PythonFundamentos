{
 "cells": [
  {
   "cell_type": "code",
   "execution_count": null,
   "metadata": {},
   "outputs": [],
   "source": []
  },
  {
   "cell_type": "markdown",
   "metadata": {},
   "source": [
    "## Problema 1"
   ]
  },
  {
   "cell_type": "markdown",
   "metadata": {},
   "source": [
    "Realizar una función que permita la carga de n alumnos. Por cada alumno se deberá preguntar el nombre completo y permitir el ingreso de 3 notas. Las notas deben estar comprendidas entre 0 y 10. Devolver el listado de alumnos."
   ]
  },
  {
   "cell_type": "code",
   "execution_count": 76,
   "metadata": {},
   "outputs": [],
   "source": [
    "def valida_nota(nota):\n",
    "    while nota.isnumeric()==False:\n",
    "        nota=input(\"Nota invalida, ingrese nuevamente la nota:\")\n",
    "\n",
    "    while (float(nota)<0 or float(nota)>10):\n",
    "        nota=input(\"Nota invalida, ingrese nuevamente la nota:\")\n",
    "    return nota"
   ]
  },
  {
   "cell_type": "code",
   "execution_count": 77,
   "metadata": {},
   "outputs": [],
   "source": [
    "def agregar_alumnos():\n",
    "    registro=[]\n",
    "    ingresar_alumno=True\n",
    "\n",
    "    while ingresar_alumno:\n",
    "        respuesta=input(\"Desea registrar más alumnos? si | no: \")\n",
    "\n",
    "        if respuesta.upper()=='SI':\n",
    "            alumno={}\n",
    "            nombre=input(\"Ingrese el nombre del alumno: \")\n",
    "            if nombre:\n",
    "                alumno[\"nombre\"]=nombre\n",
    "            n=[]\n",
    "            for nota in range(3):\n",
    "                p=input(f\"ingrese la nota{nota+1}, notas del 0-10: \")  \n",
    "                n.append(float(valida_nota(p)))\n",
    "\n",
    "            alumno[\"notas\"]=n\n",
    "            registro.append(alumno)\n",
    "        elif respuesta.upper()=='NO':\n",
    "            print(\"Se registraron {} alumnos\".format(len(registro)))\n",
    "            ingresar_alumno=False\n",
    "            break\n",
    "        else:\n",
    "            print(\"No le entendí, marque 'si' o 'no'\")\n",
    "            pass\n",
    "        pass\n",
    "    print(registro)\n",
    "    return registro"
   ]
  },
  {
   "cell_type": "code",
   "execution_count": 78,
   "metadata": {},
   "outputs": [
    {
     "name": "stdin",
     "output_type": "stream",
     "text": [
      "Desea registrar más alumnos? si | no:  si\n",
      "Ingrese el nombre del alumno:  GONZALO PEREZ RUBIO\n",
      "ingrese la nota1, notas del 0-10:  6\n",
      "ingrese la nota2, notas del 0-10:  6\n",
      "ingrese la nota3, notas del 0-10:  6\n",
      "Desea registrar más alumnos? si | no:  SI\n",
      "Ingrese el nombre del alumno:  LUCIA TELLO QUIROZ\n",
      "ingrese la nota1, notas del 0-10:  2\n",
      "ingrese la nota2, notas del 0-10:  1\n",
      "ingrese la nota3, notas del 0-10:  2\n",
      "Desea registrar más alumnos? si | no:  SI\n",
      "Ingrese el nombre del alumno:  ERIKA CAROLINA NAVARRO\n",
      "ingrese la nota1, notas del 0-10:  3\n",
      "ingrese la nota2, notas del 0-10:  3\n",
      "ingrese la nota3, notas del 0-10:  3\n",
      "Desea registrar más alumnos? si | no:  SI\n",
      "Ingrese el nombre del alumno:  GONZALO TELLO NAVARRO\n",
      "ingrese la nota1, notas del 0-10:  5\n",
      "ingrese la nota2, notas del 0-10:  7\n",
      "ingrese la nota3, notas del 0-10:  8\n",
      "Desea registrar más alumnos? si | no:  NO\n"
     ]
    },
    {
     "name": "stdout",
     "output_type": "stream",
     "text": [
      "Se registraron 4 alumnos\n",
      "[{'nombre': 'GONZALO PEREZ RUBIO', 'notas': [6.0, 6.0, 6.0]}, {'nombre': 'LUCIA TELLO QUIROZ', 'notas': [2.0, 1.0, 2.0]}, {'nombre': 'ERIKA CAROLINA NAVARRO', 'notas': [3.0, 3.0, 3.0]}, {'nombre': 'GONZALO TELLO NAVARRO', 'notas': [5.0, 7.0, 8.0]}]\n"
     ]
    }
   ],
   "source": [
    "listado_alumnos=agregar_alumnos()"
   ]
  },
  {
   "cell_type": "markdown",
   "metadata": {},
   "source": [
    "## Problema2"
   ]
  },
  {
   "cell_type": "markdown",
   "metadata": {},
   "source": [
    "Definir una función que dado un listado de alumnos evalúe cuántos aprobaron y cuántos desaprobaron, teniendo en cuenta que se aprueba con 4. La nota será el promedio de las 3 notas para cada alumno."
   ]
  },
  {
   "cell_type": "code",
   "execution_count": 56,
   "metadata": {},
   "outputs": [],
   "source": [
    "def evaluarNotas(listado_alumnos):\n",
    "    num_aprobados=0\n",
    "    num_desaprobados=0\n",
    "    \n",
    "    for alumno in listado_alumnos:\n",
    "        promedio_notas=sum(alumno[\"notas\"])/3\n",
    "        if promedio_notas>=4:\n",
    "            num_aprobados+=1\n",
    "        else:\n",
    "            num_desaprobados+=1\n",
    "\n",
    "    print(\"Cantidad alumnos aprobados:{}\".format(num_aprobados))\n",
    "    print(\"Cantidad alumnos reaprobados:{}\".format(num_desaprobados))"
   ]
  },
  {
   "cell_type": "code",
   "execution_count": null,
   "metadata": {},
   "outputs": [],
   "source": [
    "evaluarNotas(listado_alumnos)"
   ]
  },
  {
   "cell_type": "markdown",
   "metadata": {},
   "source": [
    "## Problema3"
   ]
  },
  {
   "cell_type": "markdown",
   "metadata": {},
   "source": [
    "Informar el promedio de nota del curso total."
   ]
  },
  {
   "cell_type": "code",
   "execution_count": 42,
   "metadata": {},
   "outputs": [],
   "source": [
    "def promedioTotal(listado_alumnos):\n",
    "    total = 0\n",
    "    promedio_notas=[]\n",
    "    for alumno in listado_alumnos:\n",
    "        promedio_notas.append(sum(alumno[\"notas\"])/3)\n",
    "        \n",
    "    prom_total=sum(promedio_notas)/len(promedio_notas)\n",
    "    print(f\"El promedio de nota del curso total fue de {prom_total}\")"
   ]
  },
  {
   "cell_type": "code",
   "execution_count": 43,
   "metadata": {},
   "outputs": [
    {
     "name": "stdout",
     "output_type": "stream",
     "text": [
      "El promedio de nota del curso total fue de 6.0\n"
     ]
    }
   ],
   "source": [
    "promedioTotal(listado_alumnos)"
   ]
  },
  {
   "cell_type": "markdown",
   "metadata": {},
   "source": [
    "## Problema 4"
   ]
  },
  {
   "cell_type": "markdown",
   "metadata": {},
   "source": [
    "Realizar una función que indique quién tuvo el promedio más alto y quién tuvo la nota promedio más baja."
   ]
  },
  {
   "cell_type": "code",
   "execution_count": 53,
   "metadata": {},
   "outputs": [],
   "source": [
    "def min_max_promedio(listado_alumnos):\n",
    "    max_nota=0\n",
    "    min_nota=40\n",
    "\n",
    "    for alumno in listado_alumnos:\n",
    "        if sum(alumno[\"notas\"])>max_nota:\n",
    "            max_nota=sum(alumno[\"notas\"])\n",
    "\n",
    "        if sum(alumno[\"notas\"])<min_nota:\n",
    "            min_nota=sum(alumno[\"notas\"])\n",
    "\n",
    "    alum_max_nota=[alumno[\"nombre\"] for alumno in listado_alumnos if sum(alumno[\"notas\"])==max_nota]\n",
    "    alum_min_nota=[alumno[\"nombre\"] for alumno in listado_alumnos if sum(alumno[\"notas\"])==min_nota]\n",
    "\n",
    "    print(f\"alumno max promedio:{alum_max_nota} \")\n",
    "    print(f\"alumno min promedio: {alum_min_nota}\")"
   ]
  },
  {
   "cell_type": "code",
   "execution_count": 54,
   "metadata": {},
   "outputs": [
    {
     "name": "stdout",
     "output_type": "stream",
     "text": [
      "alumno max promedio:['gonzalo'] \n",
      "alumno min promedio: ['gonzalo']\n"
     ]
    }
   ],
   "source": [
    "min_max_promedio(listado_alumnos)"
   ]
  },
  {
   "cell_type": "code",
   "execution_count": 51,
   "metadata": {},
   "outputs": [
    {
     "data": {
      "text/plain": [
       "['gonzalo']"
      ]
     },
     "execution_count": 51,
     "metadata": {},
     "output_type": "execute_result"
    }
   ],
   "source": [
    "alum_min_nota"
   ]
  },
  {
   "cell_type": "markdown",
   "metadata": {},
   "source": [
    "## Problema 5"
   ]
  },
  {
   "cell_type": "markdown",
   "metadata": {},
   "source": [
    "Realizar una función que permita buscar un alumno por nombre, siendo el nombre completo o parcial, y devuelva una lista con los n alumnos que concuerden con ese nombre junto con todos sus datos, incluido el promedio de sus notas."
   ]
  },
  {
   "cell_type": "code",
   "execution_count": 58,
   "metadata": {},
   "outputs": [],
   "source": [
    "import re"
   ]
  },
  {
   "cell_type": "code",
   "execution_count": 91,
   "metadata": {},
   "outputs": [],
   "source": [
    "def busqueda_por_nombre(listado_alumnos):\n",
    "    nombre_patron=input(\"ingrese el nombre o del alumno a buscar: \")\n",
    "    nombre_patron=nombre_patron.upper()\n",
    "    print(nombre_patron)\n",
    "    busqueda=[]\n",
    "    for alumno in listado_alumnos:\n",
    "        if alumno[\"nombre\"].upper().find(nombre_patron)>=0:\n",
    "            busqueda.append(alumno)\n",
    "    \n",
    "    if busqueda:\n",
    "        print(f\"se hallaron los siguientes alumnos con el nombre: {nombre_patron}\")\n",
    "        p=[print(f\"{alumno}\") for alumno in busqueda]\n",
    "    else:\n",
    "        print(f\"no se hallaron alumnos con el nombre: {nombre_patron}\")"
   ]
  },
  {
   "cell_type": "code",
   "execution_count": 92,
   "metadata": {},
   "outputs": [
    {
     "name": "stdin",
     "output_type": "stream",
     "text": [
      "ingrese el nombre o del alumno a buscar:  gonzalo\n"
     ]
    },
    {
     "name": "stdout",
     "output_type": "stream",
     "text": [
      "GONZALO\n",
      "se hallaron los siguientes alumnos con el nombre: GONZALO\n",
      "{'nombre': 'GONZALO PEREZ RUBIO', 'notas': [6.0, 6.0, 6.0]}\n",
      "{'nombre': 'GONZALO TELLO NAVARRO', 'notas': [5.0, 7.0, 8.0]}\n"
     ]
    }
   ],
   "source": [
    "busqueda_por_nombre(listado_alumnos)"
   ]
  },
  {
   "cell_type": "code",
   "execution_count": 86,
   "metadata": {},
   "outputs": [],
   "source": [
    "import re\n",
    "\n",
    "def findWholeWord(w):\n",
    "    return re.compile(r'\\b({0})\\b'.format(w), flags=re.IGNORECASE).search\n",
    "\n",
    "p=findWholeWord('sek')('those who seek shall find')"
   ]
  },
  {
   "cell_type": "code",
   "execution_count": 85,
   "metadata": {},
   "outputs": [
    {
     "ename": "KeyError",
     "evalue": "'alumno'",
     "output_type": "error",
     "traceback": [
      "\u001b[1;31m---------------------------------------------------------------------------\u001b[0m",
      "\u001b[1;31mKeyError\u001b[0m                                  Traceback (most recent call last)",
      "\u001b[1;32m<ipython-input-85-a096b44c4f4b>\u001b[0m in \u001b[0;36m<module>\u001b[1;34m\u001b[0m\n\u001b[0;32m      1\u001b[0m \u001b[1;32mfor\u001b[0m \u001b[0malumno\u001b[0m \u001b[1;32min\u001b[0m \u001b[0mlistado_alumnos\u001b[0m\u001b[1;33m:\u001b[0m\u001b[1;33m\u001b[0m\u001b[1;33m\u001b[0m\u001b[0m\n\u001b[1;32m----> 2\u001b[1;33m     \u001b[1;32mif\u001b[0m \u001b[0mre\u001b[0m\u001b[1;33m.\u001b[0m\u001b[0mcompile\u001b[0m\u001b[1;33m(\u001b[0m\u001b[1;34mr'\\b({alumno[\"nombre\"]})\\b'\u001b[0m\u001b[1;33m.\u001b[0m\u001b[0mformat\u001b[0m\u001b[1;33m(\u001b[0m\u001b[0mnombre_patron\u001b[0m\u001b[1;33m)\u001b[0m\u001b[1;33m,\u001b[0m \u001b[0mflags\u001b[0m\u001b[1;33m=\u001b[0m\u001b[0mre\u001b[0m\u001b[1;33m.\u001b[0m\u001b[0mIGNORECASE\u001b[0m\u001b[1;33m)\u001b[0m\u001b[1;33m.\u001b[0m\u001b[0msearch\u001b[0m\u001b[1;33m:\u001b[0m\u001b[1;33m\u001b[0m\u001b[1;33m\u001b[0m\u001b[0m\n\u001b[0m\u001b[0;32m      3\u001b[0m         \u001b[0mprint\u001b[0m\u001b[1;33m(\u001b[0m\u001b[1;34mf\"{alumno}\"\u001b[0m\u001b[1;33m)\u001b[0m\u001b[1;33m\u001b[0m\u001b[1;33m\u001b[0m\u001b[0m\n",
      "\u001b[1;31mKeyError\u001b[0m: 'alumno'"
     ]
    }
   ],
   "source": [
    "for alumno in listado_alumnos:\n",
    "    \n",
    "    if re.compile(r'\\b({alumno[\"nombre\"]})\\b'.format(nombre_patron), flags=re.IGNORECASE).search:\n",
    "        print(f\"{alumno}\")"
   ]
  },
  {
   "cell_type": "code",
   "execution_count": 90,
   "metadata": {},
   "outputs": [
    {
     "data": {
      "text/plain": [
       "-1"
      ]
     },
     "execution_count": 90,
     "metadata": {},
     "output_type": "execute_result"
    }
   ],
   "source": [
    "'LUCIA TELLO QUIROZ'.find('gonzalo')"
   ]
  }
 ],
 "metadata": {
  "kernelspec": {
   "display_name": "Python 3",
   "language": "python",
   "name": "python3"
  },
  "language_info": {
   "codemirror_mode": {
    "name": "ipython",
    "version": 3
   },
   "file_extension": ".py",
   "mimetype": "text/x-python",
   "name": "python",
   "nbconvert_exporter": "python",
   "pygments_lexer": "ipython3",
   "version": "3.7.6"
  }
 },
 "nbformat": 4,
 "nbformat_minor": 4
}
