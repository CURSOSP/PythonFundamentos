{
 "cells": [
  {
   "cell_type": "markdown",
   "metadata": {},
   "source": [
    "# Estructuras de Control Iterativas"
   ]
  },
  {
   "cell_type": "markdown",
   "metadata": {},
   "source": [
    "A diferencia de las estructuras de control condicionales, las iterativas (también llamadas cíclicas o bucles), nos permiten ejecutar un mismo código, de manera repetida, mientras se cumpla una condición. En Python se dispone de dos estructuras cíclicas: \n",
    "- El bucle while \n",
    "- El bucle for \n",
    "\n",
    "Las veremos en detalle a continuación. "
   ]
  },
  {
   "cell_type": "markdown",
   "metadata": {
    "tags": []
   },
   "source": [
    "## Bucle While\n",
    "------------------------------"
   ]
  },
  {
   "cell_type": "markdown",
   "metadata": {},
   "source": [
    "Se basa en <b>repetir un bloque a partir de evaluar una condición lógica, siempre que ésta sea True</b>. Queda en las manos del programador decidir el momento en que la condición cambie a False para hacer que el While finalice."
   ]
  },
  {
   "cell_type": "markdown",
   "metadata": {},
   "source": [
    "### Ejemplo\n",
    "\n",
    "Mientras que año sea menor o igual a 2012, imprimir la frase “Informes del Año año”\n"
   ]
  },
  {
   "cell_type": "code",
   "execution_count": null,
   "metadata": {},
   "outputs": [],
   "source": [
    "# -*- coding: utf-8 -*\n",
    "\n",
    "# para el año 2008,2009,2010 no debo entregar informe\n",
    "\n",
    "# si el año es 2007 parar el bucle\n",
    "anio = 2001\n",
    "while anio <= 2012:\n",
    "    #if anio == 2007:\n",
    "    #    print('Paramos todo el bucle para el anio 2007')\n",
    "    #    break\n",
    "    \n",
    "    if anio in [2008,2009,2010]:\n",
    "        #print(f'No entro informe para {anio}')\n",
    "        anio +=1\n",
    "        continue\n",
    "    \n",
    "    print(\"Informes del Año {}\".format(anio))\n",
    "    \n",
    "    anio += 1\n",
    "    pass # no hace nada -> servia de guia para saber donde acaba cierta instrucción\n",
    "    \n",
    "print('Finalizo el bucle')"
   ]
  },
  {
   "cell_type": "markdown",
   "metadata": {},
   "source": [
    "Si miras la última línea:\n",
    "\n",
    "<code>anio += 1</code>\n",
    "\n",
    "Podrás notar que en cada iteración, incrementamos el valor de la variable que condiciona el bucle (anio). Si no lo hiciéramos, esta variable siempre sería igual a 2001 y el bucle se ejecutaría de forma infinita, ya que la condición (anio <= 2012) siempre se estaría cumpliendo. "
   ]
  },
  {
   "cell_type": "code",
   "execution_count": null,
   "metadata": {},
   "outputs": [],
   "source": []
  },
  {
   "cell_type": "markdown",
   "metadata": {},
   "source": [
    "### - Instruccion <b>break</b>"
   ]
  },
  {
   "cell_type": "markdown",
   "metadata": {},
   "source": [
    "Sirve para \"romper\" la ejecución del While en cualquier momento. "
   ]
  },
  {
   "cell_type": "code",
   "execution_count": null,
   "metadata": {},
   "outputs": [],
   "source": [
    "c = 0\n",
    "while c <= 5:\n",
    "    print(\"c vale \",c)\n",
    "    if c == 4:\n",
    "        print(\"Rompemos el bucle cuando c vale \", c)\n",
    "        break\n",
    "    c+=1\n",
    "    "
   ]
  },
  {
   "cell_type": "code",
   "execution_count": null,
   "metadata": {},
   "outputs": [],
   "source": []
  },
  {
   "cell_type": "markdown",
   "metadata": {},
   "source": [
    "### - Instruccion <b>continue</b>"
   ]
  },
  {
   "cell_type": "markdown",
   "metadata": {},
   "source": [
    "Sirve para \"saltarse\" la iteración actual sin romper el bucle."
   ]
  },
  {
   "cell_type": "code",
   "execution_count": null,
   "metadata": {},
   "outputs": [],
   "source": [
    "c = 0\n",
    "while c <= 5:\n",
    "    c+=1\n",
    "    if c==3 or c==4:\n",
    "        print(\"Continuamos con la siguiente iteración\", c)\n",
    "        continue\n",
    "    print(\"c vale\",c)"
   ]
  },
  {
   "cell_type": "code",
   "execution_count": null,
   "metadata": {},
   "outputs": [],
   "source": []
  },
  {
   "cell_type": "markdown",
   "metadata": {},
   "source": [
    "### Ejemplo Menú Interactivo"
   ]
  },
  {
   "cell_type": "code",
   "execution_count": null,
   "metadata": {},
   "outputs": [],
   "source": [
    "print(\"Bienvenido al menú interactivo\")\n",
    "#verdad = True -> cualquier nro menos el 0\n",
    "while True:\n",
    "    print(\"\"\"¿Qué quieres hacer? Escribe una opción\n",
    "    1) Saludar\n",
    "    2) Sumar dos números\n",
    "    3) Salir\"\"\")\n",
    "    \n",
    "    opcion = input() # me devuelve un string ''\n",
    "    if opcion == '1':\n",
    "        print(\"Hola, espero que te lo estés pasando bien\")\n",
    "    elif opcion == '2':\n",
    "        n1 = float(input(\"Introduce el primer número: \"))\n",
    "        n2 = float(input(\"Introduce el segundo número: \"))\n",
    "        print(f\"El resultado de la suma es: {n1+n2}\")\n",
    "    elif opcion =='3':\n",
    "        print(\"¡Hasta luego! Ha sido un placer ayudarte\")\n",
    "        #verdad = False\n",
    "        break\n",
    "    else:\n",
    "        print(\"Comando desconocido, vuelve a intentarlo\")"
   ]
  },
  {
   "cell_type": "code",
   "execution_count": null,
   "metadata": {},
   "outputs": [],
   "source": []
  },
  {
   "cell_type": "code",
   "execution_count": null,
   "metadata": {},
   "outputs": [],
   "source": []
  },
  {
   "cell_type": "markdown",
   "metadata": {},
   "source": [
    "### EJERCICIOS"
   ]
  },
  {
   "cell_type": "markdown",
   "metadata": {},
   "source": [
    "Realiza un programa que lea dos números por teclado y permita elegir entre 3 opciones en un menú:\n",
    "\n",
    "- Mostrar una suma de los dos números\n",
    "- Mostrar una resta de los dos números (el primero menos el segundo)\n",
    "- Mostrar una multiplicación de los dos números\n",
    "\n",
    "En caso de introducir una opción inválida, el programa informará de que no es correcta"
   ]
  },
  {
   "cell_type": "code",
   "execution_count": 1,
   "metadata": {},
   "outputs": [
    {
     "name": "stdout",
     "output_type": "stream",
     "text": [
      "Bienvenido al menú interactivo\n"
     ]
    },
    {
     "name": "stdin",
     "output_type": "stream",
     "text": [
      "¿Qué quieres hacer? Escribe una opción\n",
      "    1) Suma de números\n",
      "    2) Resta de números (el primero menos el segundo)\n",
      "    3) Multiplicación de los números 1\n"
     ]
    },
    {
     "name": "stdout",
     "output_type": "stream",
     "text": [
      "Digite 2 numeros: \n"
     ]
    },
    {
     "name": "stdin",
     "output_type": "stream",
     "text": [
      "Primer número:  23\n",
      "Segundo número:  7\n"
     ]
    },
    {
     "name": "stdout",
     "output_type": "stream",
     "text": [
      "La suma es 30.0\n",
      "Gracias por usar nuestro menú interactivo\n"
     ]
    }
   ],
   "source": [
    "print(\"Bienvenido al menú interactivo\")\n",
    "\n",
    "msg = \"\"\"¿Qué quieres hacer? Escribe una opción\n",
    "    1) Suma de números\n",
    "    2) Resta de números (el primero menos el segundo)\n",
    "    3) Multiplicación de los números\"\"\"\n",
    "\n",
    "while True:\n",
    "    opcion = input(msg) # me devuelve un string ''\n",
    "    if opcion == '1':\n",
    "        print(\"Digite 2 numeros: \")\n",
    "        num1 = float(input(\"Primer número: \"))\n",
    "        num2 = float(input(\"Segundo número: \"))\n",
    "        \n",
    "        suma = num1 + num2\n",
    "        print(f\"La suma es {suma}\")\n",
    "        \n",
    "        break\n",
    "    elif opcion == '2':\n",
    "        print(\"Digite 2 numeros: \")\n",
    "        num1 = float(input(\"Primer número: \"))\n",
    "        num2 = float(input(\"Segundo número: \"))\n",
    "        \n",
    "        rest = num1 - num2\n",
    "        print(f\"La suma es {rest}\")\n",
    "         #bandera = False\n",
    "        break\n",
    "    elif opcion =='3':\n",
    "        print(\"Digite 2 numeros: \")\n",
    "        num1 = float(input(\"Primer número: \"))\n",
    "        num2 = float(input(\"Segundo número: \"))\n",
    "        \n",
    "        mult = num1 * num2\n",
    "        print(f\"La multiplicacion es {mult}\")\n",
    "        #bandera = False\n",
    "        break\n",
    "    else:\n",
    "        print(\"Comando desconocido, digite una opción válida\")\n",
    "        \n",
    "        \n",
    "print(\"Gracias por usar nuestro menú interactivo\")\n"
   ]
  },
  {
   "cell_type": "code",
   "execution_count": null,
   "metadata": {},
   "outputs": [],
   "source": [
    "\n"
   ]
  },
  {
   "cell_type": "markdown",
   "metadata": {
    "tags": []
   },
   "source": [
    "## Bucle For\n",
    "----------------------------------------------"
   ]
  },
  {
   "cell_type": "markdown",
   "metadata": {},
   "source": [
    "El bucle <code>for</code>, en Python, es aquel que nos permitirá iterar sobre una variable compleja, del tipo lista o tupla:"
   ]
  },
  {
   "cell_type": "code",
   "execution_count": 5,
   "metadata": {},
   "outputs": [
    {
     "name": "stdout",
     "output_type": "stream",
     "text": [
      "Juan\n",
      "Antonio\n",
      "Pedro\n",
      "Herminio\n"
     ]
    }
   ],
   "source": [
    "# Iterando sobre listas\n",
    "lista_nombres = ['Juan', 'Antonio', 'Pedro', 'Herminio']\n",
    "\n",
    "for nombre in lista_nombres:\n",
    "    print(nombre)"
   ]
  },
  {
   "cell_type": "code",
   "execution_count": 6,
   "metadata": {},
   "outputs": [
    {
     "name": "stdout",
     "output_type": "stream",
     "text": [
      "12\n",
      "15\n"
     ]
    }
   ],
   "source": [
    "num1, num2 = [12,15]\n",
    "print(num1)\n",
    "print(num2)"
   ]
  },
  {
   "cell_type": "code",
   "execution_count": 10,
   "metadata": {},
   "outputs": [
    {
     "data": {
      "text/plain": [
       "[(0, 'Juan'), (1, 'Antonio'), (2, 'Pedro'), (3, 'Herminio')]"
      ]
     },
     "execution_count": 10,
     "metadata": {},
     "output_type": "execute_result"
    }
   ],
   "source": [
    "[*enumerate(lista_nombres)]"
   ]
  },
  {
   "cell_type": "code",
   "execution_count": 13,
   "metadata": {},
   "outputs": [
    {
     "name": "stdout",
     "output_type": "stream",
     "text": [
      "0 Juan\n",
      "1 Antonio\n",
      "2 Pedro\n",
      "3 Herminio\n"
     ]
    }
   ],
   "source": [
    "for i,nombre in enumerate(lista_nombres):\n",
    "    print(i, nombre)"
   ]
  },
  {
   "cell_type": "code",
   "execution_count": 14,
   "metadata": {},
   "outputs": [
    {
     "name": "stdout",
     "output_type": "stream",
     "text": [
      "['Maria', 'Antonio', 'Pedro', 'Maria', 'Herminio', 'Maria']\n"
     ]
    }
   ],
   "source": [
    "# Modificando valores sobre listas\n",
    "mi_lista = ['Juan', 'Antonio', 'Pedro','Juan', 'Herminio','Juan']\n",
    "\n",
    "for indice,nombre in enumerate(mi_lista):\n",
    "    # print(indice, nombre)\n",
    "    if nombre == 'Juan':\n",
    "        mi_lista[indice] = 'Maria'\n",
    "\n",
    "print(mi_lista)\n",
    "    \n"
   ]
  },
  {
   "cell_type": "code",
   "execution_count": null,
   "metadata": {},
   "outputs": [],
   "source": []
  },
  {
   "cell_type": "code",
   "execution_count": 15,
   "metadata": {},
   "outputs": [
    {
     "data": {
      "text/plain": [
       "['Maria', 'Antonio', 'Pedro', 'Maria', 'Herminio', 'Maria']"
      ]
     },
     "execution_count": 15,
     "metadata": {},
     "output_type": "execute_result"
    }
   ],
   "source": [
    "# valor cambiado\n",
    "mi_lista"
   ]
  },
  {
   "cell_type": "code",
   "execution_count": 18,
   "metadata": {},
   "outputs": [
    {
     "data": {
      "text/plain": [
       "{'key1': 10, 'key2': 2, 'key3': 3}"
      ]
     },
     "execution_count": 18,
     "metadata": {},
     "output_type": "execute_result"
    }
   ],
   "source": [
    "# Iterando sobre diccionarios\n",
    "dicx = {'key1':1,'key2':2,'key3':3}\n",
    "\n",
    "for key,value in dicx.items():\n",
    "    if key == 'key1':\n",
    "        dicx[key] = 10\n",
    "    \n",
    "dicx"
   ]
  },
  {
   "cell_type": "code",
   "execution_count": 19,
   "metadata": {},
   "outputs": [
    {
     "data": {
      "text/plain": [
       "dict_items([('key1', 10), ('key2', 2), ('key3', 3)])"
      ]
     },
     "execution_count": 19,
     "metadata": {},
     "output_type": "execute_result"
    }
   ],
   "source": [
    "dicx.items()"
   ]
  },
  {
   "cell_type": "code",
   "execution_count": 20,
   "metadata": {},
   "outputs": [],
   "source": [
    "dicx['key1'] = 10"
   ]
  },
  {
   "cell_type": "code",
   "execution_count": 21,
   "metadata": {},
   "outputs": [
    {
     "name": "stdout",
     "output_type": "stream",
     "text": [
      "0 H\n",
      "1 o\n",
      "2 l\n",
      "3 a\n",
      "4  \n",
      "5 M\n",
      "6 u\n",
      "7 n\n",
      "8 d\n",
      "9 o\n"
     ]
    }
   ],
   "source": [
    "# Iterando sobre strings\n",
    "texto = 'Hola Mundo'\n",
    "\n",
    "for i, letra in enumerate(texto):\n",
    "    print(i, letra)"
   ]
  },
  {
   "cell_type": "code",
   "execution_count": 22,
   "metadata": {},
   "outputs": [],
   "source": [
    "texto= 'Hola Mundo'"
   ]
  },
  {
   "cell_type": "code",
   "execution_count": 23,
   "metadata": {},
   "outputs": [
    {
     "data": {
      "text/plain": [
       "'Hola Mundo'"
      ]
     },
     "execution_count": 23,
     "metadata": {},
     "output_type": "execute_result"
    }
   ],
   "source": [
    "texto"
   ]
  },
  {
   "cell_type": "code",
   "execution_count": 26,
   "metadata": {},
   "outputs": [
    {
     "data": {
      "text/plain": [
       "'H'"
      ]
     },
     "execution_count": 26,
     "metadata": {},
     "output_type": "execute_result"
    }
   ],
   "source": [
    "texto[0]"
   ]
  },
  {
   "cell_type": "code",
   "execution_count": 29,
   "metadata": {},
   "outputs": [
    {
     "data": {
      "text/plain": [
       "'Hxla Mundx'"
      ]
     },
     "execution_count": 29,
     "metadata": {},
     "output_type": "execute_result"
    }
   ],
   "source": [
    "# cambiar las 'o' por 'x' en variable texto -> 'Hola Mundo'\n",
    "texto_s = ''\n",
    "for l in texto:\n",
    "    if l != 'o':\n",
    "        texto_s += l\n",
    "    else:\n",
    "        texto_s += 'x'\n",
    "texto_s"
   ]
  },
  {
   "cell_type": "code",
   "execution_count": 28,
   "metadata": {},
   "outputs": [
    {
     "name": "stdout",
     "output_type": "stream",
     "text": [
      "H\n",
      "Ho\n",
      "Hol\n",
      "Hola\n",
      "Hola \n",
      "Hola M\n",
      "Hola Mu\n",
      "Hola Mun\n",
      "Hola Mund\n",
      "Hola Mundo\n"
     ]
    },
    {
     "data": {
      "text/plain": [
       "'Hola Mundo'"
      ]
     },
     "execution_count": 28,
     "metadata": {},
     "output_type": "execute_result"
    }
   ],
   "source": [
    "texto_s = ''\n",
    "for l in texto:\n",
    "    texto_s = texto_s + l\n",
    "    print(texto_s)\n",
    "texto_s"
   ]
  },
  {
   "cell_type": "markdown",
   "metadata": {},
   "source": [
    "### Funcion Range"
   ]
  },
  {
   "cell_type": "markdown",
   "metadata": {},
   "source": [
    "Sirve para generar una lista de números que podemos recorrer fácilmente, pero no ocupa memoria porque se interpreta sobre la marcha:\n",
    "\n"
   ]
  },
  {
   "cell_type": "markdown",
   "metadata": {},
   "source": [
    "<img src='https://cdn.techbeamers.com/wp-content/uploads/2019/05/Python-range-function-explained.png'>"
   ]
  },
  {
   "cell_type": "code",
   "execution_count": 30,
   "metadata": {},
   "outputs": [
    {
     "data": {
      "text/plain": [
       "[0, 1, 2, 3, 4, 5, 6, 7, 8, 9]"
      ]
     },
     "execution_count": 30,
     "metadata": {},
     "output_type": "execute_result"
    }
   ],
   "source": [
    "# range -> no es un lista\n",
    "# si quiero convetir el range a una lista debo  hacer\n",
    "[*range(10)]"
   ]
  },
  {
   "cell_type": "code",
   "execution_count": 34,
   "metadata": {},
   "outputs": [
    {
     "data": {
      "text/plain": [
       "[1, 3, 5, 7, 9]"
      ]
     },
     "execution_count": 34,
     "metadata": {},
     "output_type": "execute_result"
    }
   ],
   "source": [
    "[*range(1,10,2)]"
   ]
  },
  {
   "cell_type": "code",
   "execution_count": 35,
   "metadata": {},
   "outputs": [
    {
     "name": "stdout",
     "output_type": "stream",
     "text": [
      "Informes del Año 2001\n",
      "Informes del Año 2002\n",
      "Informes del Año 2003\n",
      "Informes del Año 2004\n",
      "Informes del Año 2005\n",
      "Informes del Año 2006\n",
      "Informes del Año 2007\n",
      "Informes del Año 2008\n",
      "Informes del Año 2009\n",
      "Informes del Año 2010\n",
      "Informes del Año 2011\n",
      "Informes del Año 2012\n"
     ]
    }
   ],
   "source": [
    "# -*- coding: utf-8 -*- \n",
    "# Generarndo un rango de valores del 2001 al 2012\n",
    "for anio in range(2001, 2013):\n",
    "    print(f\"Informes del Año {anio}\")"
   ]
  },
  {
   "cell_type": "code",
   "execution_count": 36,
   "metadata": {},
   "outputs": [
    {
     "name": "stdout",
     "output_type": "stream",
     "text": [
      "#0\n",
      "#1\n",
      "#2\n",
      "#3\n",
      "#4\n",
      "#5\n",
      "#6\n",
      "#7\n",
      "#8\n",
      "#9\n"
     ]
    }
   ],
   "source": [
    "# por defecto el inicio de la funcion es 0\n",
    "for i in range(10):\n",
    "    print(f'#{i}')"
   ]
  },
  {
   "cell_type": "code",
   "execution_count": null,
   "metadata": {},
   "outputs": [],
   "source": []
  },
  {
   "cell_type": "markdown",
   "metadata": {},
   "source": [
    "## EJERCICIOS\n",
    "-----------------------------"
   ]
  },
  {
   "cell_type": "markdown",
   "metadata": {},
   "source": [
    "1. Realiza un programa que pida al usuario cuantos números quiere introducir. Luego lee todos los números y realiza una media aritmética.\n",
    "#### Nota\n",
    "Usar listas\n",
    "\n"
   ]
  },
  {
   "cell_type": "code",
   "execution_count": null,
   "metadata": {},
   "outputs": [],
   "source": []
  },
  {
   "cell_type": "code",
   "execution_count": null,
   "metadata": {},
   "outputs": [],
   "source": []
  },
  {
   "cell_type": "markdown",
   "metadata": {},
   "source": [
    "2. Escribir un programa que pida al usuario un número entero y muestre por pantalla un triángulo rectángulo como el de más abajo, de altura el número introducido.\n",
    "\n"
   ]
  },
  {
   "cell_type": "markdown",
   "metadata": {},
   "source": [
    "Para n = 4\n",
    "\n",
    "<code>#\n",
    "##\n",
    "###\n",
    "####</code>"
   ]
  },
  {
   "cell_type": "code",
   "execution_count": null,
   "metadata": {},
   "outputs": [],
   "source": []
  },
  {
   "cell_type": "code",
   "execution_count": null,
   "metadata": {},
   "outputs": [],
   "source": []
  },
  {
   "cell_type": "markdown",
   "metadata": {},
   "source": [
    "<code>   #\n",
    "  ##\n",
    " ###\n",
    "####</code>"
   ]
  },
  {
   "cell_type": "code",
   "execution_count": null,
   "metadata": {},
   "outputs": [],
   "source": []
  },
  {
   "cell_type": "markdown",
   "metadata": {},
   "source": [
    "3. Escribir un programa que pida al usuario un número entero y muestre por pantalla si es un número primo o no.\n"
   ]
  },
  {
   "cell_type": "code",
   "execution_count": null,
   "metadata": {},
   "outputs": [],
   "source": []
  },
  {
   "cell_type": "code",
   "execution_count": null,
   "metadata": {},
   "outputs": [],
   "source": []
  },
  {
   "cell_type": "code",
   "execution_count": null,
   "metadata": {},
   "outputs": [],
   "source": []
  },
  {
   "cell_type": "markdown",
   "metadata": {},
   "source": [
    "4. Dadas dos listas, debes generar una tercera con todos los elementos que se repitan en ellas, pero no debe repetirse ningún elemento en la nueva lista:\n",
    "\n"
   ]
  },
  {
   "cell_type": "code",
   "execution_count": null,
   "metadata": {},
   "outputs": [],
   "source": [
    "lista_1 = [\"h\",'o','l','a',' ', 'm','u','n','d','o']\n",
    "lista_2 = [\"h\",'o','l','a',' ', 'l','u','n','a']"
   ]
  },
  {
   "cell_type": "code",
   "execution_count": null,
   "metadata": {},
   "outputs": [],
   "source": []
  },
  {
   "cell_type": "markdown",
   "metadata": {},
   "source": [
    "\n",
    "5. Escribir un programa que pida al usuario un número entero y muestre por pantalla un triángulo rectángulo como el de más abajo.\n",
    "\n"
   ]
  },
  {
   "cell_type": "markdown",
   "metadata": {},
   "source": [
    "Para h = 5\n",
    "<code>\n",
    "1\n",
    "3 1\n",
    "5 3 1\n",
    "7 5 3 1\n",
    "9 7 5 3 1</code>"
   ]
  },
  {
   "cell_type": "code",
   "execution_count": null,
   "metadata": {},
   "outputs": [],
   "source": []
  }
 ],
 "metadata": {
  "kernelspec": {
   "display_name": "Python 3 (ipykernel)",
   "language": "python",
   "name": "python3"
  },
  "language_info": {
   "codemirror_mode": {
    "name": "ipython",
    "version": 3
   },
   "file_extension": ".py",
   "mimetype": "text/x-python",
   "name": "python",
   "nbconvert_exporter": "python",
   "pygments_lexer": "ipython3",
   "version": "3.8.11"
  }
 },
 "nbformat": 4,
 "nbformat_minor": 4
}
